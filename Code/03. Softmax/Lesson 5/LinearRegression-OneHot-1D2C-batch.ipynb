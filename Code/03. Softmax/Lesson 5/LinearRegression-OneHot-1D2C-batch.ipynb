{
 "cells": [
  {
   "cell_type": "code",
   "execution_count": 1,
   "metadata": {},
   "outputs": [],
   "source": [
    "import numpy as np\n",
    "from sklearn import preprocessing\n",
    "import matplotlib.pyplot as plt\n",
    "\n",
    "iris = np.genfromtxt('iris_1D_2c.csv', delimiter=',', skip_header=1) \n",
    "X = iris[:, 0:1]\n",
    "y = iris[:, 1]\n",
    "\n",
    "y = y.astype('uint8')\n",
    "X = preprocessing.scale(X)\n",
    "\n",
    "# add 1\n",
    "X = np.hstack((np.ones((len(X), 1)), X))\n",
    "\n",
    "# get parameters\n",
    "m, D = X.shape\n",
    "K = 2\n",
    "\n",
    "def softmax(z):\n",
    "    z -= np.max(z)\n",
    "    return np.exp(z) / np.sum(np.exp(z), axis=1, keepdims=True)\n",
    "\n",
    "def predict(X, theta):\n",
    "    return softmax(np.dot(X, theta))\n",
    "\n",
    "def compute_loss(preds, y):\n",
    "    return np.sum(- np.log(preds[np.arange(m), y]))/m\n",
    "\n",
    "def convert_one_hot(y, K):  \n",
    "    one_hot = np.zeros((len(y), K))\n",
    "    one_hot[np.arange(len(y)), y] = 1\n",
    "    return one_hot\n",
    "\n",
    "def compute_gradient(preds, X, y):\n",
    "    gradient = 1/m * np.dot(X.T, preds - convert_one_hot(y, K))\n",
    "    return gradient\n",
    "\n",
    "# init theta\n",
    "np.random.seed(0)\n",
    "theta = np.random.randn(D, K)\n",
    "\n",
    "hist = {'loss': [], 'acc': []}\n",
    "lr = 0.1\n",
    "\n",
    "num_epoch = 400\n",
    "\n",
    "for i in range(num_epoch):\n",
    "    # compute output\n",
    "    preds = predict(X, theta)\n",
    "    \n",
    "    # compute loss\n",
    "    loss = compute_loss(preds, y)\n",
    "    \n",
    "    # for debug\n",
    "    hist['loss'].append(loss) \n",
    "    \n",
    "    # compute gradient\n",
    "    gradient = compute_gradient(preds, X, y)\n",
    "    \n",
    "    # update\n",
    "    theta = theta - lr*gradient\n",
    "\n",
    "    # for debug\n",
    "    predicted_class = np.argmax(preds, axis=1)\n",
    "    hist['acc'].append(np.mean(predicted_class == y))"
   ]
  },
  {
   "cell_type": "code",
   "execution_count": 2,
   "metadata": {
    "colab": {
     "base_uri": "https://localhost:8080/",
     "height": 623
    },
    "id": "tagqBRvVnVCE",
    "outputId": "8e0e8674-e327-4c72-e62c-ee39c05ef7f2"
   },
   "outputs": [
    {
     "data": {
      "image/png": "[encoded data removed]",
      "text/plain": [
       "<Figure size 432x288 with 1 Axes>"
      ]
     },
     "metadata": {
      "needs_background": "light"
     },
     "output_type": "display_data"
    }
   ],
   "source": [
    "x_axis = range(len(hist['loss']))\n",
    "plt.plot(x_axis, hist['loss'], color=\"r\")\n",
    "plt.show()"
   ]
  },
  {
   "cell_type": "code",
   "execution_count": 3,
   "metadata": {},
   "outputs": [
    {
     "data": {
      "image/png": "[encoded data removed]",
      "text/plain": [
       "<Figure size 432x288 with 1 Axes>"
      ]
     },
     "metadata": {
      "needs_background": "light"
     },
     "output_type": "display_data"
    }
   ],
   "source": [
    "x_axis = range(len(hist['acc']))\n",
    "plt.plot(x_axis, hist['acc'], color=\"r\")\n",
    "plt.show()"
   ]
  },
  {
   "cell_type": "code",
   "execution_count": null,
   "metadata": {},
   "outputs": [],
   "source": []
  }
 ],
 "metadata": {
  "colab": {
   "collapsed_sections": [],
   "name": "Softmax Regression.ipynb",
   "provenance": []
  },
  "kernelspec": {
   "display_name": "Python 3",
   "language": "python",
   "name": "python3"
  },
  "language_info": {
   "codemirror_mode": {
    "name": "ipython",
    "version": 3
   },
   "file_extension": ".py",
   "mimetype": "text/x-python",
   "name": "python",
   "nbconvert_exporter": "python",
   "pygments_lexer": "ipython3",
   "version": "3.7.3"
  }
 },
 "nbformat": 4,
 "nbformat_minor": 1
}
