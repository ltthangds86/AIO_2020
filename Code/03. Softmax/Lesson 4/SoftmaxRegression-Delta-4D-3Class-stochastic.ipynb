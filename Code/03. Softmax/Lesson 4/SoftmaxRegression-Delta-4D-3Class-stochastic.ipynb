{
 "cells": [
  {
   "cell_type": "code",
   "execution_count": 1,
   "metadata": {},
   "outputs": [],
   "source": [
    "import numpy as np\n",
    "import matplotlib.pyplot as plt\n",
    "from sklearn import preprocessing\n",
    "\n",
    "iris = np.genfromtxt('iris_full.csv', delimiter=',', skip_header=1) \n",
    "X = iris[:, 0:4]\n",
    "y = iris[:, 4]\n",
    "y = y.astype('uint8')\n",
    "\n",
    "# normalize\n",
    "X = preprocessing.scale(X)\n",
    "\n",
    "intercept = np.ones((X.shape[0], 1))\n",
    "X = np.concatenate((intercept, X), axis=1)\n",
    "\n",
    "D = 4 # dimensionality\n",
    "K = 3 # number of classes\n",
    "\n",
    "# initialize parameters randomly\n",
    "theta = np.random.randn(D+1,K)\n",
    "\n",
    "# gradient descent loop\n",
    "num_examples = X.shape[0]\n",
    "learning_rate = 0.1\n",
    "\n",
    "losses = []\n",
    "num_iter = 30\n",
    "\n",
    "num_sample_stochastic = 1\n",
    "for epoch in range(num_iter):\n",
    "    for i in range(num_examples): \n",
    "        xi = X[i:i+1]\n",
    "        xi = xi.T\n",
    "        yi = y[i:i+1]\n",
    "        \n",
    "        # evaluate class scores\n",
    "        scores = np.dot(theta.T, xi)\n",
    "        \n",
    "        #compute the class probabilities\n",
    "        exp_scores = np.exp(scores)\n",
    "        probs = exp_scores / np.sum(exp_scores, axis=0, keepdims=True)\n",
    "        \n",
    "        # compute the loss\n",
    "        corect_logprobs = -np.log(probs[yi, range(num_sample_stochastic)])\n",
    "        loss = np.sum(corect_logprobs)\n",
    "        losses.append(loss)\n",
    "                \n",
    "        # compute the gradient on scores\n",
    "        dscores = probs\n",
    "        dscores[yi,0] -= 1\n",
    "        \n",
    "        # backpropate the gradient to the parameters (W,b)\n",
    "        dtheta = np.dot(xi, dscores.T)\n",
    "\n",
    "        # perform a parameter update\n",
    "        theta += -learning_rate *dtheta"
   ]
  },
  {
   "cell_type": "code",
   "execution_count": 2,
   "metadata": {},
   "outputs": [
    {
     "data": {
      "image/png": "[encoded data removed]",
      "text/plain": [
       "<Figure size 432x288 with 1 Axes>"
      ]
     },
     "metadata": {
      "needs_background": "light"
     },
     "output_type": "display_data"
    }
   ],
   "source": [
    "x_axis = range(len(losses))\n",
    "plt.plot(x_axis,losses, color=\"r\")\n",
    "plt.show()"
   ]
  },
  {
   "cell_type": "code",
   "execution_count": 3,
   "metadata": {},
   "outputs": [
    {
     "name": "stdout",
     "output_type": "stream",
     "text": [
      "Training accuracy: 0.97\n"
     ]
    }
   ],
   "source": [
    "# evaluate training set accuracy\n",
    "scores = np.dot(theta.T, X.T)\n",
    "predicted_class = np.argmax(scores, axis=0)\n",
    "print('Training accuracy: %.2f' % (np.mean(predicted_class == y)))"
   ]
  },
  {
   "cell_type": "code",
   "execution_count": null,
   "metadata": {},
   "outputs": [],
   "source": []
  }
 ],
 "metadata": {
  "kernelspec": {
   "display_name": "Python 3",
   "language": "python",
   "name": "python3"
  },
  "language_info": {
   "codemirror_mode": {
    "name": "ipython",
    "version": 3
   },
   "file_extension": ".py",
   "mimetype": "text/x-python",
   "name": "python",
   "nbconvert_exporter": "python",
   "pygments_lexer": "ipython3",
   "version": "3.7.3"
  }
 },
 "nbformat": 4,
 "nbformat_minor": 2
}
