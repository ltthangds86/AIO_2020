{
 "cells": [
  {
   "cell_type": "code",
   "execution_count": 1,
   "metadata": {},
   "outputs": [
    {
     "name": "stdout",
     "output_type": "stream",
     "text": [
      "X:  [[1.4]\n",
      " [1.3]\n",
      " [1.5]\n",
      " [4.5]\n",
      " [4.1]\n",
      " [4.6]]\n",
      "y:  [0 0 0 1 1 1]\n"
     ]
    },
    {
     "data": {
      "text/plain": [
       "<matplotlib.legend.Legend at 0x1f72f375a58>"
      ]
     },
     "execution_count": 1,
     "metadata": {},
     "output_type": "execute_result"
    }
   ],
   "source": [
    "import numpy as np\n",
    "import matplotlib.pyplot as plt\n",
    "from sklearn import preprocessing\n",
    "\n",
    "iris = np.genfromtxt('iris_1D_2c.csv', dtype=None, delimiter=',', skip_header=1) \n",
    "X = iris[:, 0:1]\n",
    "y = iris[:, 1]\n",
    "\n",
    "y = y.astype('uint8')\n",
    "\n",
    "print('X: ', X)\n",
    "print('y: ', y)\n",
    "\n",
    "plt.figure(figsize=(10, 6))\n",
    "plt.scatter(X[y == 0][:, 0], y[y == 0], color='b', label='0')\n",
    "plt.scatter(X[y == 1][:, 0], y[y == 1], color='r', label='1')\n",
    "plt.scatter(X[y == 2][:, 0], y[y == 2], color='g', label='2')\n",
    "plt.legend()"
   ]
  },
  {
   "cell_type": "code",
   "execution_count": 3,
   "metadata": {},
   "outputs": [
    {
     "name": "stdout",
     "output_type": "stream",
     "text": [
      "[[1.  1.4]\n",
      " [1.  1.3]\n",
      " [1.  1.5]\n",
      " [1.  4.5]\n",
      " [1.  4.1]\n",
      " [1.  4.6]]\n"
     ]
    }
   ],
   "source": [
    "iris = np.genfromtxt('iris_1D_2c.csv', dtype=None, delimiter=',', skip_header=1) \n",
    "X = iris[:, 0:1]\n",
    "y = iris[:, 1]\n",
    "y = y.astype('uint8')\n",
    "\n",
    "intercept = np.ones((X.shape[0], 1))\n",
    "X = np.concatenate((intercept, X), axis=1)\n",
    "\n",
    "print(X)"
   ]
  },
  {
   "cell_type": "code",
   "execution_count": null,
   "metadata": {},
   "outputs": [],
   "source": []
  },
  {
   "cell_type": "code",
   "execution_count": null,
   "metadata": {},
   "outputs": [],
   "source": []
  },
  {
   "cell_type": "code",
   "execution_count": 24,
   "metadata": {},
   "outputs": [
    {
     "name": "stdout",
     "output_type": "stream",
     "text": [
      "theta:  [[ 0.1   0.05]\n",
      " [ 0.2  -0.1 ]]\n",
      "xi:  [[1. ]\n",
      " [1.4]]\n",
      "yi:  [0]\n",
      "theta.T:  [[ 0.1   0.2 ]\n",
      " [ 0.05 -0.1 ]]\n",
      "Z:  [[ 0.38]\n",
      " [-0.09]]\n",
      "exp_scores:  [[1.46228459]\n",
      " [0.91393119]]\n",
      "probs:  [[0.61538376]\n",
      " [0.38461624]]\n",
      "corect_logprobs:  [0.48550921]\n",
      "loss:  0.48550921164700406\n",
      "dscores 1:  [[-0.38461624]\n",
      " [ 0.38461624]]\n",
      "dtheta:  [[-0.38461624  0.38461624]\n",
      " [-0.53846274  0.53846274]]\n",
      "theta:  [[ 0.13846162  0.01153838]\n",
      " [ 0.25384627 -0.15384627]]\n"
     ]
    }
   ],
   "source": [
    "iris = np.genfromtxt('iris_1D_2c.csv', dtype=None, delimiter=',', skip_header=1) \n",
    "X = iris[:, 0:1]\n",
    "y = iris[:, 1]\n",
    "y = y.astype('uint8')\n",
    "\n",
    "intercept = np.ones((X.shape[0], 1))\n",
    "X = np.concatenate((intercept, X), axis=1)\n",
    "\n",
    "N = 3 # number of points per class\n",
    "D = 1 # dimensionality\n",
    "K = 2 # number of classes\n",
    "\n",
    "# initialize parameters randomly\n",
    "theta = np.array([[0.1, 0.05], [0.2, -0.1]])\n",
    "\n",
    "# gradient descent loop\n",
    "num_examples = X.shape[0]\n",
    "learning_rate = 0.1\n",
    "\n",
    "print('theta: ',theta)\n",
    "\n",
    "losses = []\n",
    "num_iter = 1\n",
    "\n",
    "num_sample_stochastic = 1\n",
    "for epoch in range(num_iter):\n",
    "    for i in range(num_examples): \n",
    "        xi = X[i:i+1]\n",
    "        xi = xi.T\n",
    "        yi = y[i:i+1]\n",
    "        print('xi: ', xi)\n",
    "        print('yi: ', yi)\n",
    "        \n",
    "        print('theta.T: ', theta.T)\n",
    "        \n",
    "        # evaluate class scores\n",
    "        scores = np.dot(theta.T, xi) \n",
    "        print('Z: ', scores)\n",
    "        \n",
    "        #compute the class probabilities\n",
    "        exp_scores = np.exp(scores)\n",
    "        probs = exp_scores / np.sum(exp_scores, axis=0, keepdims=True)\n",
    "        print('exp_scores: ', exp_scores)\n",
    "        print('probs: ', probs)\n",
    "        \n",
    "        # compute the loss\n",
    "        corect_logprobs = -np.log(probs[yi, range(num_sample_stochastic)])\n",
    "        print('corect_logprobs: ', corect_logprobs)\n",
    "        loss = np.sum(corect_logprobs)/1\n",
    "        print('loss: ', loss)\n",
    "                \n",
    "        # compute the gradient on scores\n",
    "        dscores = probs\n",
    "        dscores[range(num_sample_stochastic),yi] -= 1\n",
    "        print('dscores 1: ', dscores)\n",
    "        \n",
    "        # backpropate the gradient to the parameters (W,b)\n",
    "        dtheta = np.dot(xi, dscores.T)\n",
    "        print('dtheta: ', dtheta)\n",
    "\n",
    "        # perform a parameter update\n",
    "        theta += -learning_rate *dtheta        \n",
    "        print('theta: ', theta)\n",
    "                \n",
    "        break"
   ]
  },
  {
   "cell_type": "code",
   "execution_count": 34,
   "metadata": {},
   "outputs": [],
   "source": [
    "iris = np.genfromtxt('iris_1D_2c.csv', dtype=None, delimiter=',', skip_header=1) \n",
    "X = iris[:, 0:1]\n",
    "y = iris[:, 1]\n",
    "y = y.astype('uint8')\n",
    "\n",
    "intercept = np.ones((X.shape[0], 1))\n",
    "X = np.concatenate((intercept, X), axis=1)\n",
    "\n",
    "N = 3 # number of points per class\n",
    "D = 1 # dimensionality\n",
    "K = 2 # number of classes\n",
    "\n",
    "# initialize parameters randomly\n",
    "theta = np.array([[0.1, 0.05], [0.2, -0.1]])\n",
    "\n",
    "# gradient descent loop\n",
    "num_examples = X.shape[0]\n",
    "learning_rate = 0.1\n",
    "\n",
    "losses = []\n",
    "num_iter = 100\n",
    "\n",
    "num_sample_stochastic = 1\n",
    "for epoch in range(num_iter):\n",
    "    for i in range(num_examples): \n",
    "        xi = X[i:i+1]\n",
    "        xi = xi.T\n",
    "        yi = y[i:i+1]\n",
    "        \n",
    "        # evaluate class scores\n",
    "        scores = np.dot(theta.T, xi)\n",
    "        \n",
    "        #compute the class probabilities\n",
    "        exp_scores = np.exp(scores)\n",
    "        probs = exp_scores / np.sum(exp_scores, axis=0, keepdims=True)\n",
    "        \n",
    "        # compute the loss\n",
    "        corect_logprobs = -np.log(probs[yi, range(num_sample_stochastic)])\n",
    "        loss = np.sum(corect_logprobs)\n",
    "        losses.append(loss)\n",
    "                \n",
    "        # compute the gradient on scores\n",
    "        dscores = probs\n",
    "        dscores[yi,0] -= 1\n",
    "        \n",
    "        # backpropate the gradient to the parameters (W,b)\n",
    "        dtheta = np.dot(xi, dscores.T)\n",
    "\n",
    "        # perform a parameter update\n",
    "        theta += -learning_rate *dtheta"
   ]
  },
  {
   "cell_type": "code",
   "execution_count": 35,
   "metadata": {},
   "outputs": [
    {
     "data": {
      "image/png": "[encoded data removed]",
      "text/plain": [
       "<Figure size 432x288 with 1 Axes>"
      ]
     },
     "metadata": {
      "needs_background": "light"
     },
     "output_type": "display_data"
    }
   ],
   "source": [
    "x_axis = range(len(losses))\n",
    "plt.plot(x_axis,losses, color=\"r\")\n",
    "plt.show()"
   ]
  },
  {
   "cell_type": "code",
   "execution_count": 37,
   "metadata": {},
   "outputs": [
    {
     "name": "stdout",
     "output_type": "stream",
     "text": [
      "Training accuracy: 1.00\n"
     ]
    }
   ],
   "source": [
    "# evaluate training set accuracy\n",
    "scores = np.dot(theta.T, X.T)\n",
    "predicted_class = np.argmax(scores, axis=0)\n",
    "print('Training accuracy: %.2f' % (np.mean(predicted_class == y)))"
   ]
  },
  {
   "cell_type": "code",
   "execution_count": null,
   "metadata": {},
   "outputs": [],
   "source": []
  }
 ],
 "metadata": {
  "kernelspec": {
   "display_name": "Python 3",
   "language": "python",
   "name": "python3"
  },
  "language_info": {
   "codemirror_mode": {
    "name": "ipython",
    "version": 3
   },
   "file_extension": ".py",
   "mimetype": "text/x-python",
   "name": "python",
   "nbconvert_exporter": "python",
   "pygments_lexer": "ipython3",
   "version": "3.7.3"
  }
 },
 "nbformat": 4,
 "nbformat_minor": 2
}
