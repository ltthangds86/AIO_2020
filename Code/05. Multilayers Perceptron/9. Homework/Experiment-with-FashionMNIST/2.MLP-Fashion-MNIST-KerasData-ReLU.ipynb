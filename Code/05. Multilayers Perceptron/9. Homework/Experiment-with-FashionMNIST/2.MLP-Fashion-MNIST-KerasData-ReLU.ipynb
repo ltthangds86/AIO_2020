{
 "cells": [
  {
   "cell_type": "code",
   "execution_count": 1,
   "metadata": {},
   "outputs": [
    {
     "name": "stdout",
     "output_type": "stream",
     "text": [
      "(60000, 28, 28)\n",
      "(10000, 28, 28)\n"
     ]
    }
   ],
   "source": [
    "import tensorflow as tf\n",
    "from tensorflow import keras\n",
    "\n",
    "# Data Preparation\n",
    "(train_images, train_labels), (test_images, test_labels) = keras.datasets.fashion_mnist.load_data()\n",
    "\n",
    "# Data Normalization [0,1]\n",
    "train_images = train_images / 255.0\n",
    "test_images = test_images / 255.0\n",
    "\n",
    "print(train_images.shape)\n",
    "print(test_images.shape)"
   ]
  },
  {
   "cell_type": "code",
   "execution_count": null,
   "metadata": {},
   "outputs": [],
   "source": []
  },
  {
   "cell_type": "code",
   "execution_count": 2,
   "metadata": {},
   "outputs": [
    {
     "name": "stdout",
     "output_type": "stream",
     "text": [
      "Train on 60000 samples\n",
      "Epoch 1/50\n",
      "60000/60000 [==============================] - 1s 22us/sample - loss: 0.8646 - accuracy: 0.7089\n",
      "Epoch 2/50\n",
      "60000/60000 [==============================] - 1s 14us/sample - loss: 0.5123 - accuracy: 0.8272\n",
      "Epoch 3/50\n",
      "60000/60000 [==============================] - 1s 12us/sample - loss: 0.4620 - accuracy: 0.8417\n",
      "Epoch 4/50\n",
      "60000/60000 [==============================] - 1s 12us/sample - loss: 0.4305 - accuracy: 0.8525\n",
      "Epoch 5/50\n",
      "60000/60000 [==============================] - 1s 14us/sample - loss: 0.4101 - accuracy: 0.8582\n",
      "Epoch 6/50\n",
      "60000/60000 [==============================] - 1s 13us/sample - loss: 0.3968 - accuracy: 0.8626\n",
      "Epoch 7/50\n",
      "60000/60000 [==============================] - 1s 11us/sample - loss: 0.3779 - accuracy: 0.8697\n",
      "Epoch 8/50\n",
      "60000/60000 [==============================] - 1s 12us/sample - loss: 0.3688 - accuracy: 0.8713\n",
      "Epoch 9/50\n",
      "60000/60000 [==============================] - 1s 11us/sample - loss: 0.3572 - accuracy: 0.8771\n",
      "Epoch 10/50\n",
      "60000/60000 [==============================] - 1s 11us/sample - loss: 0.3518 - accuracy: 0.8777\n",
      "Epoch 11/50\n",
      "60000/60000 [==============================] - 1s 10us/sample - loss: 0.3386 - accuracy: 0.8819\n",
      "Epoch 12/50\n",
      "60000/60000 [==============================] - 1s 10us/sample - loss: 0.3304 - accuracy: 0.8844\n",
      "Epoch 13/50\n",
      "60000/60000 [==============================] - 1s 10us/sample - loss: 0.3242 - accuracy: 0.8866\n",
      "Epoch 14/50\n",
      "60000/60000 [==============================] - 1s 11us/sample - loss: 0.3187 - accuracy: 0.8878\n",
      "Epoch 15/50\n",
      "60000/60000 [==============================] - 1s 11us/sample - loss: 0.3141 - accuracy: 0.8890\n",
      "Epoch 16/50\n",
      "60000/60000 [==============================] - 1s 12us/sample - loss: 0.3047 - accuracy: 0.8920\n",
      "Epoch 17/50\n",
      "60000/60000 [==============================] - 1s 11us/sample - loss: 0.2997 - accuracy: 0.8942\n",
      "Epoch 18/50\n",
      "60000/60000 [==============================] - 1s 11us/sample - loss: 0.3000 - accuracy: 0.8938\n",
      "Epoch 19/50\n",
      "60000/60000 [==============================] - 1s 10us/sample - loss: 0.2950 - accuracy: 0.8951\n",
      "Epoch 20/50\n",
      "60000/60000 [==============================] - 1s 11us/sample - loss: 0.2887 - accuracy: 0.8977\n",
      "Epoch 21/50\n",
      "60000/60000 [==============================] - 1s 12us/sample - loss: 0.2853 - accuracy: 0.8995\n",
      "Epoch 22/50\n",
      "60000/60000 [==============================] - 1s 11us/sample - loss: 0.2790 - accuracy: 0.8998\n",
      "Epoch 23/50\n",
      "60000/60000 [==============================] - 1s 11us/sample - loss: 0.2750 - accuracy: 0.9019\n",
      "Epoch 24/50\n",
      "60000/60000 [==============================] - 1s 11us/sample - loss: 0.2719 - accuracy: 0.9034\n",
      "Epoch 25/50\n",
      "60000/60000 [==============================] - 1s 10us/sample - loss: 0.2684 - accuracy: 0.9032\n",
      "Epoch 26/50\n",
      "60000/60000 [==============================] - 1s 11us/sample - loss: 0.2689 - accuracy: 0.9047\n",
      "Epoch 27/50\n",
      "60000/60000 [==============================] - 1s 11us/sample - loss: 0.2652 - accuracy: 0.9046\n",
      "Epoch 28/50\n",
      "60000/60000 [==============================] - 1s 12us/sample - loss: 0.2636 - accuracy: 0.9047\n",
      "Epoch 29/50\n",
      "60000/60000 [==============================] - 1s 11us/sample - loss: 0.2545 - accuracy: 0.9086\n",
      "Epoch 30/50\n",
      "60000/60000 [==============================] - 1s 10us/sample - loss: 0.2547 - accuracy: 0.9076\n",
      "Epoch 31/50\n",
      "60000/60000 [==============================] - 1s 11us/sample - loss: 0.2512 - accuracy: 0.9101\n",
      "Epoch 32/50\n",
      "60000/60000 [==============================] - 1s 10us/sample - loss: 0.2461 - accuracy: 0.9128\n",
      "Epoch 33/50\n",
      "60000/60000 [==============================] - 1s 10us/sample - loss: 0.2437 - accuracy: 0.9122\n",
      "Epoch 34/50\n",
      "60000/60000 [==============================] - 1s 11us/sample - loss: 0.2413 - accuracy: 0.9138\n",
      "Epoch 35/50\n",
      "60000/60000 [==============================] - 1s 11us/sample - loss: 0.2423 - accuracy: 0.9122\n",
      "Epoch 36/50\n",
      "60000/60000 [==============================] - 1s 11us/sample - loss: 0.2393 - accuracy: 0.9132\n",
      "Epoch 37/50\n",
      "60000/60000 [==============================] - 1s 11us/sample - loss: 0.2356 - accuracy: 0.9154\n",
      "Epoch 38/50\n",
      "60000/60000 [==============================] - 1s 11us/sample - loss: 0.2319 - accuracy: 0.9167\n",
      "Epoch 39/50\n",
      "60000/60000 [==============================] - 1s 11us/sample - loss: 0.2291 - accuracy: 0.9180\n",
      "Epoch 40/50\n",
      "60000/60000 [==============================] - 1s 11us/sample - loss: 0.2284 - accuracy: 0.9190\n",
      "Epoch 41/50\n",
      "60000/60000 [==============================] - 1s 12us/sample - loss: 0.2288 - accuracy: 0.9178\n",
      "Epoch 42/50\n",
      "60000/60000 [==============================] - 1s 11us/sample - loss: 0.2246 - accuracy: 0.9193\n",
      "Epoch 43/50\n",
      "60000/60000 [==============================] - 1s 11us/sample - loss: 0.2202 - accuracy: 0.9217\n",
      "Epoch 44/50\n",
      "60000/60000 [==============================] - 1s 11us/sample - loss: 0.2201 - accuracy: 0.9212\n",
      "Epoch 45/50\n",
      "60000/60000 [==============================] - 1s 11us/sample - loss: 0.2153 - accuracy: 0.9230\n",
      "Epoch 46/50\n",
      "60000/60000 [==============================] - 1s 11us/sample - loss: 0.2133 - accuracy: 0.9243\n",
      "Epoch 47/50\n",
      "60000/60000 [==============================] - 1s 11us/sample - loss: 0.2120 - accuracy: 0.9238\n",
      "Epoch 48/50\n",
      "60000/60000 [==============================] - 1s 11us/sample - loss: 0.2096 - accuracy: 0.9254\n",
      "Epoch 49/50\n",
      "60000/60000 [==============================] - 1s 11us/sample - loss: 0.2090 - accuracy: 0.9253\n",
      "Epoch 50/50\n",
      "60000/60000 [==============================] - 1s 11us/sample - loss: 0.2054 - accuracy: 0.9254\n",
      "10000/1 - 1s - loss: 0.2984 - accuracy: 0.8847\n",
      "\n",
      "\n",
      "Test accuracy: 0.8847\n"
     ]
    }
   ],
   "source": [
    "# adam and relu\n",
    "\n",
    "import tensorflow as tf\n",
    "from tensorflow import keras\n",
    "\n",
    "# Data Preparation\n",
    "(train_images, train_labels), (test_images, test_labels) = keras.datasets.fashion_mnist.load_data()\n",
    "\n",
    "# Data Normalization [0,1]\n",
    "train_images = train_images / 255.0\n",
    "test_images  = test_images / 255.0\n",
    "\n",
    "# model\n",
    "model = keras.Sequential([\n",
    "    keras.layers.Flatten(input_shape=(28, 28)),\n",
    "    keras.layers.Dense(128, activation='relu'),\n",
    "    keras.layers.Dense(10, activation='softmax')\n",
    "])\n",
    "\n",
    "model.compile(optimizer='adam',\n",
    "              loss='sparse_categorical_crossentropy',\n",
    "              metrics=['accuracy'])\n",
    "history_data = model.fit(train_images, train_labels, batch_size=1024, epochs=50)\n",
    "\n",
    "test_loss, test_acc = model.evaluate(test_images,  test_labels, verbose=2)\n",
    "print('\\n\\nTest accuracy:', test_acc)"
   ]
  },
  {
   "cell_type": "code",
   "execution_count": null,
   "metadata": {},
   "outputs": [],
   "source": []
  },
  {
   "cell_type": "code",
   "execution_count": null,
   "metadata": {},
   "outputs": [],
   "source": []
  },
  {
   "cell_type": "code",
   "execution_count": 3,
   "metadata": {},
   "outputs": [
    {
     "name": "stdout",
     "output_type": "stream",
     "text": [
      "Train on 60000 samples, validate on 10000 samples\n",
      "Epoch 1/50\n",
      "60000/60000 - 2s - loss: 0.8523 - accuracy: 0.7210 - val_loss: 0.5942 - val_accuracy: 0.7977\n",
      "Epoch 2/50\n",
      "60000/60000 - 1s - loss: 0.5117 - accuracy: 0.8270 - val_loss: 0.5038 - val_accuracy: 0.8266\n",
      "Epoch 3/50\n",
      "60000/60000 - 1s - loss: 0.4582 - accuracy: 0.8437 - val_loss: 0.4761 - val_accuracy: 0.8373\n",
      "Epoch 4/50\n",
      "60000/60000 - 1s - loss: 0.4245 - accuracy: 0.8546 - val_loss: 0.4506 - val_accuracy: 0.8415\n",
      "Epoch 5/50\n",
      "60000/60000 - 1s - loss: 0.4029 - accuracy: 0.8609 - val_loss: 0.4337 - val_accuracy: 0.8478\n",
      "Epoch 6/50\n",
      "60000/60000 - 1s - loss: 0.3872 - accuracy: 0.8662 - val_loss: 0.4203 - val_accuracy: 0.8523\n",
      "Epoch 7/50\n",
      "60000/60000 - 1s - loss: 0.3757 - accuracy: 0.8694 - val_loss: 0.4112 - val_accuracy: 0.8554\n",
      "Epoch 8/50\n",
      "60000/60000 - 1s - loss: 0.3610 - accuracy: 0.8739 - val_loss: 0.3983 - val_accuracy: 0.8602\n",
      "Epoch 9/50\n",
      "60000/60000 - 1s - loss: 0.3565 - accuracy: 0.8760 - val_loss: 0.3948 - val_accuracy: 0.8624\n",
      "Epoch 10/50\n",
      "60000/60000 - 1s - loss: 0.3427 - accuracy: 0.8808 - val_loss: 0.3877 - val_accuracy: 0.8634\n",
      "Epoch 11/50\n",
      "60000/60000 - 1s - loss: 0.3334 - accuracy: 0.8830 - val_loss: 0.3834 - val_accuracy: 0.8666\n",
      "Epoch 12/50\n",
      "60000/60000 - 1s - loss: 0.3279 - accuracy: 0.8851 - val_loss: 0.3788 - val_accuracy: 0.8667\n",
      "Epoch 13/50\n",
      "60000/60000 - 1s - loss: 0.3224 - accuracy: 0.8860 - val_loss: 0.3807 - val_accuracy: 0.8658\n",
      "Epoch 14/50\n",
      "60000/60000 - 1s - loss: 0.3194 - accuracy: 0.8877 - val_loss: 0.3702 - val_accuracy: 0.8677\n",
      "Epoch 15/50\n",
      "60000/60000 - 1s - loss: 0.3088 - accuracy: 0.8919 - val_loss: 0.3681 - val_accuracy: 0.8699\n",
      "Epoch 16/50\n",
      "60000/60000 - 1s - loss: 0.3055 - accuracy: 0.8917 - val_loss: 0.3707 - val_accuracy: 0.8699\n",
      "Epoch 17/50\n",
      "60000/60000 - 1s - loss: 0.2990 - accuracy: 0.8947 - val_loss: 0.3588 - val_accuracy: 0.8723\n",
      "Epoch 18/50\n",
      "60000/60000 - 1s - loss: 0.2934 - accuracy: 0.8954 - val_loss: 0.3554 - val_accuracy: 0.8726\n",
      "Epoch 19/50\n",
      "60000/60000 - 1s - loss: 0.2882 - accuracy: 0.8976 - val_loss: 0.3566 - val_accuracy: 0.8741\n",
      "Epoch 20/50\n",
      "60000/60000 - 1s - loss: 0.2851 - accuracy: 0.8983 - val_loss: 0.3594 - val_accuracy: 0.8708\n",
      "Epoch 21/50\n",
      "60000/60000 - 1s - loss: 0.2834 - accuracy: 0.8986 - val_loss: 0.3646 - val_accuracy: 0.8707\n",
      "Epoch 22/50\n",
      "60000/60000 - 1s - loss: 0.2782 - accuracy: 0.9006 - val_loss: 0.3588 - val_accuracy: 0.8737\n",
      "Epoch 23/50\n",
      "60000/60000 - 1s - loss: 0.2753 - accuracy: 0.9007 - val_loss: 0.3565 - val_accuracy: 0.8721\n",
      "Epoch 24/50\n",
      "60000/60000 - 1s - loss: 0.2739 - accuracy: 0.9018 - val_loss: 0.3453 - val_accuracy: 0.8776\n",
      "Epoch 25/50\n",
      "60000/60000 - 1s - loss: 0.2677 - accuracy: 0.9037 - val_loss: 0.3505 - val_accuracy: 0.8737\n",
      "Epoch 26/50\n",
      "60000/60000 - 1s - loss: 0.2625 - accuracy: 0.9055 - val_loss: 0.3420 - val_accuracy: 0.8785\n",
      "Epoch 27/50\n",
      "60000/60000 - 1s - loss: 0.2601 - accuracy: 0.9068 - val_loss: 0.3409 - val_accuracy: 0.8788\n",
      "Epoch 28/50\n",
      "60000/60000 - 1s - loss: 0.2547 - accuracy: 0.9086 - val_loss: 0.3388 - val_accuracy: 0.8817\n",
      "Epoch 29/50\n",
      "60000/60000 - 1s - loss: 0.2526 - accuracy: 0.9090 - val_loss: 0.3403 - val_accuracy: 0.8799\n",
      "Epoch 30/50\n",
      "60000/60000 - 1s - loss: 0.2525 - accuracy: 0.9093 - val_loss: 0.3353 - val_accuracy: 0.8800\n",
      "Epoch 31/50\n",
      "60000/60000 - 1s - loss: 0.2468 - accuracy: 0.9111 - val_loss: 0.3334 - val_accuracy: 0.8822\n",
      "Epoch 32/50\n",
      "60000/60000 - 1s - loss: 0.2468 - accuracy: 0.9108 - val_loss: 0.3388 - val_accuracy: 0.8803\n",
      "Epoch 33/50\n",
      "60000/60000 - 1s - loss: 0.2418 - accuracy: 0.9128 - val_loss: 0.3432 - val_accuracy: 0.8769\n",
      "Epoch 34/50\n",
      "60000/60000 - 1s - loss: 0.2388 - accuracy: 0.9135 - val_loss: 0.3408 - val_accuracy: 0.8793\n",
      "Epoch 35/50\n",
      "60000/60000 - 1s - loss: 0.2355 - accuracy: 0.9156 - val_loss: 0.3381 - val_accuracy: 0.8797\n",
      "Epoch 36/50\n",
      "60000/60000 - 1s - loss: 0.2368 - accuracy: 0.9148 - val_loss: 0.3319 - val_accuracy: 0.8840\n",
      "Epoch 37/50\n",
      "60000/60000 - 1s - loss: 0.2334 - accuracy: 0.9157 - val_loss: 0.3382 - val_accuracy: 0.8780\n",
      "Epoch 38/50\n",
      "60000/60000 - 1s - loss: 0.2295 - accuracy: 0.9174 - val_loss: 0.3339 - val_accuracy: 0.8820\n",
      "Epoch 39/50\n",
      "60000/60000 - 1s - loss: 0.2347 - accuracy: 0.9147 - val_loss: 0.3337 - val_accuracy: 0.8823\n",
      "Epoch 40/50\n",
      "60000/60000 - 1s - loss: 0.2244 - accuracy: 0.9197 - val_loss: 0.3300 - val_accuracy: 0.8848\n",
      "Epoch 41/50\n",
      "60000/60000 - 1s - loss: 0.2225 - accuracy: 0.9197 - val_loss: 0.3311 - val_accuracy: 0.8848\n",
      "Epoch 42/50\n",
      "60000/60000 - 1s - loss: 0.2211 - accuracy: 0.9208 - val_loss: 0.3350 - val_accuracy: 0.8807\n",
      "Epoch 43/50\n",
      "60000/60000 - 1s - loss: 0.2212 - accuracy: 0.9198 - val_loss: 0.3404 - val_accuracy: 0.8786\n",
      "Epoch 44/50\n",
      "60000/60000 - 1s - loss: 0.2178 - accuracy: 0.9215 - val_loss: 0.3367 - val_accuracy: 0.8795\n",
      "Epoch 45/50\n",
      "60000/60000 - 1s - loss: 0.2138 - accuracy: 0.9235 - val_loss: 0.3273 - val_accuracy: 0.8865\n",
      "Epoch 46/50\n",
      "60000/60000 - 1s - loss: 0.2140 - accuracy: 0.9232 - val_loss: 0.3373 - val_accuracy: 0.8808\n",
      "Epoch 47/50\n",
      "60000/60000 - 1s - loss: 0.2129 - accuracy: 0.9242 - val_loss: 0.3331 - val_accuracy: 0.8851\n",
      "Epoch 48/50\n",
      "60000/60000 - 1s - loss: 0.2134 - accuracy: 0.9232 - val_loss: 0.3342 - val_accuracy: 0.8841\n",
      "Epoch 49/50\n",
      "60000/60000 - 1s - loss: 0.2092 - accuracy: 0.9239 - val_loss: 0.3300 - val_accuracy: 0.8838\n",
      "Epoch 50/50\n",
      "60000/60000 - 1s - loss: 0.2094 - accuracy: 0.9250 - val_loss: 0.3370 - val_accuracy: 0.8835\n"
     ]
    }
   ],
   "source": [
    "# adam and relu\n",
    "\n",
    "import tensorflow as tf\n",
    "from tensorflow import keras\n",
    "\n",
    "# Data Preparation\n",
    "(train_images, train_labels), (test_images, test_labels) = keras.datasets.fashion_mnist.load_data()\n",
    "\n",
    "# Data Normalization [0,1]\n",
    "train_images = train_images / 255.0\n",
    "test_images  = test_images / 255.0\n",
    "\n",
    "# model\n",
    "model = keras.Sequential([\n",
    "    keras.layers.Flatten(input_shape=(28, 28)),\n",
    "    keras.layers.Dense(128, activation='relu'),\n",
    "    keras.layers.Dense(10, activation='softmax')\n",
    "])\n",
    "\n",
    "model.compile(optimizer='adam',\n",
    "              loss='sparse_categorical_crossentropy',\n",
    "              metrics=['accuracy'])\n",
    "history_data = model.fit(train_images, train_labels, \n",
    "                    validation_data=(test_images, test_labels), \n",
    "                    batch_size=1024, epochs=50, verbose=2)"
   ]
  },
  {
   "cell_type": "code",
   "execution_count": null,
   "metadata": {},
   "outputs": [],
   "source": []
  },
  {
   "cell_type": "code",
   "execution_count": 5,
   "metadata": {},
   "outputs": [
    {
     "data": {
      "text/plain": [
       "<matplotlib.legend.Legend at 0x1adea69a0b8>"
      ]
     },
     "execution_count": 5,
     "metadata": {},
     "output_type": "execute_result"
    },
    {
     "data": {
      "image/png": "[encoded data removed]",
      "text/plain": [
       "<Figure size 432x288 with 1 Axes>"
      ]
     },
     "metadata": {
      "needs_background": "light"
     },
     "output_type": "display_data"
    }
   ],
   "source": [
    "import matplotlib.pyplot as plt\n",
    "\n",
    "plt.plot(history_data.history['loss'], label = \"train_loss\")\n",
    "plt.plot(history_data.history['val_loss'], label = \"val_loss\")\n",
    "plt.xlabel('iteration')\n",
    "plt.ylabel('Loss')\n",
    "plt.legend()"
   ]
  },
  {
   "cell_type": "code",
   "execution_count": null,
   "metadata": {},
   "outputs": [],
   "source": []
  },
  {
   "cell_type": "code",
   "execution_count": 6,
   "metadata": {},
   "outputs": [
    {
     "data": {
      "text/plain": [
       "<matplotlib.legend.Legend at 0x1adea72f0b8>"
      ]
     },
     "execution_count": 6,
     "metadata": {},
     "output_type": "execute_result"
    },
    {
     "data": {
      "image/png": "[encoded data removed]",
      "text/plain": [
       "<Figure size 432x288 with 1 Axes>"
      ]
     },
     "metadata": {
      "needs_background": "light"
     },
     "output_type": "display_data"
    }
   ],
   "source": [
    "import matplotlib.pyplot as plt\n",
    "\n",
    "plt.plot(history_data.history['accuracy'], label = \"train_accuracy\")\n",
    "plt.plot(history_data.history['val_accuracy'], label = \"val_accuracy\")\n",
    "plt.xlabel('iteration')\n",
    "plt.ylabel('Accuracy')\n",
    "plt.legend()"
   ]
  },
  {
   "cell_type": "code",
   "execution_count": null,
   "metadata": {},
   "outputs": [],
   "source": []
  },
  {
   "cell_type": "code",
   "execution_count": null,
   "metadata": {},
   "outputs": [],
   "source": []
  },
  {
   "cell_type": "code",
   "execution_count": 7,
   "metadata": {},
   "outputs": [
    {
     "name": "stdout",
     "output_type": "stream",
     "text": [
      "Train on 60000 samples, validate on 10000 samples\n",
      "Epoch 1/50\n",
      "60000/60000 - 2s - loss: 0.8550 - accuracy: 0.7213 - val_loss: 0.5529 - val_accuracy: 0.8071\n",
      "Epoch 2/50\n",
      "60000/60000 - 1s - loss: 0.4779 - accuracy: 0.8353 - val_loss: 0.4715 - val_accuracy: 0.8359\n",
      "Epoch 3/50\n",
      "60000/60000 - 1s - loss: 0.4208 - accuracy: 0.8528 - val_loss: 0.4458 - val_accuracy: 0.8449\n",
      "Epoch 4/50\n",
      "60000/60000 - 1s - loss: 0.3963 - accuracy: 0.8606 - val_loss: 0.4105 - val_accuracy: 0.8558\n",
      "Epoch 5/50\n",
      "60000/60000 - 1s - loss: 0.3713 - accuracy: 0.8698 - val_loss: 0.3944 - val_accuracy: 0.8621\n",
      "Epoch 6/50\n",
      "60000/60000 - 1s - loss: 0.3490 - accuracy: 0.8766 - val_loss: 0.3923 - val_accuracy: 0.8635\n",
      "Epoch 7/50\n",
      "60000/60000 - 1s - loss: 0.3333 - accuracy: 0.8812 - val_loss: 0.3736 - val_accuracy: 0.8680\n",
      "Epoch 8/50\n",
      "60000/60000 - 1s - loss: 0.3231 - accuracy: 0.8836 - val_loss: 0.3667 - val_accuracy: 0.8703\n",
      "Epoch 9/50\n",
      "60000/60000 - 1s - loss: 0.3092 - accuracy: 0.8887 - val_loss: 0.3613 - val_accuracy: 0.8731\n",
      "Epoch 10/50\n",
      "60000/60000 - 1s - loss: 0.2974 - accuracy: 0.8917 - val_loss: 0.3531 - val_accuracy: 0.8773\n",
      "Epoch 11/50\n",
      "60000/60000 - 1s - loss: 0.2895 - accuracy: 0.8964 - val_loss: 0.3552 - val_accuracy: 0.8740\n",
      "Epoch 12/50\n",
      "60000/60000 - 1s - loss: 0.2884 - accuracy: 0.8952 - val_loss: 0.3472 - val_accuracy: 0.8764\n",
      "Epoch 13/50\n",
      "60000/60000 - 1s - loss: 0.2779 - accuracy: 0.8996 - val_loss: 0.3440 - val_accuracy: 0.8779\n",
      "Epoch 14/50\n",
      "60000/60000 - 1s - loss: 0.2707 - accuracy: 0.9019 - val_loss: 0.3461 - val_accuracy: 0.8757\n",
      "Epoch 15/50\n",
      "60000/60000 - 1s - loss: 0.2673 - accuracy: 0.9021 - val_loss: 0.3474 - val_accuracy: 0.8754\n",
      "Epoch 16/50\n",
      "60000/60000 - 1s - loss: 0.2574 - accuracy: 0.9070 - val_loss: 0.3322 - val_accuracy: 0.8840\n",
      "Epoch 17/50\n",
      "60000/60000 - 1s - loss: 0.2538 - accuracy: 0.9079 - val_loss: 0.3361 - val_accuracy: 0.8792\n",
      "Epoch 18/50\n",
      "60000/60000 - 1s - loss: 0.2486 - accuracy: 0.9097 - val_loss: 0.3379 - val_accuracy: 0.8816\n",
      "Epoch 19/50\n",
      "60000/60000 - 1s - loss: 0.2466 - accuracy: 0.9097 - val_loss: 0.3348 - val_accuracy: 0.8841\n",
      "Epoch 20/50\n",
      "60000/60000 - 1s - loss: 0.2367 - accuracy: 0.9146 - val_loss: 0.3376 - val_accuracy: 0.8808\n",
      "Epoch 21/50\n",
      "60000/60000 - 1s - loss: 0.2375 - accuracy: 0.9128 - val_loss: 0.3349 - val_accuracy: 0.8833\n",
      "Epoch 22/50\n",
      "60000/60000 - 1s - loss: 0.2355 - accuracy: 0.9139 - val_loss: 0.3301 - val_accuracy: 0.8846\n",
      "Epoch 23/50\n",
      "60000/60000 - 1s - loss: 0.2283 - accuracy: 0.9164 - val_loss: 0.3299 - val_accuracy: 0.8865\n",
      "Epoch 24/50\n",
      "60000/60000 - 1s - loss: 0.2232 - accuracy: 0.9185 - val_loss: 0.3281 - val_accuracy: 0.8861\n",
      "Epoch 25/50\n",
      "60000/60000 - 1s - loss: 0.2210 - accuracy: 0.9199 - val_loss: 0.3408 - val_accuracy: 0.8831\n",
      "Epoch 26/50\n",
      "60000/60000 - 1s - loss: 0.2170 - accuracy: 0.9203 - val_loss: 0.3303 - val_accuracy: 0.8842\n",
      "Epoch 27/50\n",
      "60000/60000 - 1s - loss: 0.2142 - accuracy: 0.9207 - val_loss: 0.3252 - val_accuracy: 0.8868\n",
      "Epoch 28/50\n",
      "60000/60000 - 1s - loss: 0.2127 - accuracy: 0.9219 - val_loss: 0.3290 - val_accuracy: 0.8856\n",
      "Epoch 29/50\n",
      "60000/60000 - 1s - loss: 0.2050 - accuracy: 0.9249 - val_loss: 0.3252 - val_accuracy: 0.8884\n",
      "Epoch 30/50\n",
      "60000/60000 - 1s - loss: 0.1978 - accuracy: 0.9285 - val_loss: 0.3378 - val_accuracy: 0.8846\n",
      "Epoch 31/50\n",
      "60000/60000 - 1s - loss: 0.2007 - accuracy: 0.9267 - val_loss: 0.3552 - val_accuracy: 0.8746\n",
      "Epoch 32/50\n",
      "60000/60000 - 1s - loss: 0.1956 - accuracy: 0.9285 - val_loss: 0.3369 - val_accuracy: 0.8876\n",
      "Epoch 33/50\n",
      "60000/60000 - 1s - loss: 0.1985 - accuracy: 0.9274 - val_loss: 0.3319 - val_accuracy: 0.8883\n",
      "Epoch 34/50\n",
      "60000/60000 - 1s - loss: 0.1902 - accuracy: 0.9305 - val_loss: 0.3394 - val_accuracy: 0.8859\n",
      "Epoch 35/50\n",
      "60000/60000 - 1s - loss: 0.1846 - accuracy: 0.9332 - val_loss: 0.3336 - val_accuracy: 0.8884\n",
      "Epoch 36/50\n",
      "60000/60000 - 1s - loss: 0.1906 - accuracy: 0.9305 - val_loss: 0.3367 - val_accuracy: 0.8855\n",
      "Epoch 37/50\n",
      "60000/60000 - 1s - loss: 0.1796 - accuracy: 0.9345 - val_loss: 0.3405 - val_accuracy: 0.8871\n",
      "Epoch 38/50\n",
      "60000/60000 - 1s - loss: 0.1770 - accuracy: 0.9358 - val_loss: 0.3347 - val_accuracy: 0.8873\n",
      "Epoch 39/50\n",
      "60000/60000 - 1s - loss: 0.1753 - accuracy: 0.9356 - val_loss: 0.3354 - val_accuracy: 0.8896\n",
      "Epoch 40/50\n",
      "60000/60000 - 1s - loss: 0.1710 - accuracy: 0.9372 - val_loss: 0.3318 - val_accuracy: 0.8905\n",
      "Epoch 41/50\n",
      "60000/60000 - 1s - loss: 0.1727 - accuracy: 0.9371 - val_loss: 0.3477 - val_accuracy: 0.8890\n",
      "Epoch 42/50\n",
      "60000/60000 - 1s - loss: 0.1733 - accuracy: 0.9364 - val_loss: 0.3347 - val_accuracy: 0.8888\n",
      "Epoch 43/50\n",
      "60000/60000 - 1s - loss: 0.1610 - accuracy: 0.9421 - val_loss: 0.3474 - val_accuracy: 0.8868\n",
      "Epoch 44/50\n",
      "60000/60000 - 1s - loss: 0.1605 - accuracy: 0.9416 - val_loss: 0.3544 - val_accuracy: 0.8856\n",
      "Epoch 45/50\n",
      "60000/60000 - 1s - loss: 0.1641 - accuracy: 0.9405 - val_loss: 0.3587 - val_accuracy: 0.8820\n",
      "Epoch 46/50\n",
      "60000/60000 - 1s - loss: 0.1587 - accuracy: 0.9425 - val_loss: 0.3458 - val_accuracy: 0.8873\n",
      "Epoch 47/50\n",
      "60000/60000 - 1s - loss: 0.1587 - accuracy: 0.9421 - val_loss: 0.3516 - val_accuracy: 0.8879\n",
      "Epoch 48/50\n",
      "60000/60000 - 1s - loss: 0.1517 - accuracy: 0.9456 - val_loss: 0.3506 - val_accuracy: 0.8877\n",
      "Epoch 49/50\n",
      "60000/60000 - 1s - loss: 0.1506 - accuracy: 0.9457 - val_loss: 0.3582 - val_accuracy: 0.8855\n",
      "Epoch 50/50\n",
      "60000/60000 - 1s - loss: 0.1457 - accuracy: 0.9477 - val_loss: 0.3646 - val_accuracy: 0.8860\n"
     ]
    }
   ],
   "source": [
    "# adam and relu\n",
    "\n",
    "import tensorflow as tf\n",
    "from tensorflow import keras\n",
    "\n",
    "# Data Preparation\n",
    "(train_images, train_labels), (test_images, test_labels) = keras.datasets.fashion_mnist.load_data()\n",
    "\n",
    "# Data Normalization [0,1]\n",
    "train_images = train_images / 255.0\n",
    "test_images  = test_images / 255.0\n",
    "\n",
    "# model\n",
    "model = keras.Sequential([\n",
    "    keras.layers.Flatten(input_shape=(28, 28)),\n",
    "    keras.layers.Dense(128, activation='relu'),\n",
    "    keras.layers.Dense(128, activation='relu'),\n",
    "    keras.layers.Dense(10, activation='softmax')\n",
    "])\n",
    "\n",
    "model.compile(optimizer='adam',\n",
    "              loss='sparse_categorical_crossentropy',\n",
    "              metrics=['accuracy'])\n",
    "\n",
    "history_data = model.fit(train_images, train_labels, \n",
    "                    validation_data=(test_images, test_labels), \n",
    "                    batch_size=1024, epochs=50, verbose=2)"
   ]
  },
  {
   "cell_type": "code",
   "execution_count": 3,
   "metadata": {},
   "outputs": [
    {
     "data": {
      "text/plain": [
       "<matplotlib.legend.Legend at 0x292b49a8c18>"
      ]
     },
     "execution_count": 3,
     "metadata": {},
     "output_type": "execute_result"
    },
    {
     "data": {
      "image/png": "[encoded data removed]",
      "text/plain": [
       "<Figure size 432x288 with 1 Axes>"
      ]
     },
     "metadata": {
      "needs_background": "light"
     },
     "output_type": "display_data"
    }
   ],
   "source": [
    "import matplotlib.pyplot as plt\n",
    "\n",
    "plt.plot(history_data.history['loss'], label = \"train_loss\")\n",
    "plt.plot(history_data.history['val_loss'], label = \"val_loss\")\n",
    "plt.xlabel('iteration')\n",
    "plt.ylabel('Loss')\n",
    "plt.legend()"
   ]
  },
  {
   "cell_type": "code",
   "execution_count": null,
   "metadata": {},
   "outputs": [],
   "source": []
  },
  {
   "cell_type": "code",
   "execution_count": 4,
   "metadata": {},
   "outputs": [
    {
     "data": {
      "text/plain": [
       "<matplotlib.legend.Legend at 0x292b4a2cef0>"
      ]
     },
     "execution_count": 4,
     "metadata": {},
     "output_type": "execute_result"
    },
    {
     "data": {
      "image/png": "[encoded data removed]",
      "text/plain": [
       "<Figure size 432x288 with 1 Axes>"
      ]
     },
     "metadata": {
      "needs_background": "light"
     },
     "output_type": "display_data"
    }
   ],
   "source": [
    "import matplotlib.pyplot as plt\n",
    "\n",
    "plt.plot(history_data.history['accuracy'], label = \"train_accuracy\")\n",
    "plt.plot(history_data.history['val_accuracy'], label = \"val_accuracy\")\n",
    "plt.xlabel('iteration')\n",
    "plt.ylabel('Accuracy')\n",
    "plt.legend()"
   ]
  },
  {
   "cell_type": "code",
   "execution_count": null,
   "metadata": {},
   "outputs": [],
   "source": []
  },
  {
   "cell_type": "code",
   "execution_count": null,
   "metadata": {},
   "outputs": [],
   "source": []
  },
  {
   "cell_type": "code",
   "execution_count": null,
   "metadata": {},
   "outputs": [],
   "source": []
  },
  {
   "cell_type": "code",
   "execution_count": 8,
   "metadata": {},
   "outputs": [
    {
     "name": "stdout",
     "output_type": "stream",
     "text": [
      "Train on 60000 samples, validate on 10000 samples\n",
      "Epoch 1/50\n",
      "60000/60000 - 2s - loss: 0.8393 - accuracy: 0.7208 - val_loss: 0.5280 - val_accuracy: 0.8103\n",
      "Epoch 2/50\n",
      "60000/60000 - 1s - loss: 0.4583 - accuracy: 0.8385 - val_loss: 0.4594 - val_accuracy: 0.8367\n",
      "Epoch 3/50\n",
      "60000/60000 - 1s - loss: 0.4075 - accuracy: 0.8570 - val_loss: 0.4231 - val_accuracy: 0.8499\n",
      "Epoch 4/50\n",
      "60000/60000 - 1s - loss: 0.3788 - accuracy: 0.8655 - val_loss: 0.4003 - val_accuracy: 0.8589\n",
      "Epoch 5/50\n",
      "60000/60000 - 1s - loss: 0.3596 - accuracy: 0.8722 - val_loss: 0.3969 - val_accuracy: 0.8597\n",
      "Epoch 6/50\n",
      "60000/60000 - 1s - loss: 0.3404 - accuracy: 0.8789 - val_loss: 0.3817 - val_accuracy: 0.8645\n",
      "Epoch 7/50\n",
      "60000/60000 - 1s - loss: 0.3279 - accuracy: 0.8821 - val_loss: 0.3757 - val_accuracy: 0.8653\n",
      "Epoch 8/50\n",
      "60000/60000 - 1s - loss: 0.3191 - accuracy: 0.8833 - val_loss: 0.3595 - val_accuracy: 0.8708\n",
      "Epoch 9/50\n",
      "60000/60000 - 1s - loss: 0.3013 - accuracy: 0.8907 - val_loss: 0.3508 - val_accuracy: 0.8765\n",
      "Epoch 10/50\n",
      "60000/60000 - 1s - loss: 0.2955 - accuracy: 0.8919 - val_loss: 0.3552 - val_accuracy: 0.8715\n",
      "Epoch 11/50\n",
      "60000/60000 - 1s - loss: 0.2855 - accuracy: 0.8959 - val_loss: 0.3512 - val_accuracy: 0.8742\n",
      "Epoch 12/50\n",
      "60000/60000 - 1s - loss: 0.2775 - accuracy: 0.8986 - val_loss: 0.3820 - val_accuracy: 0.8617\n",
      "Epoch 13/50\n",
      "60000/60000 - 1s - loss: 0.2715 - accuracy: 0.9005 - val_loss: 0.3470 - val_accuracy: 0.8787\n",
      "Epoch 14/50\n",
      "60000/60000 - 1s - loss: 0.2635 - accuracy: 0.9034 - val_loss: 0.3576 - val_accuracy: 0.8725\n",
      "Epoch 15/50\n",
      "60000/60000 - 1s - loss: 0.2575 - accuracy: 0.9047 - val_loss: 0.3457 - val_accuracy: 0.8772\n",
      "Epoch 16/50\n",
      "60000/60000 - 1s - loss: 0.2463 - accuracy: 0.9097 - val_loss: 0.3349 - val_accuracy: 0.8812\n",
      "Epoch 17/50\n",
      "60000/60000 - 1s - loss: 0.2419 - accuracy: 0.9106 - val_loss: 0.3353 - val_accuracy: 0.8827\n",
      "Epoch 18/50\n",
      "60000/60000 - 1s - loss: 0.2373 - accuracy: 0.9129 - val_loss: 0.3563 - val_accuracy: 0.8747\n",
      "Epoch 19/50\n",
      "60000/60000 - 1s - loss: 0.2385 - accuracy: 0.9112 - val_loss: 0.3459 - val_accuracy: 0.8773\n",
      "Epoch 20/50\n",
      "60000/60000 - 1s - loss: 0.2309 - accuracy: 0.9140 - val_loss: 0.3317 - val_accuracy: 0.8850\n",
      "Epoch 21/50\n",
      "60000/60000 - 1s - loss: 0.2190 - accuracy: 0.9191 - val_loss: 0.3502 - val_accuracy: 0.8773\n",
      "Epoch 22/50\n",
      "60000/60000 - 1s - loss: 0.2186 - accuracy: 0.9188 - val_loss: 0.3318 - val_accuracy: 0.8833\n",
      "Epoch 23/50\n",
      "60000/60000 - 1s - loss: 0.2141 - accuracy: 0.9211 - val_loss: 0.3265 - val_accuracy: 0.8867\n",
      "Epoch 24/50\n",
      "60000/60000 - 1s - loss: 0.2074 - accuracy: 0.9240 - val_loss: 0.3331 - val_accuracy: 0.8846\n",
      "Epoch 25/50\n",
      "60000/60000 - 1s - loss: 0.2053 - accuracy: 0.9254 - val_loss: 0.3308 - val_accuracy: 0.8855\n",
      "Epoch 26/50\n",
      "60000/60000 - 1s - loss: 0.1993 - accuracy: 0.9257 - val_loss: 0.3332 - val_accuracy: 0.8861\n",
      "Epoch 27/50\n",
      "60000/60000 - 1s - loss: 0.1950 - accuracy: 0.9278 - val_loss: 0.3339 - val_accuracy: 0.8875\n",
      "Epoch 28/50\n",
      "60000/60000 - 1s - loss: 0.1932 - accuracy: 0.9275 - val_loss: 0.3351 - val_accuracy: 0.8859\n",
      "Epoch 29/50\n",
      "60000/60000 - 1s - loss: 0.1822 - accuracy: 0.9332 - val_loss: 0.3529 - val_accuracy: 0.8799\n",
      "Epoch 30/50\n",
      "60000/60000 - 1s - loss: 0.1838 - accuracy: 0.9323 - val_loss: 0.3438 - val_accuracy: 0.8847\n",
      "Epoch 31/50\n",
      "60000/60000 - 1s - loss: 0.1804 - accuracy: 0.9322 - val_loss: 0.3403 - val_accuracy: 0.8868\n",
      "Epoch 32/50\n",
      "60000/60000 - 1s - loss: 0.1774 - accuracy: 0.9350 - val_loss: 0.3536 - val_accuracy: 0.8848\n",
      "Epoch 33/50\n",
      "60000/60000 - 1s - loss: 0.1694 - accuracy: 0.9385 - val_loss: 0.3471 - val_accuracy: 0.8840\n",
      "Epoch 34/50\n",
      "60000/60000 - 1s - loss: 0.1665 - accuracy: 0.9388 - val_loss: 0.3666 - val_accuracy: 0.8811\n",
      "Epoch 35/50\n",
      "60000/60000 - 1s - loss: 0.1665 - accuracy: 0.9387 - val_loss: 0.3432 - val_accuracy: 0.8871\n",
      "Epoch 36/50\n",
      "60000/60000 - 1s - loss: 0.1601 - accuracy: 0.9412 - val_loss: 0.3607 - val_accuracy: 0.8854\n",
      "Epoch 37/50\n",
      "60000/60000 - 1s - loss: 0.1618 - accuracy: 0.9400 - val_loss: 0.3580 - val_accuracy: 0.8842\n",
      "Epoch 38/50\n",
      "60000/60000 - 1s - loss: 0.1590 - accuracy: 0.9411 - val_loss: 0.3542 - val_accuracy: 0.8882\n",
      "Epoch 39/50\n",
      "60000/60000 - 1s - loss: 0.1478 - accuracy: 0.9462 - val_loss: 0.3657 - val_accuracy: 0.8868\n",
      "Epoch 40/50\n",
      "60000/60000 - 1s - loss: 0.1472 - accuracy: 0.9467 - val_loss: 0.3668 - val_accuracy: 0.8822\n",
      "Epoch 41/50\n",
      "60000/60000 - 1s - loss: 0.1441 - accuracy: 0.9469 - val_loss: 0.3790 - val_accuracy: 0.8884\n",
      "Epoch 42/50\n",
      "60000/60000 - 1s - loss: 0.1495 - accuracy: 0.9446 - val_loss: 0.3828 - val_accuracy: 0.8804\n",
      "Epoch 43/50\n",
      "60000/60000 - 1s - loss: 0.1421 - accuracy: 0.9473 - val_loss: 0.3681 - val_accuracy: 0.8850\n",
      "Epoch 44/50\n",
      "60000/60000 - 1s - loss: 0.1346 - accuracy: 0.9508 - val_loss: 0.3822 - val_accuracy: 0.8878\n",
      "Epoch 45/50\n",
      "60000/60000 - 1s - loss: 0.1340 - accuracy: 0.9512 - val_loss: 0.4024 - val_accuracy: 0.8828\n",
      "Epoch 46/50\n",
      "60000/60000 - 1s - loss: 0.1261 - accuracy: 0.9534 - val_loss: 0.3951 - val_accuracy: 0.8868\n",
      "Epoch 47/50\n",
      "60000/60000 - 1s - loss: 0.1300 - accuracy: 0.9523 - val_loss: 0.3947 - val_accuracy: 0.8908\n",
      "Epoch 48/50\n",
      "60000/60000 - 1s - loss: 0.1301 - accuracy: 0.9528 - val_loss: 0.3860 - val_accuracy: 0.8870\n",
      "Epoch 49/50\n",
      "60000/60000 - 1s - loss: 0.1253 - accuracy: 0.9548 - val_loss: 0.3979 - val_accuracy: 0.8856\n",
      "Epoch 50/50\n",
      "60000/60000 - 1s - loss: 0.1284 - accuracy: 0.9527 - val_loss: 0.3906 - val_accuracy: 0.8821\n"
     ]
    }
   ],
   "source": [
    "# relu and adam\n",
    "\n",
    "import tensorflow as tf\n",
    "from tensorflow import keras\n",
    "\n",
    "# Data Preparation\n",
    "(train_images, train_labels), (test_images, test_labels) = keras.datasets.fashion_mnist.load_data()\n",
    "\n",
    "# Data Normalization [0,1]\n",
    "train_images = train_images / 255.0\n",
    "test_images  = test_images / 255.0\n",
    "\n",
    "# model\n",
    "model = keras.Sequential([\n",
    "    keras.layers.Flatten(input_shape=(28, 28)),\n",
    "    keras.layers.Dense(128, activation='relu'),\n",
    "    keras.layers.Dense(128, activation='relu'),\n",
    "    keras.layers.Dense(128, activation='relu'),\n",
    "    keras.layers.Dense(10, activation='softmax')\n",
    "])\n",
    "\n",
    "model.compile(optimizer='adam',\n",
    "              loss='sparse_categorical_crossentropy',\n",
    "              metrics=['accuracy'])\n",
    "\n",
    "history_data = model.fit(train_images, train_labels, \n",
    "                    validation_data=(test_images, test_labels), \n",
    "                    batch_size=1024, epochs=50, verbose=2)"
   ]
  },
  {
   "cell_type": "code",
   "execution_count": 9,
   "metadata": {},
   "outputs": [
    {
     "data": {
      "text/plain": [
       "<matplotlib.legend.Legend at 0x1adcd2500f0>"
      ]
     },
     "execution_count": 9,
     "metadata": {},
     "output_type": "execute_result"
    },
    {
     "data": {
      "image/png": "[encoded data removed]",
      "text/plain": [
       "<Figure size 432x288 with 1 Axes>"
      ]
     },
     "metadata": {
      "needs_background": "light"
     },
     "output_type": "display_data"
    }
   ],
   "source": [
    "import matplotlib.pyplot as plt\n",
    "\n",
    "plt.plot(history_data.history['loss'], label = \"train_loss\")\n",
    "plt.plot(history_data.history['val_loss'], label = \"val_loss\")\n",
    "plt.xlabel('iteration')\n",
    "plt.ylabel('Loss')\n",
    "plt.legend()"
   ]
  },
  {
   "cell_type": "code",
   "execution_count": 10,
   "metadata": {},
   "outputs": [
    {
     "data": {
      "text/plain": [
       "<matplotlib.legend.Legend at 0x1adcd56ddd8>"
      ]
     },
     "execution_count": 10,
     "metadata": {},
     "output_type": "execute_result"
    },
    {
     "data": {
      "image/png": "[encoded data removed]",
      "text/plain": [
       "<Figure size 432x288 with 1 Axes>"
      ]
     },
     "metadata": {
      "needs_background": "light"
     },
     "output_type": "display_data"
    }
   ],
   "source": [
    "import matplotlib.pyplot as plt\n",
    "\n",
    "plt.plot(history_data.history['accuracy'], label = \"train_accuracy\")\n",
    "plt.plot(history_data.history['val_accuracy'], label = \"val_accuracy\")\n",
    "plt.xlabel('iteration')\n",
    "plt.ylabel('Accuracy')\n",
    "plt.legend()"
   ]
  },
  {
   "cell_type": "code",
   "execution_count": null,
   "metadata": {},
   "outputs": [],
   "source": []
  },
  {
   "cell_type": "code",
   "execution_count": null,
   "metadata": {},
   "outputs": [],
   "source": []
  },
  {
   "cell_type": "code",
   "execution_count": 11,
   "metadata": {},
   "outputs": [
    {
     "name": "stdout",
     "output_type": "stream",
     "text": [
      "Train on 60000 samples, validate on 10000 samples\n",
      "Epoch 1/50\n",
      "60000/60000 - 2s - loss: 0.8900 - accuracy: 0.6798 - val_loss: 0.5782 - val_accuracy: 0.7950\n",
      "Epoch 2/50\n",
      "60000/60000 - 1s - loss: 0.4894 - accuracy: 0.8255 - val_loss: 0.4742 - val_accuracy: 0.8318\n",
      "Epoch 3/50\n",
      "60000/60000 - 1s - loss: 0.4210 - accuracy: 0.8497 - val_loss: 0.4499 - val_accuracy: 0.8342\n",
      "Epoch 4/50\n",
      "60000/60000 - 1s - loss: 0.3800 - accuracy: 0.8623 - val_loss: 0.4002 - val_accuracy: 0.8552\n",
      "Epoch 5/50\n",
      "60000/60000 - 1s - loss: 0.3518 - accuracy: 0.8730 - val_loss: 0.3772 - val_accuracy: 0.8672\n",
      "Epoch 6/50\n",
      "60000/60000 - 1s - loss: 0.3343 - accuracy: 0.8781 - val_loss: 0.3671 - val_accuracy: 0.8691\n",
      "Epoch 7/50\n",
      "60000/60000 - 1s - loss: 0.3189 - accuracy: 0.8835 - val_loss: 0.3671 - val_accuracy: 0.8662\n",
      "Epoch 8/50\n",
      "60000/60000 - 1s - loss: 0.3057 - accuracy: 0.8867 - val_loss: 0.3739 - val_accuracy: 0.8622\n",
      "Epoch 9/50\n",
      "60000/60000 - 1s - loss: 0.2971 - accuracy: 0.8913 - val_loss: 0.3487 - val_accuracy: 0.8727\n",
      "Epoch 10/50\n",
      "60000/60000 - 1s - loss: 0.2821 - accuracy: 0.8957 - val_loss: 0.3471 - val_accuracy: 0.8723\n",
      "Epoch 11/50\n",
      "60000/60000 - 1s - loss: 0.2746 - accuracy: 0.8989 - val_loss: 0.3532 - val_accuracy: 0.8762\n",
      "Epoch 12/50\n",
      "60000/60000 - 1s - loss: 0.2732 - accuracy: 0.8986 - val_loss: 0.3357 - val_accuracy: 0.8742\n",
      "Epoch 13/50\n",
      "60000/60000 - 1s - loss: 0.2585 - accuracy: 0.9038 - val_loss: 0.3430 - val_accuracy: 0.8774\n",
      "Epoch 14/50\n",
      "60000/60000 - 1s - loss: 0.2469 - accuracy: 0.9086 - val_loss: 0.3273 - val_accuracy: 0.8807\n",
      "Epoch 15/50\n",
      "60000/60000 - 1s - loss: 0.2517 - accuracy: 0.9053 - val_loss: 0.3391 - val_accuracy: 0.8817\n",
      "Epoch 16/50\n",
      "60000/60000 - 1s - loss: 0.2344 - accuracy: 0.9126 - val_loss: 0.3261 - val_accuracy: 0.8834\n",
      "Epoch 17/50\n",
      "60000/60000 - 1s - loss: 0.2318 - accuracy: 0.9130 - val_loss: 0.3317 - val_accuracy: 0.8837\n",
      "Epoch 18/50\n",
      "60000/60000 - 1s - loss: 0.2246 - accuracy: 0.9153 - val_loss: 0.3224 - val_accuracy: 0.8852\n",
      "Epoch 19/50\n",
      "60000/60000 - 1s - loss: 0.2174 - accuracy: 0.9186 - val_loss: 0.3290 - val_accuracy: 0.8838\n",
      "Epoch 20/50\n",
      "60000/60000 - 1s - loss: 0.2091 - accuracy: 0.9218 - val_loss: 0.3353 - val_accuracy: 0.8845\n",
      "Epoch 21/50\n",
      "60000/60000 - 1s - loss: 0.2065 - accuracy: 0.9229 - val_loss: 0.3327 - val_accuracy: 0.8829\n",
      "Epoch 22/50\n",
      "60000/60000 - 1s - loss: 0.2124 - accuracy: 0.9194 - val_loss: 0.3417 - val_accuracy: 0.8810\n",
      "Epoch 23/50\n",
      "60000/60000 - 1s - loss: 0.1956 - accuracy: 0.9255 - val_loss: 0.3327 - val_accuracy: 0.8877\n",
      "Epoch 24/50\n",
      "60000/60000 - 1s - loss: 0.1921 - accuracy: 0.9278 - val_loss: 0.3510 - val_accuracy: 0.8865\n",
      "Epoch 25/50\n",
      "60000/60000 - 1s - loss: 0.1876 - accuracy: 0.9299 - val_loss: 0.3313 - val_accuracy: 0.8886\n",
      "Epoch 26/50\n",
      "60000/60000 - 1s - loss: 0.1834 - accuracy: 0.9309 - val_loss: 0.3512 - val_accuracy: 0.8823\n",
      "Epoch 27/50\n",
      "60000/60000 - 1s - loss: 0.1833 - accuracy: 0.9316 - val_loss: 0.3407 - val_accuracy: 0.8878\n",
      "Epoch 28/50\n",
      "60000/60000 - 1s - loss: 0.1728 - accuracy: 0.9345 - val_loss: 0.3706 - val_accuracy: 0.8825\n",
      "Epoch 29/50\n",
      "60000/60000 - 1s - loss: 0.1758 - accuracy: 0.9334 - val_loss: 0.3464 - val_accuracy: 0.8913\n",
      "Epoch 30/50\n",
      "60000/60000 - 1s - loss: 0.1635 - accuracy: 0.9385 - val_loss: 0.3467 - val_accuracy: 0.8878\n",
      "Epoch 31/50\n",
      "60000/60000 - 1s - loss: 0.1569 - accuracy: 0.9415 - val_loss: 0.3628 - val_accuracy: 0.8871\n",
      "Epoch 32/50\n",
      "60000/60000 - 1s - loss: 0.1615 - accuracy: 0.9384 - val_loss: 0.3647 - val_accuracy: 0.8926\n",
      "Epoch 33/50\n",
      "60000/60000 - 1s - loss: 0.1508 - accuracy: 0.9432 - val_loss: 0.3842 - val_accuracy: 0.8725\n",
      "Epoch 34/50\n",
      "60000/60000 - 1s - loss: 0.1694 - accuracy: 0.9352 - val_loss: 0.3724 - val_accuracy: 0.8929\n",
      "Epoch 35/50\n",
      "60000/60000 - 1s - loss: 0.1530 - accuracy: 0.9428 - val_loss: 0.3745 - val_accuracy: 0.8881\n",
      "Epoch 36/50\n",
      "60000/60000 - 1s - loss: 0.1443 - accuracy: 0.9453 - val_loss: 0.3791 - val_accuracy: 0.8862\n",
      "Epoch 37/50\n",
      "60000/60000 - 1s - loss: 0.1429 - accuracy: 0.9469 - val_loss: 0.3756 - val_accuracy: 0.8929\n",
      "Epoch 38/50\n",
      "60000/60000 - 1s - loss: 0.1371 - accuracy: 0.9484 - val_loss: 0.4055 - val_accuracy: 0.8858\n",
      "Epoch 39/50\n",
      "60000/60000 - 1s - loss: 0.1383 - accuracy: 0.9481 - val_loss: 0.3903 - val_accuracy: 0.8904\n",
      "Epoch 40/50\n",
      "60000/60000 - 1s - loss: 0.1289 - accuracy: 0.9524 - val_loss: 0.4039 - val_accuracy: 0.8862\n",
      "Epoch 41/50\n",
      "60000/60000 - 1s - loss: 0.1272 - accuracy: 0.9521 - val_loss: 0.4026 - val_accuracy: 0.8905\n",
      "Epoch 42/50\n",
      "60000/60000 - 1s - loss: 0.1323 - accuracy: 0.9501 - val_loss: 0.3925 - val_accuracy: 0.8849\n",
      "Epoch 43/50\n",
      "60000/60000 - 1s - loss: 0.1238 - accuracy: 0.9538 - val_loss: 0.4244 - val_accuracy: 0.8897\n",
      "Epoch 44/50\n",
      "60000/60000 - 1s - loss: 0.1272 - accuracy: 0.9514 - val_loss: 0.4224 - val_accuracy: 0.8886\n",
      "Epoch 45/50\n",
      "60000/60000 - 1s - loss: 0.1187 - accuracy: 0.9556 - val_loss: 0.4525 - val_accuracy: 0.8863\n",
      "Epoch 46/50\n",
      "60000/60000 - 1s - loss: 0.1111 - accuracy: 0.9588 - val_loss: 0.4176 - val_accuracy: 0.8931\n",
      "Epoch 47/50\n",
      "60000/60000 - 1s - loss: 0.1052 - accuracy: 0.9604 - val_loss: 0.4397 - val_accuracy: 0.8906\n",
      "Epoch 48/50\n",
      "60000/60000 - 1s - loss: 0.1115 - accuracy: 0.9578 - val_loss: 0.4343 - val_accuracy: 0.8933\n",
      "Epoch 49/50\n",
      "60000/60000 - 1s - loss: 0.1045 - accuracy: 0.9600 - val_loss: 0.4369 - val_accuracy: 0.8849\n",
      "Epoch 50/50\n",
      "60000/60000 - 1s - loss: 0.0997 - accuracy: 0.9621 - val_loss: 0.4699 - val_accuracy: 0.8859\n"
     ]
    }
   ],
   "source": [
    "# relu and adam\n",
    "\n",
    "import tensorflow as tf\n",
    "from tensorflow import keras\n",
    "\n",
    "# Data Preparation\n",
    "(train_images, train_labels), (test_images, test_labels) = keras.datasets.fashion_mnist.load_data()\n",
    "\n",
    "# Data Normalization [0,1]\n",
    "train_images = train_images / 255.0\n",
    "test_images  = test_images / 255.0\n",
    "\n",
    "# model\n",
    "model = keras.Sequential([\n",
    "    keras.layers.Flatten(input_shape=(28, 28)),\n",
    "    keras.layers.Dense(128, activation='relu'),\n",
    "    keras.layers.Dense(128, activation='relu'),\n",
    "    keras.layers.Dense(128, activation='relu'),\n",
    "    keras.layers.Dense(128, activation='relu'),\n",
    "    keras.layers.Dense(128, activation='relu'),\n",
    "    keras.layers.Dense(10, activation='softmax')\n",
    "])\n",
    "\n",
    "model.compile(optimizer='adam',\n",
    "              loss='sparse_categorical_crossentropy',\n",
    "              metrics=['accuracy'])\n",
    "\n",
    "history_data = model.fit(train_images, train_labels, \n",
    "                    validation_data=(test_images, test_labels), \n",
    "                    batch_size=1024, epochs=50, verbose=2)"
   ]
  },
  {
   "cell_type": "code",
   "execution_count": 12,
   "metadata": {},
   "outputs": [
    {
     "data": {
      "text/plain": [
       "<matplotlib.legend.Legend at 0x1ade4b85b00>"
      ]
     },
     "execution_count": 12,
     "metadata": {},
     "output_type": "execute_result"
    },
    {
     "data": {
      "image/png": "[encoded data removed]",
      "text/plain": [
       "<Figure size 432x288 with 1 Axes>"
      ]
     },
     "metadata": {
      "needs_background": "light"
     },
     "output_type": "display_data"
    }
   ],
   "source": [
    "import matplotlib.pyplot as plt\n",
    "\n",
    "plt.plot(history_data.history['loss'], label = \"train_loss\")\n",
    "plt.plot(history_data.history['val_loss'], label = \"val_loss\")\n",
    "plt.xlabel('iteration')\n",
    "plt.ylabel('Loss')\n",
    "plt.legend()"
   ]
  },
  {
   "cell_type": "code",
   "execution_count": 13,
   "metadata": {},
   "outputs": [
    {
     "data": {
      "text/plain": [
       "<matplotlib.legend.Legend at 0x1ade4c57748>"
      ]
     },
     "execution_count": 13,
     "metadata": {},
     "output_type": "execute_result"
    },
    {
     "data": {
      "image/png": "[encoded data removed]",
      "text/plain": [
       "<Figure size 432x288 with 1 Axes>"
      ]
     },
     "metadata": {
      "needs_background": "light"
     },
     "output_type": "display_data"
    }
   ],
   "source": [
    "import matplotlib.pyplot as plt\n",
    "\n",
    "plt.plot(history_data.history['accuracy'], label = \"train_accuracy\")\n",
    "plt.plot(history_data.history['val_accuracy'], label = \"val_accuracy\")\n",
    "plt.xlabel('iteration')\n",
    "plt.ylabel('Accuracy')\n",
    "plt.legend()"
   ]
  },
  {
   "cell_type": "code",
   "execution_count": null,
   "metadata": {},
   "outputs": [],
   "source": []
  }
 ],
 "metadata": {
  "kernelspec": {
   "display_name": "Python 3",
   "language": "python",
   "name": "python3"
  },
  "language_info": {
   "codemirror_mode": {
    "name": "ipython",
    "version": 3
   },
   "file_extension": ".py",
   "mimetype": "text/x-python",
   "name": "python",
   "nbconvert_exporter": "python",
   "pygments_lexer": "ipython3",
   "version": "3.7.3"
  }
 },
 "nbformat": 4,
 "nbformat_minor": 2
}
