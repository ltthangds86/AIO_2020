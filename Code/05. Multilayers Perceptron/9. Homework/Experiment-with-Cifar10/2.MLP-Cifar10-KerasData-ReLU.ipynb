{
 "cells": [
  {
   "cell_type": "code",
   "execution_count": 1,
   "metadata": {},
   "outputs": [
    {
     "name": "stdout",
     "output_type": "stream",
     "text": [
      "(50000, 32, 32, 3)\n",
      "(10000, 32, 32, 3)\n"
     ]
    }
   ],
   "source": [
    "import tensorflow as tf\n",
    "from tensorflow import keras\n",
    "\n",
    "# Data Preparation\n",
    "(train_images, train_labels), (test_images, test_labels) = keras.datasets.cifar10.load_data()\n",
    "\n",
    "# Data Normalization [0,1]\n",
    "train_images = train_images / 255.0\n",
    "test_images = test_images / 255.0\n",
    "\n",
    "print(train_images.shape)\n",
    "print(test_images.shape)"
   ]
  },
  {
   "cell_type": "code",
   "execution_count": null,
   "metadata": {},
   "outputs": [],
   "source": []
  },
  {
   "cell_type": "code",
   "execution_count": 2,
   "metadata": {},
   "outputs": [
    {
     "name": "stdout",
     "output_type": "stream",
     "text": [
      "Train on 50000 samples\n",
      "Epoch 1/50\n",
      "50000/50000 [==============================] - 2s 50us/sample - loss: 2.3132 - accuracy: 0.1766s - los\n",
      "Epoch 2/50\n",
      "50000/50000 [==============================] - 2s 35us/sample - loss: 1.9969 - accuracy: 0.2872\n",
      "Epoch 3/50\n",
      "50000/50000 [==============================] - 2s 34us/sample - loss: 1.8957 - accuracy: 0.3270\n",
      "Epoch 4/50\n",
      "50000/50000 [==============================] - 2s 36us/sample - loss: 1.8543 - accuracy: 0.3433\n",
      "Epoch 5/50\n",
      "50000/50000 [==============================] - 2s 37us/sample - loss: 1.8224 - accuracy: 0.3586\n",
      "Epoch 6/50\n",
      "50000/50000 [==============================] - 2s 37us/sample - loss: 1.8021 - accuracy: 0.3657\n",
      "Epoch 7/50\n",
      "50000/50000 [==============================] - 2s 37us/sample - loss: 1.7780 - accuracy: 0.3770s - loss: 1\n",
      "Epoch 8/50\n",
      "50000/50000 [==============================] - 2s 36us/sample - loss: 1.7621 - accuracy: 0.3831\n",
      "Epoch 9/50\n",
      "50000/50000 [==============================] - 2s 36us/sample - loss: 1.7466 - accuracy: 0.3879\n",
      "Epoch 10/50\n",
      "50000/50000 [==============================] - 2s 36us/sample - loss: 1.7320 - accuracy: 0.3932\n",
      "Epoch 11/50\n",
      "50000/50000 [==============================] - 2s 35us/sample - loss: 1.7201 - accuracy: 0.3968\n",
      "Epoch 12/50\n",
      "50000/50000 [==============================] - 2s 37us/sample - loss: 1.7113 - accuracy: 0.3980\n",
      "Epoch 13/50\n",
      "50000/50000 [==============================] - 2s 37us/sample - loss: 1.7008 - accuracy: 0.4031\n",
      "Epoch 14/50\n",
      "50000/50000 [==============================] - 2s 36us/sample - loss: 1.6933 - accuracy: 0.4070\n",
      "Epoch 15/50\n",
      "50000/50000 [==============================] - 2s 36us/sample - loss: 1.6853 - accuracy: 0.4071\n",
      "Epoch 16/50\n",
      "50000/50000 [==============================] - 2s 37us/sample - loss: 1.6762 - accuracy: 0.4134\n",
      "Epoch 17/50\n",
      "50000/50000 [==============================] - 2s 37us/sample - loss: 1.6736 - accuracy: 0.4126\n",
      "Epoch 18/50\n",
      "50000/50000 [==============================] - 2s 36us/sample - loss: 1.6651 - accuracy: 0.4151\n",
      "Epoch 19/50\n",
      "50000/50000 [==============================] - 2s 37us/sample - loss: 1.6573 - accuracy: 0.4165\n",
      "Epoch 20/50\n",
      "50000/50000 [==============================] - 2s 36us/sample - loss: 1.6536 - accuracy: 0.4191\n",
      "Epoch 21/50\n",
      "50000/50000 [==============================] - 2s 37us/sample - loss: 1.6549 - accuracy: 0.4189\n",
      "Epoch 22/50\n",
      "50000/50000 [==============================] - 2s 36us/sample - loss: 1.6473 - accuracy: 0.4220\n",
      "Epoch 23/50\n",
      "50000/50000 [==============================] - 2s 36us/sample - loss: 1.6356 - accuracy: 0.4264\n",
      "Epoch 24/50\n",
      "50000/50000 [==============================] - 2s 36us/sample - loss: 1.6353 - accuracy: 0.4249\n",
      "Epoch 25/50\n",
      "50000/50000 [==============================] - 2s 36us/sample - loss: 1.6260 - accuracy: 0.4276\n",
      "Epoch 26/50\n",
      "50000/50000 [==============================] - 2s 36us/sample - loss: 1.6199 - accuracy: 0.4310\n",
      "Epoch 27/50\n",
      "50000/50000 [==============================] - 2s 37us/sample - loss: 1.6195 - accuracy: 0.4295\n",
      "Epoch 28/50\n",
      "50000/50000 [==============================] - 2s 37us/sample - loss: 1.6159 - accuracy: 0.4310\n",
      "Epoch 29/50\n",
      "50000/50000 [==============================] - 2s 36us/sample - loss: 1.6112 - accuracy: 0.4343\n",
      "Epoch 30/50\n",
      "50000/50000 [==============================] - 2s 37us/sample - loss: 1.6077 - accuracy: 0.4349\n",
      "Epoch 31/50\n",
      "50000/50000 [==============================] - 2s 37us/sample - loss: 1.6126 - accuracy: 0.4322\n",
      "Epoch 32/50\n",
      "50000/50000 [==============================] - 2s 36us/sample - loss: 1.6001 - accuracy: 0.4375\n",
      "Epoch 33/50\n",
      "50000/50000 [==============================] - 2s 37us/sample - loss: 1.5983 - accuracy: 0.4368\n",
      "Epoch 34/50\n",
      "50000/50000 [==============================] - 2s 37us/sample - loss: 1.5898 - accuracy: 0.4416\n",
      "Epoch 35/50\n",
      "50000/50000 [==============================] - 2s 34us/sample - loss: 1.5943 - accuracy: 0.4376\n",
      "Epoch 36/50\n",
      "50000/50000 [==============================] - 2s 34us/sample - loss: 1.5878 - accuracy: 0.4422\n",
      "Epoch 37/50\n",
      "50000/50000 [==============================] - 2s 36us/sample - loss: 1.5827 - accuracy: 0.4434\n",
      "Epoch 38/50\n",
      "50000/50000 [==============================] - 2s 37us/sample - loss: 1.5811 - accuracy: 0.4441\n",
      "Epoch 39/50\n",
      "50000/50000 [==============================] - 2s 36us/sample - loss: 1.5819 - accuracy: 0.4451\n",
      "Epoch 40/50\n",
      "50000/50000 [==============================] - 2s 37us/sample - loss: 1.5783 - accuracy: 0.4447\n",
      "Epoch 41/50\n",
      "50000/50000 [==============================] - 2s 35us/sample - loss: 1.5744 - accuracy: 0.4469\n",
      "Epoch 42/50\n",
      "50000/50000 [==============================] - 2s 36us/sample - loss: 1.5708 - accuracy: 0.4484\n",
      "Epoch 43/50\n",
      "50000/50000 [==============================] - 2s 36us/sample - loss: 1.5676 - accuracy: 0.4501\n",
      "Epoch 44/50\n",
      "50000/50000 [==============================] - 2s 36us/sample - loss: 1.5671 - accuracy: 0.4481\n",
      "Epoch 45/50\n",
      "50000/50000 [==============================] - 2s 34us/sample - loss: 1.5615 - accuracy: 0.4518\n",
      "Epoch 46/50\n",
      "50000/50000 [==============================] - 2s 34us/sample - loss: 1.5609 - accuracy: 0.4521\n",
      "Epoch 47/50\n",
      "50000/50000 [==============================] - 2s 35us/sample - loss: 1.5649 - accuracy: 0.4501\n",
      "Epoch 48/50\n",
      "50000/50000 [==============================] - 2s 33us/sample - loss: 1.5601 - accuracy: 0.4510\n",
      "Epoch 49/50\n",
      "50000/50000 [==============================] - 2s 36us/sample - loss: 1.5600 - accuracy: 0.4513\n",
      "Epoch 50/50\n",
      "50000/50000 [==============================] - 2s 34us/sample - loss: 1.5525 - accuracy: 0.4532\n",
      "10000/1 - 1s - loss: 1.5519 - accuracy: 0.4319\n",
      "\n",
      "\n",
      "Test accuracy: 0.4319\n"
     ]
    }
   ],
   "source": [
    "# adam and relu\n",
    "\n",
    "import tensorflow as tf\n",
    "from tensorflow import keras\n",
    "\n",
    "# Data Preparation\n",
    "(train_images, train_labels), (test_images, test_labels) = keras.datasets.cifar10.load_data()\n",
    "\n",
    "# Data Normalization [0,1]\n",
    "train_images = train_images / 255.0\n",
    "test_images  = test_images / 255.0\n",
    "\n",
    "# model\n",
    "model = keras.Sequential([\n",
    "    keras.layers.Flatten(input_shape=(32,32,3)),\n",
    "    keras.layers.Dense(128, activation='relu'),\n",
    "    keras.layers.Dense(10, activation='softmax')\n",
    "])\n",
    "\n",
    "model.compile(optimizer='adam',\n",
    "              loss='sparse_categorical_crossentropy',\n",
    "              metrics=['accuracy'])\n",
    "history_data = model.fit(train_images, train_labels, batch_size=1024, epochs=50)\n",
    "\n",
    "test_loss, test_acc = model.evaluate(test_images,  test_labels, verbose=2)\n",
    "print('\\n\\nTest accuracy:', test_acc)"
   ]
  },
  {
   "cell_type": "code",
   "execution_count": null,
   "metadata": {},
   "outputs": [],
   "source": []
  },
  {
   "cell_type": "code",
   "execution_count": null,
   "metadata": {},
   "outputs": [],
   "source": []
  },
  {
   "cell_type": "code",
   "execution_count": 4,
   "metadata": {},
   "outputs": [
    {
     "name": "stdout",
     "output_type": "stream",
     "text": [
      "Train on 50000 samples, validate on 10000 samples\n",
      "Epoch 1/50\n",
      "50000/50000 - 3s - loss: 2.2819 - accuracy: 0.1898 - val_loss: 2.0937 - val_accuracy: 0.2612\n",
      "Epoch 2/50\n",
      "50000/50000 - 2s - loss: 2.0338 - accuracy: 0.2767 - val_loss: 1.9672 - val_accuracy: 0.2969\n",
      "Epoch 3/50\n",
      "50000/50000 - 2s - loss: 1.9442 - accuracy: 0.3066 - val_loss: 1.9064 - val_accuracy: 0.3242\n",
      "Epoch 4/50\n",
      "50000/50000 - 2s - loss: 1.8960 - accuracy: 0.3313 - val_loss: 1.8696 - val_accuracy: 0.3427\n",
      "Epoch 5/50\n",
      "50000/50000 - 2s - loss: 1.8626 - accuracy: 0.3458 - val_loss: 1.8427 - val_accuracy: 0.3500\n",
      "Epoch 6/50\n",
      "50000/50000 - 2s - loss: 1.8336 - accuracy: 0.3594 - val_loss: 1.8183 - val_accuracy: 0.3609\n",
      "Epoch 7/50\n",
      "50000/50000 - 2s - loss: 1.8150 - accuracy: 0.3670 - val_loss: 1.8053 - val_accuracy: 0.3650\n",
      "Epoch 8/50\n",
      "50000/50000 - 2s - loss: 1.7936 - accuracy: 0.3746 - val_loss: 1.7911 - val_accuracy: 0.3706\n",
      "Epoch 9/50\n",
      "50000/50000 - 2s - loss: 1.7859 - accuracy: 0.3764 - val_loss: 1.7909 - val_accuracy: 0.3679\n",
      "Epoch 10/50\n",
      "50000/50000 - 2s - loss: 1.7731 - accuracy: 0.3801 - val_loss: 1.7673 - val_accuracy: 0.3823\n",
      "Epoch 11/50\n",
      "50000/50000 - 2s - loss: 1.7616 - accuracy: 0.3879 - val_loss: 1.7618 - val_accuracy: 0.3839\n",
      "Epoch 12/50\n",
      "50000/50000 - 2s - loss: 1.7518 - accuracy: 0.3918 - val_loss: 1.7532 - val_accuracy: 0.3851\n",
      "Epoch 13/50\n",
      "50000/50000 - 2s - loss: 1.7441 - accuracy: 0.3946 - val_loss: 1.7563 - val_accuracy: 0.3846\n",
      "Epoch 14/50\n",
      "50000/50000 - 2s - loss: 1.7401 - accuracy: 0.3957 - val_loss: 1.7445 - val_accuracy: 0.3878\n",
      "Epoch 15/50\n",
      "50000/50000 - 2s - loss: 1.7341 - accuracy: 0.3982 - val_loss: 1.7530 - val_accuracy: 0.3859\n",
      "Epoch 16/50\n",
      "50000/50000 - 2s - loss: 1.7306 - accuracy: 0.4003 - val_loss: 1.7455 - val_accuracy: 0.3875\n",
      "Epoch 17/50\n",
      "50000/50000 - 2s - loss: 1.7225 - accuracy: 0.4031 - val_loss: 1.7322 - val_accuracy: 0.3937\n",
      "Epoch 18/50\n",
      "50000/50000 - 2s - loss: 1.7221 - accuracy: 0.4040 - val_loss: 1.7473 - val_accuracy: 0.3853\n",
      "Epoch 19/50\n",
      "50000/50000 - 2s - loss: 1.7164 - accuracy: 0.4052 - val_loss: 1.7332 - val_accuracy: 0.3891\n",
      "Epoch 20/50\n",
      "50000/50000 - 2s - loss: 1.7119 - accuracy: 0.4063 - val_loss: 1.7363 - val_accuracy: 0.3968\n",
      "Epoch 21/50\n",
      "50000/50000 - 2s - loss: 1.7141 - accuracy: 0.4050 - val_loss: 1.7240 - val_accuracy: 0.3946\n",
      "Epoch 22/50\n",
      "50000/50000 - 2s - loss: 1.7066 - accuracy: 0.4094 - val_loss: 1.7313 - val_accuracy: 0.3915\n",
      "Epoch 23/50\n",
      "50000/50000 - 2s - loss: 1.7017 - accuracy: 0.4104 - val_loss: 1.7149 - val_accuracy: 0.3982\n",
      "Epoch 24/50\n",
      "50000/50000 - 2s - loss: 1.6976 - accuracy: 0.4117 - val_loss: 1.7178 - val_accuracy: 0.4027\n",
      "Epoch 25/50\n",
      "50000/50000 - 2s - loss: 1.6921 - accuracy: 0.4135 - val_loss: 1.7115 - val_accuracy: 0.4036\n",
      "Epoch 26/50\n",
      "50000/50000 - 2s - loss: 1.6951 - accuracy: 0.4134 - val_loss: 1.7213 - val_accuracy: 0.4008\n",
      "Epoch 27/50\n",
      "50000/50000 - 2s - loss: 1.6886 - accuracy: 0.4164 - val_loss: 1.7058 - val_accuracy: 0.4068\n",
      "Epoch 28/50\n",
      "50000/50000 - 2s - loss: 1.6849 - accuracy: 0.4157 - val_loss: 1.7152 - val_accuracy: 0.4027\n",
      "Epoch 29/50\n",
      "50000/50000 - 2s - loss: 1.6823 - accuracy: 0.4177 - val_loss: 1.7156 - val_accuracy: 0.4005\n",
      "Epoch 30/50\n",
      "50000/50000 - 2s - loss: 1.6798 - accuracy: 0.4172 - val_loss: 1.7008 - val_accuracy: 0.4099\n",
      "Epoch 31/50\n",
      "50000/50000 - 2s - loss: 1.6758 - accuracy: 0.4207 - val_loss: 1.7035 - val_accuracy: 0.4061\n",
      "Epoch 32/50\n",
      "50000/50000 - 2s - loss: 1.6742 - accuracy: 0.4202 - val_loss: 1.7041 - val_accuracy: 0.4081\n",
      "Epoch 33/50\n",
      "50000/50000 - 2s - loss: 1.6709 - accuracy: 0.4204 - val_loss: 1.6984 - val_accuracy: 0.4071\n",
      "Epoch 34/50\n",
      "50000/50000 - 2s - loss: 1.6723 - accuracy: 0.4214 - val_loss: 1.7089 - val_accuracy: 0.4039\n",
      "Epoch 35/50\n",
      "50000/50000 - 2s - loss: 1.6690 - accuracy: 0.4210 - val_loss: 1.6968 - val_accuracy: 0.4071\n",
      "Epoch 36/50\n",
      "50000/50000 - 2s - loss: 1.6692 - accuracy: 0.4202 - val_loss: 1.6969 - val_accuracy: 0.4109\n",
      "Epoch 37/50\n",
      "50000/50000 - 2s - loss: 1.6633 - accuracy: 0.4254 - val_loss: 1.6934 - val_accuracy: 0.4089\n",
      "Epoch 38/50\n",
      "50000/50000 - 2s - loss: 1.6575 - accuracy: 0.4269 - val_loss: 1.6963 - val_accuracy: 0.4041\n",
      "Epoch 39/50\n",
      "50000/50000 - 2s - loss: 1.6567 - accuracy: 0.4251 - val_loss: 1.6878 - val_accuracy: 0.4120\n",
      "Epoch 40/50\n",
      "50000/50000 - 2s - loss: 1.6570 - accuracy: 0.4254 - val_loss: 1.6895 - val_accuracy: 0.4082\n",
      "Epoch 41/50\n",
      "50000/50000 - 2s - loss: 1.6578 - accuracy: 0.4242 - val_loss: 1.6918 - val_accuracy: 0.4067\n",
      "Epoch 42/50\n",
      "50000/50000 - 2s - loss: 1.6507 - accuracy: 0.4287 - val_loss: 1.6905 - val_accuracy: 0.4107\n",
      "Epoch 43/50\n",
      "50000/50000 - 2s - loss: 1.6573 - accuracy: 0.4251 - val_loss: 1.6950 - val_accuracy: 0.4025\n",
      "Epoch 44/50\n",
      "50000/50000 - 2s - loss: 1.6484 - accuracy: 0.4283 - val_loss: 1.6874 - val_accuracy: 0.4119\n",
      "Epoch 45/50\n",
      "50000/50000 - 2s - loss: 1.6493 - accuracy: 0.4271 - val_loss: 1.6893 - val_accuracy: 0.4080\n",
      "Epoch 46/50\n",
      "50000/50000 - 2s - loss: 1.6431 - accuracy: 0.4307 - val_loss: 1.6789 - val_accuracy: 0.4160\n",
      "Epoch 47/50\n",
      "50000/50000 - 2s - loss: 1.6432 - accuracy: 0.4320 - val_loss: 1.6866 - val_accuracy: 0.4096\n",
      "Epoch 48/50\n",
      "50000/50000 - 2s - loss: 1.6406 - accuracy: 0.4306 - val_loss: 1.6798 - val_accuracy: 0.4136\n",
      "Epoch 49/50\n",
      "50000/50000 - 2s - loss: 1.6379 - accuracy: 0.4310 - val_loss: 1.6865 - val_accuracy: 0.4046\n",
      "Epoch 50/50\n",
      "50000/50000 - 2s - loss: 1.6400 - accuracy: 0.4315 - val_loss: 1.6780 - val_accuracy: 0.4145\n"
     ]
    }
   ],
   "source": [
    "# adam and relu\n",
    "\n",
    "import tensorflow as tf\n",
    "from tensorflow import keras\n",
    "\n",
    "# Data Preparation\n",
    "(train_images, train_labels), (test_images, test_labels) = keras.datasets.cifar10.load_data()\n",
    "\n",
    "# Data Normalization [0,1]\n",
    "train_images = train_images / 255.0\n",
    "test_images  = test_images / 255.0\n",
    "\n",
    "# model\n",
    "model = keras.Sequential([\n",
    "    keras.layers.Flatten(input_shape=(32,32,3)),\n",
    "    keras.layers.Dense(128, activation='relu'),\n",
    "    keras.layers.Dense(10, activation='softmax')\n",
    "])\n",
    "\n",
    "model.compile(optimizer='adam',\n",
    "              loss='sparse_categorical_crossentropy',\n",
    "              metrics=['accuracy'])\n",
    "history_data = model.fit(train_images, train_labels, \n",
    "                    validation_data=(test_images, test_labels), \n",
    "                    batch_size=1024, epochs=50, verbose=2)"
   ]
  },
  {
   "cell_type": "code",
   "execution_count": null,
   "metadata": {},
   "outputs": [],
   "source": []
  },
  {
   "cell_type": "code",
   "execution_count": 6,
   "metadata": {},
   "outputs": [
    {
     "data": {
      "text/plain": [
       "<matplotlib.legend.Legend at 0x1c5708e17b8>"
      ]
     },
     "execution_count": 6,
     "metadata": {},
     "output_type": "execute_result"
    },
    {
     "data": {
      "image/png": "[encoded data removed]",
      "text/plain": [
       "<Figure size 432x288 with 1 Axes>"
      ]
     },
     "metadata": {
      "needs_background": "light"
     },
     "output_type": "display_data"
    }
   ],
   "source": [
    "import matplotlib.pyplot as plt\n",
    "\n",
    "plt.plot(history_data.history['loss'], label = \"train_loss\")\n",
    "plt.plot(history_data.history['val_loss'], label = \"val_loss\")\n",
    "plt.xlabel('iteration')\n",
    "plt.ylabel('Loss')\n",
    "plt.legend()"
   ]
  },
  {
   "cell_type": "code",
   "execution_count": null,
   "metadata": {},
   "outputs": [],
   "source": []
  },
  {
   "cell_type": "code",
   "execution_count": 7,
   "metadata": {},
   "outputs": [
    {
     "data": {
      "text/plain": [
       "<matplotlib.legend.Legend at 0x1c5709793c8>"
      ]
     },
     "execution_count": 7,
     "metadata": {},
     "output_type": "execute_result"
    },
    {
     "data": {
      "image/png": "[encoded data removed]",
      "text/plain": [
       "<Figure size 432x288 with 1 Axes>"
      ]
     },
     "metadata": {
      "needs_background": "light"
     },
     "output_type": "display_data"
    }
   ],
   "source": [
    "import matplotlib.pyplot as plt\n",
    "\n",
    "plt.plot(history_data.history['accuracy'], label = \"train_accuracy\")\n",
    "plt.plot(history_data.history['val_accuracy'], label = \"val_accuracy\")\n",
    "plt.xlabel('iteration')\n",
    "plt.ylabel('Accuracy')\n",
    "plt.legend()"
   ]
  },
  {
   "cell_type": "code",
   "execution_count": null,
   "metadata": {},
   "outputs": [],
   "source": []
  },
  {
   "cell_type": "code",
   "execution_count": null,
   "metadata": {},
   "outputs": [],
   "source": []
  },
  {
   "cell_type": "code",
   "execution_count": 8,
   "metadata": {},
   "outputs": [
    {
     "name": "stdout",
     "output_type": "stream",
     "text": [
      "Train on 50000 samples, validate on 10000 samples\n",
      "Epoch 1/50\n",
      "50000/50000 - 3s - loss: 2.0673 - accuracy: 0.2528 - val_loss: 1.8790 - val_accuracy: 0.3326\n",
      "Epoch 2/50\n",
      "50000/50000 - 2s - loss: 1.8260 - accuracy: 0.3549 - val_loss: 1.8016 - val_accuracy: 0.3547\n",
      "Epoch 3/50\n",
      "50000/50000 - 2s - loss: 1.7560 - accuracy: 0.3813 - val_loss: 1.7241 - val_accuracy: 0.3896\n",
      "Epoch 4/50\n",
      "50000/50000 - 2s - loss: 1.6970 - accuracy: 0.4021 - val_loss: 1.6726 - val_accuracy: 0.4135\n",
      "Epoch 5/50\n",
      "50000/50000 - 2s - loss: 1.6540 - accuracy: 0.4166 - val_loss: 1.6524 - val_accuracy: 0.4149\n",
      "Epoch 6/50\n",
      "50000/50000 - 2s - loss: 1.6354 - accuracy: 0.4212 - val_loss: 1.6232 - val_accuracy: 0.4299\n",
      "Epoch 7/50\n",
      "50000/50000 - 2s - loss: 1.5912 - accuracy: 0.4398 - val_loss: 1.5847 - val_accuracy: 0.4357\n",
      "Epoch 8/50\n",
      "50000/50000 - 2s - loss: 1.5645 - accuracy: 0.4485 - val_loss: 1.5988 - val_accuracy: 0.4300\n",
      "Epoch 9/50\n",
      "50000/50000 - 2s - loss: 1.5499 - accuracy: 0.4558 - val_loss: 1.5440 - val_accuracy: 0.4540\n",
      "Epoch 10/50\n",
      "50000/50000 - 2s - loss: 1.5237 - accuracy: 0.4635 - val_loss: 1.5334 - val_accuracy: 0.4573\n",
      "Epoch 11/50\n",
      "50000/50000 - 2s - loss: 1.5014 - accuracy: 0.4710 - val_loss: 1.5274 - val_accuracy: 0.4558\n",
      "Epoch 12/50\n",
      "50000/50000 - 2s - loss: 1.4861 - accuracy: 0.4753 - val_loss: 1.5094 - val_accuracy: 0.4618\n",
      "Epoch 13/50\n",
      "50000/50000 - 2s - loss: 1.4717 - accuracy: 0.4796 - val_loss: 1.4817 - val_accuracy: 0.4778\n",
      "Epoch 14/50\n",
      "50000/50000 - 2s - loss: 1.4494 - accuracy: 0.4883 - val_loss: 1.5051 - val_accuracy: 0.4708\n",
      "Epoch 15/50\n",
      "50000/50000 - 2s - loss: 1.4534 - accuracy: 0.4861 - val_loss: 1.4803 - val_accuracy: 0.4765\n",
      "Epoch 16/50\n",
      "50000/50000 - 2s - loss: 1.4334 - accuracy: 0.4936 - val_loss: 1.4548 - val_accuracy: 0.4854\n",
      "Epoch 17/50\n",
      "50000/50000 - 2s - loss: 1.4212 - accuracy: 0.4990 - val_loss: 1.4568 - val_accuracy: 0.4820\n",
      "Epoch 18/50\n",
      "50000/50000 - 2s - loss: 1.4033 - accuracy: 0.5060 - val_loss: 1.4487 - val_accuracy: 0.4870\n",
      "Epoch 19/50\n",
      "50000/50000 - 2s - loss: 1.3997 - accuracy: 0.5050 - val_loss: 1.4676 - val_accuracy: 0.4886\n",
      "Epoch 20/50\n",
      "50000/50000 - 2s - loss: 1.3909 - accuracy: 0.5092 - val_loss: 1.4525 - val_accuracy: 0.4852\n",
      "Epoch 21/50\n",
      "50000/50000 - 2s - loss: 1.3873 - accuracy: 0.5105 - val_loss: 1.4461 - val_accuracy: 0.4846\n",
      "Epoch 22/50\n",
      "50000/50000 - 2s - loss: 1.3739 - accuracy: 0.5159 - val_loss: 1.4518 - val_accuracy: 0.4887\n",
      "Epoch 23/50\n",
      "50000/50000 - 2s - loss: 1.3695 - accuracy: 0.5161 - val_loss: 1.4736 - val_accuracy: 0.4771\n",
      "Epoch 24/50\n",
      "50000/50000 - 2s - loss: 1.3669 - accuracy: 0.5165 - val_loss: 1.4381 - val_accuracy: 0.4916\n",
      "Epoch 25/50\n",
      "50000/50000 - 2s - loss: 1.3532 - accuracy: 0.5238 - val_loss: 1.4619 - val_accuracy: 0.4859\n",
      "Epoch 26/50\n",
      "50000/50000 - 2s - loss: 1.3599 - accuracy: 0.5199 - val_loss: 1.4351 - val_accuracy: 0.4965\n",
      "Epoch 27/50\n",
      "50000/50000 - 2s - loss: 1.3447 - accuracy: 0.5242 - val_loss: 1.4166 - val_accuracy: 0.4985\n",
      "Epoch 28/50\n",
      "50000/50000 - 2s - loss: 1.3292 - accuracy: 0.5304 - val_loss: 1.4168 - val_accuracy: 0.5016\n",
      "Epoch 29/50\n",
      "50000/50000 - 2s - loss: 1.3247 - accuracy: 0.5316 - val_loss: 1.4086 - val_accuracy: 0.5051\n",
      "Epoch 30/50\n",
      "50000/50000 - 2s - loss: 1.3211 - accuracy: 0.5330 - val_loss: 1.4356 - val_accuracy: 0.4894\n",
      "Epoch 31/50\n",
      "50000/50000 - 2s - loss: 1.3135 - accuracy: 0.5359 - val_loss: 1.4031 - val_accuracy: 0.5031\n",
      "Epoch 32/50\n",
      "50000/50000 - 2s - loss: 1.3060 - accuracy: 0.5402 - val_loss: 1.4245 - val_accuracy: 0.5012\n",
      "Epoch 33/50\n",
      "50000/50000 - 2s - loss: 1.3124 - accuracy: 0.5364 - val_loss: 1.4454 - val_accuracy: 0.4943\n",
      "Epoch 34/50\n",
      "50000/50000 - 2s - loss: 1.3002 - accuracy: 0.5423 - val_loss: 1.4040 - val_accuracy: 0.5074\n",
      "Epoch 35/50\n",
      "50000/50000 - 2s - loss: 1.2902 - accuracy: 0.5430 - val_loss: 1.4054 - val_accuracy: 0.5032\n",
      "Epoch 36/50\n",
      "50000/50000 - 2s - loss: 1.2876 - accuracy: 0.5436 - val_loss: 1.4263 - val_accuracy: 0.5006\n",
      "Epoch 37/50\n",
      "50000/50000 - 2s - loss: 1.2839 - accuracy: 0.5474 - val_loss: 1.4003 - val_accuracy: 0.5089\n",
      "Epoch 38/50\n",
      "50000/50000 - 2s - loss: 1.2825 - accuracy: 0.5479 - val_loss: 1.3892 - val_accuracy: 0.5072\n",
      "Epoch 39/50\n",
      "50000/50000 - 2s - loss: 1.2734 - accuracy: 0.5509 - val_loss: 1.3927 - val_accuracy: 0.5115\n",
      "Epoch 40/50\n",
      "50000/50000 - 2s - loss: 1.2621 - accuracy: 0.5557 - val_loss: 1.3951 - val_accuracy: 0.5073\n",
      "Epoch 41/50\n",
      "50000/50000 - 2s - loss: 1.2602 - accuracy: 0.5571 - val_loss: 1.4017 - val_accuracy: 0.5039\n",
      "Epoch 42/50\n",
      "50000/50000 - 2s - loss: 1.2572 - accuracy: 0.5584 - val_loss: 1.4088 - val_accuracy: 0.5010\n",
      "Epoch 43/50\n",
      "50000/50000 - 2s - loss: 1.2578 - accuracy: 0.5553 - val_loss: 1.4123 - val_accuracy: 0.5034\n",
      "Epoch 44/50\n",
      "50000/50000 - 2s - loss: 1.2527 - accuracy: 0.5591 - val_loss: 1.3859 - val_accuracy: 0.5149\n",
      "Epoch 45/50\n",
      "50000/50000 - 2s - loss: 1.2446 - accuracy: 0.5615 - val_loss: 1.3703 - val_accuracy: 0.5171\n",
      "Epoch 46/50\n",
      "50000/50000 - 2s - loss: 1.2437 - accuracy: 0.5610 - val_loss: 1.3717 - val_accuracy: 0.5176\n",
      "Epoch 47/50\n",
      "50000/50000 - 2s - loss: 1.2287 - accuracy: 0.5679 - val_loss: 1.3930 - val_accuracy: 0.5087\n",
      "Epoch 48/50\n",
      "50000/50000 - 2s - loss: 1.2343 - accuracy: 0.5649 - val_loss: 1.4083 - val_accuracy: 0.5097\n",
      "Epoch 49/50\n",
      "50000/50000 - 2s - loss: 1.2344 - accuracy: 0.5643 - val_loss: 1.4141 - val_accuracy: 0.5021\n",
      "Epoch 50/50\n",
      "50000/50000 - 2s - loss: 1.2220 - accuracy: 0.5709 - val_loss: 1.3784 - val_accuracy: 0.5123\n"
     ]
    }
   ],
   "source": [
    "# adam and relu\n",
    "\n",
    "import tensorflow as tf\n",
    "from tensorflow import keras\n",
    "\n",
    "# Data Preparation\n",
    "(train_images, train_labels), (test_images, test_labels) = keras.datasets.cifar10.load_data()\n",
    "\n",
    "# Data Normalization [0,1]\n",
    "train_images = train_images / 255.0\n",
    "test_images  = test_images / 255.0\n",
    "\n",
    "# model\n",
    "model = keras.Sequential([\n",
    "    keras.layers.Flatten(input_shape=(32,32,3)),\n",
    "    keras.layers.Dense(128, activation='relu'),\n",
    "    keras.layers.Dense(128, activation='relu'),\n",
    "    keras.layers.Dense(10, activation='softmax')\n",
    "])\n",
    "\n",
    "model.compile(optimizer='adam',\n",
    "              loss='sparse_categorical_crossentropy',\n",
    "              metrics=['accuracy'])\n",
    "\n",
    "history_data = model.fit(train_images, train_labels, \n",
    "                    validation_data=(test_images, test_labels), \n",
    "                    batch_size=1024, epochs=50, verbose=2)"
   ]
  },
  {
   "cell_type": "code",
   "execution_count": 9,
   "metadata": {},
   "outputs": [
    {
     "data": {
      "text/plain": [
       "<matplotlib.legend.Legend at 0x1c56bc105f8>"
      ]
     },
     "execution_count": 9,
     "metadata": {},
     "output_type": "execute_result"
    },
    {
     "data": {
      "image/png": "[encoded data removed]",
      "text/plain": [
       "<Figure size 432x288 with 1 Axes>"
      ]
     },
     "metadata": {
      "needs_background": "light"
     },
     "output_type": "display_data"
    }
   ],
   "source": [
    "import matplotlib.pyplot as plt\n",
    "\n",
    "plt.plot(history_data.history['loss'], label = \"train_loss\")\n",
    "plt.plot(history_data.history['val_loss'], label = \"val_loss\")\n",
    "plt.xlabel('iteration')\n",
    "plt.ylabel('Loss')\n",
    "plt.legend()"
   ]
  },
  {
   "cell_type": "code",
   "execution_count": null,
   "metadata": {},
   "outputs": [],
   "source": []
  },
  {
   "cell_type": "code",
   "execution_count": null,
   "metadata": {},
   "outputs": [],
   "source": [
    "import matplotlib.pyplot as plt\n",
    "\n",
    "plt.plot(history_data.history['accuracy'], label = \"train_accuracy\")\n",
    "plt.plot(history_data.history['val_accuracy'], label = \"val_accuracy\")\n",
    "plt.xlabel('iteration')\n",
    "plt.ylabel('Accuracy')\n",
    "plt.legend()"
   ]
  },
  {
   "cell_type": "code",
   "execution_count": null,
   "metadata": {},
   "outputs": [],
   "source": []
  },
  {
   "cell_type": "code",
   "execution_count": null,
   "metadata": {},
   "outputs": [],
   "source": []
  },
  {
   "cell_type": "code",
   "execution_count": null,
   "metadata": {},
   "outputs": [],
   "source": []
  },
  {
   "cell_type": "code",
   "execution_count": 10,
   "metadata": {},
   "outputs": [
    {
     "name": "stdout",
     "output_type": "stream",
     "text": [
      "Train on 50000 samples, validate on 10000 samples\n",
      "Epoch 1/50\n",
      "50000/50000 - 3s - loss: 2.0207 - accuracy: 0.2605 - val_loss: 1.8658 - val_accuracy: 0.3390\n",
      "Epoch 2/50\n",
      "50000/50000 - 2s - loss: 1.7992 - accuracy: 0.3586 - val_loss: 1.7370 - val_accuracy: 0.3841\n",
      "Epoch 3/50\n",
      "50000/50000 - 2s - loss: 1.7119 - accuracy: 0.3904 - val_loss: 1.6792 - val_accuracy: 0.4050\n",
      "Epoch 4/50\n",
      "50000/50000 - 2s - loss: 1.6553 - accuracy: 0.4156 - val_loss: 1.6185 - val_accuracy: 0.4282\n",
      "Epoch 5/50\n",
      "50000/50000 - 2s - loss: 1.6106 - accuracy: 0.4291 - val_loss: 1.6106 - val_accuracy: 0.4252\n",
      "Epoch 6/50\n",
      "50000/50000 - 2s - loss: 1.5724 - accuracy: 0.4431 - val_loss: 1.5592 - val_accuracy: 0.4471\n",
      "Epoch 7/50\n",
      "50000/50000 - 2s - loss: 1.5393 - accuracy: 0.4541 - val_loss: 1.5334 - val_accuracy: 0.4603\n",
      "Epoch 8/50\n",
      "50000/50000 - 2s - loss: 1.5170 - accuracy: 0.4621 - val_loss: 1.5359 - val_accuracy: 0.4603\n",
      "Epoch 9/50\n",
      "50000/50000 - 2s - loss: 1.4984 - accuracy: 0.4707 - val_loss: 1.5030 - val_accuracy: 0.4650\n",
      "Epoch 10/50\n",
      "50000/50000 - 2s - loss: 1.4711 - accuracy: 0.4796 - val_loss: 1.5307 - val_accuracy: 0.4571\n",
      "Epoch 11/50\n",
      "50000/50000 - 2s - loss: 1.4643 - accuracy: 0.4804 - val_loss: 1.4822 - val_accuracy: 0.4756\n",
      "Epoch 12/50\n",
      "50000/50000 - 2s - loss: 1.4409 - accuracy: 0.4898 - val_loss: 1.4560 - val_accuracy: 0.4882\n",
      "Epoch 13/50\n",
      "50000/50000 - 2s - loss: 1.4252 - accuracy: 0.4966 - val_loss: 1.4639 - val_accuracy: 0.4824\n",
      "Epoch 14/50\n",
      "50000/50000 - 2s - loss: 1.4072 - accuracy: 0.5025 - val_loss: 1.4463 - val_accuracy: 0.4899\n",
      "Epoch 15/50\n",
      "50000/50000 - 2s - loss: 1.4037 - accuracy: 0.5026 - val_loss: 1.4514 - val_accuracy: 0.4863\n",
      "Epoch 16/50\n",
      "50000/50000 - 2s - loss: 1.3785 - accuracy: 0.5142 - val_loss: 1.4548 - val_accuracy: 0.4864\n",
      "Epoch 17/50\n",
      "50000/50000 - 2s - loss: 1.3676 - accuracy: 0.5155 - val_loss: 1.4189 - val_accuracy: 0.4949\n",
      "Epoch 18/50\n",
      "50000/50000 - 2s - loss: 1.3563 - accuracy: 0.5208 - val_loss: 1.4303 - val_accuracy: 0.4943\n",
      "Epoch 19/50\n",
      "50000/50000 - 2s - loss: 1.3520 - accuracy: 0.5243 - val_loss: 1.4336 - val_accuracy: 0.4936\n",
      "Epoch 20/50\n",
      "50000/50000 - 2s - loss: 1.3291 - accuracy: 0.5296 - val_loss: 1.4234 - val_accuracy: 0.4960\n",
      "Epoch 21/50\n",
      "50000/50000 - 2s - loss: 1.3200 - accuracy: 0.5340 - val_loss: 1.4454 - val_accuracy: 0.4875\n",
      "Epoch 22/50\n",
      "50000/50000 - 2s - loss: 1.3114 - accuracy: 0.5356 - val_loss: 1.4091 - val_accuracy: 0.5021\n",
      "Epoch 23/50\n",
      "50000/50000 - 2s - loss: 1.3026 - accuracy: 0.5387 - val_loss: 1.4028 - val_accuracy: 0.5065\n",
      "Epoch 24/50\n",
      "50000/50000 - 2s - loss: 1.3025 - accuracy: 0.5419 - val_loss: 1.3999 - val_accuracy: 0.5075\n",
      "Epoch 25/50\n",
      "50000/50000 - 2s - loss: 1.2889 - accuracy: 0.5447 - val_loss: 1.3942 - val_accuracy: 0.5045\n",
      "Epoch 26/50\n",
      "50000/50000 - 2s - loss: 1.2755 - accuracy: 0.5483 - val_loss: 1.3848 - val_accuracy: 0.5152\n",
      "Epoch 27/50\n",
      "50000/50000 - 2s - loss: 1.2639 - accuracy: 0.5538 - val_loss: 1.3889 - val_accuracy: 0.5140\n",
      "Epoch 28/50\n",
      "50000/50000 - 2s - loss: 1.2454 - accuracy: 0.5599 - val_loss: 1.3868 - val_accuracy: 0.5076\n",
      "Epoch 29/50\n",
      "50000/50000 - 2s - loss: 1.2567 - accuracy: 0.5551 - val_loss: 1.3967 - val_accuracy: 0.5039\n",
      "Epoch 30/50\n",
      "50000/50000 - 2s - loss: 1.2360 - accuracy: 0.5636 - val_loss: 1.3951 - val_accuracy: 0.5090\n",
      "Epoch 31/50\n",
      "50000/50000 - 2s - loss: 1.2308 - accuracy: 0.5654 - val_loss: 1.3674 - val_accuracy: 0.5164\n",
      "Epoch 32/50\n",
      "50000/50000 - 2s - loss: 1.2254 - accuracy: 0.5665 - val_loss: 1.3868 - val_accuracy: 0.5143\n",
      "Epoch 33/50\n",
      "50000/50000 - 2s - loss: 1.2132 - accuracy: 0.5727 - val_loss: 1.4017 - val_accuracy: 0.5079\n",
      "Epoch 34/50\n",
      "50000/50000 - 2s - loss: 1.2090 - accuracy: 0.5716 - val_loss: 1.3730 - val_accuracy: 0.5192\n",
      "Epoch 35/50\n",
      "50000/50000 - 2s - loss: 1.1941 - accuracy: 0.5767 - val_loss: 1.3689 - val_accuracy: 0.5154\n",
      "Epoch 36/50\n",
      "50000/50000 - 2s - loss: 1.1886 - accuracy: 0.5796 - val_loss: 1.3640 - val_accuracy: 0.5193\n",
      "Epoch 37/50\n",
      "50000/50000 - 2s - loss: 1.1838 - accuracy: 0.5841 - val_loss: 1.3816 - val_accuracy: 0.5166\n",
      "Epoch 38/50\n",
      "50000/50000 - 2s - loss: 1.1826 - accuracy: 0.5814 - val_loss: 1.3779 - val_accuracy: 0.5192\n",
      "Epoch 39/50\n",
      "50000/50000 - 2s - loss: 1.1770 - accuracy: 0.5832 - val_loss: 1.3839 - val_accuracy: 0.5133\n",
      "Epoch 40/50\n",
      "50000/50000 - 2s - loss: 1.1673 - accuracy: 0.5855 - val_loss: 1.3681 - val_accuracy: 0.5211\n",
      "Epoch 41/50\n",
      "50000/50000 - 2s - loss: 1.1715 - accuracy: 0.5874 - val_loss: 1.3678 - val_accuracy: 0.5184\n",
      "Epoch 42/50\n",
      "50000/50000 - 2s - loss: 1.1479 - accuracy: 0.5942 - val_loss: 1.4255 - val_accuracy: 0.4992\n",
      "Epoch 43/50\n",
      "50000/50000 - 2s - loss: 1.1493 - accuracy: 0.5930 - val_loss: 1.3549 - val_accuracy: 0.5256\n",
      "Epoch 44/50\n",
      "50000/50000 - 3s - loss: 1.1401 - accuracy: 0.5948 - val_loss: 1.3826 - val_accuracy: 0.5172\n",
      "Epoch 45/50\n",
      "50000/50000 - 2s - loss: 1.1290 - accuracy: 0.6013 - val_loss: 1.3831 - val_accuracy: 0.5182\n",
      "Epoch 46/50\n",
      "50000/50000 - 3s - loss: 1.1213 - accuracy: 0.6018 - val_loss: 1.3632 - val_accuracy: 0.5220\n",
      "Epoch 47/50\n",
      "50000/50000 - 3s - loss: 1.1200 - accuracy: 0.6033 - val_loss: 1.3864 - val_accuracy: 0.5189\n",
      "Epoch 48/50\n",
      "50000/50000 - 3s - loss: 1.1126 - accuracy: 0.6067 - val_loss: 1.3533 - val_accuracy: 0.5288\n",
      "Epoch 49/50\n",
      "50000/50000 - 2s - loss: 1.0984 - accuracy: 0.6101 - val_loss: 1.3695 - val_accuracy: 0.5247\n",
      "Epoch 50/50\n",
      "50000/50000 - 2s - loss: 1.0961 - accuracy: 0.6128 - val_loss: 1.3838 - val_accuracy: 0.5232\n"
     ]
    }
   ],
   "source": [
    "# relu and adam\n",
    "\n",
    "import tensorflow as tf\n",
    "from tensorflow import keras\n",
    "\n",
    "# Data Preparation\n",
    "(train_images, train_labels), (test_images, test_labels) = keras.datasets.cifar10.load_data()\n",
    "\n",
    "# Data Normalization [0,1]\n",
    "train_images = train_images / 255.0\n",
    "test_images  = test_images / 255.0\n",
    "\n",
    "# model\n",
    "model = keras.Sequential([\n",
    "    keras.layers.Flatten(input_shape=(32,32,3)),\n",
    "    keras.layers.Dense(128, activation='relu'),\n",
    "    keras.layers.Dense(128, activation='relu'),\n",
    "    keras.layers.Dense(128, activation='relu'),\n",
    "    keras.layers.Dense(10, activation='softmax')\n",
    "])\n",
    "\n",
    "model.compile(optimizer='adam',\n",
    "              loss='sparse_categorical_crossentropy',\n",
    "              metrics=['accuracy'])\n",
    "\n",
    "history_data = model.fit(train_images, train_labels, \n",
    "                    validation_data=(test_images, test_labels), \n",
    "                    batch_size=1024, epochs=50, verbose=2)"
   ]
  },
  {
   "cell_type": "code",
   "execution_count": 11,
   "metadata": {},
   "outputs": [
    {
     "data": {
      "text/plain": [
       "<matplotlib.legend.Legend at 0x1c571a289b0>"
      ]
     },
     "execution_count": 11,
     "metadata": {},
     "output_type": "execute_result"
    },
    {
     "data": {
      "image/png": "[encoded data removed]",
      "text/plain": [
       "<Figure size 432x288 with 1 Axes>"
      ]
     },
     "metadata": {
      "needs_background": "light"
     },
     "output_type": "display_data"
    }
   ],
   "source": [
    "import matplotlib.pyplot as plt\n",
    "\n",
    "plt.plot(history_data.history['loss'], label = \"train_loss\")\n",
    "plt.plot(history_data.history['val_loss'], label = \"val_loss\")\n",
    "plt.xlabel('iteration')\n",
    "plt.ylabel('Loss')\n",
    "plt.legend()"
   ]
  },
  {
   "cell_type": "code",
   "execution_count": 12,
   "metadata": {},
   "outputs": [
    {
     "data": {
      "text/plain": [
       "<matplotlib.legend.Legend at 0x1c571a6ceb8>"
      ]
     },
     "execution_count": 12,
     "metadata": {},
     "output_type": "execute_result"
    },
    {
     "data": {
      "image/png": "[encoded data removed]",
      "text/plain": [
       "<Figure size 432x288 with 1 Axes>"
      ]
     },
     "metadata": {
      "needs_background": "light"
     },
     "output_type": "display_data"
    }
   ],
   "source": [
    "import matplotlib.pyplot as plt\n",
    "\n",
    "plt.plot(history_data.history['accuracy'], label = \"train_accuracy\")\n",
    "plt.plot(history_data.history['val_accuracy'], label = \"val_accuracy\")\n",
    "plt.xlabel('iteration')\n",
    "plt.ylabel('Accuracy')\n",
    "plt.legend()"
   ]
  },
  {
   "cell_type": "code",
   "execution_count": null,
   "metadata": {},
   "outputs": [],
   "source": []
  },
  {
   "cell_type": "code",
   "execution_count": null,
   "metadata": {},
   "outputs": [],
   "source": []
  },
  {
   "cell_type": "code",
   "execution_count": 14,
   "metadata": {},
   "outputs": [
    {
     "name": "stdout",
     "output_type": "stream",
     "text": [
      "Train on 50000 samples, validate on 10000 samples\n",
      "Epoch 1/50\n",
      "50000/50000 - 3s - loss: 2.0250 - accuracy: 0.2550 - val_loss: 1.8552 - val_accuracy: 0.3265\n",
      "Epoch 2/50\n",
      "50000/50000 - 3s - loss: 1.7947 - accuracy: 0.3500 - val_loss: 1.7094 - val_accuracy: 0.3808\n",
      "Epoch 3/50\n",
      "50000/50000 - 2s - loss: 1.6905 - accuracy: 0.3927 - val_loss: 1.6364 - val_accuracy: 0.4086\n",
      "Epoch 4/50\n",
      "50000/50000 - 3s - loss: 1.6411 - accuracy: 0.4119 - val_loss: 1.6048 - val_accuracy: 0.4301\n",
      "Epoch 5/50\n",
      "50000/50000 - 3s - loss: 1.5952 - accuracy: 0.4301 - val_loss: 1.5618 - val_accuracy: 0.4371\n",
      "Epoch 6/50\n",
      "50000/50000 - 3s - loss: 1.5607 - accuracy: 0.4414 - val_loss: 1.5666 - val_accuracy: 0.4371\n",
      "Epoch 7/50\n",
      "50000/50000 - 3s - loss: 1.5141 - accuracy: 0.4585 - val_loss: 1.5131 - val_accuracy: 0.4605\n",
      "Epoch 8/50\n",
      "50000/50000 - 3s - loss: 1.4851 - accuracy: 0.4726 - val_loss: 1.4906 - val_accuracy: 0.4708\n",
      "Epoch 9/50\n",
      "50000/50000 - 2s - loss: 1.4775 - accuracy: 0.4710 - val_loss: 1.4843 - val_accuracy: 0.4723\n",
      "Epoch 10/50\n",
      "50000/50000 - 3s - loss: 1.4366 - accuracy: 0.4889 - val_loss: 1.4888 - val_accuracy: 0.4683\n",
      "Epoch 11/50\n",
      "50000/50000 - 2s - loss: 1.4243 - accuracy: 0.4923 - val_loss: 1.4425 - val_accuracy: 0.4840\n",
      "Epoch 12/50\n",
      "50000/50000 - 3s - loss: 1.4123 - accuracy: 0.4944 - val_loss: 1.4425 - val_accuracy: 0.4875\n",
      "Epoch 13/50\n",
      "50000/50000 - 3s - loss: 1.3854 - accuracy: 0.5043 - val_loss: 1.4417 - val_accuracy: 0.4832\n",
      "Epoch 14/50\n",
      "50000/50000 - 3s - loss: 1.3715 - accuracy: 0.5124 - val_loss: 1.4458 - val_accuracy: 0.4913\n",
      "Epoch 15/50\n",
      "50000/50000 - 3s - loss: 1.3541 - accuracy: 0.5154 - val_loss: 1.4465 - val_accuracy: 0.4869\n",
      "Epoch 16/50\n",
      "50000/50000 - 3s - loss: 1.3414 - accuracy: 0.5221 - val_loss: 1.4565 - val_accuracy: 0.4825\n",
      "Epoch 17/50\n",
      "50000/50000 - 3s - loss: 1.3262 - accuracy: 0.5252 - val_loss: 1.4134 - val_accuracy: 0.4975\n",
      "Epoch 18/50\n",
      "50000/50000 - 3s - loss: 1.3176 - accuracy: 0.5301 - val_loss: 1.4035 - val_accuracy: 0.5010\n",
      "Epoch 19/50\n",
      "50000/50000 - 3s - loss: 1.3123 - accuracy: 0.5305 - val_loss: 1.4158 - val_accuracy: 0.4943\n",
      "Epoch 20/50\n",
      "50000/50000 - 3s - loss: 1.2948 - accuracy: 0.5385 - val_loss: 1.4469 - val_accuracy: 0.4855\n",
      "Epoch 21/50\n",
      "50000/50000 - 3s - loss: 1.2828 - accuracy: 0.5416 - val_loss: 1.4176 - val_accuracy: 0.4958\n",
      "Epoch 22/50\n",
      "50000/50000 - 3s - loss: 1.2742 - accuracy: 0.5452 - val_loss: 1.4183 - val_accuracy: 0.5019\n",
      "Epoch 23/50\n",
      "50000/50000 - 3s - loss: 1.2645 - accuracy: 0.5497 - val_loss: 1.3932 - val_accuracy: 0.5048\n",
      "Epoch 24/50\n",
      "50000/50000 - 3s - loss: 1.2397 - accuracy: 0.5600 - val_loss: 1.4030 - val_accuracy: 0.5006\n",
      "Epoch 25/50\n",
      "50000/50000 - 3s - loss: 1.2216 - accuracy: 0.5658 - val_loss: 1.4091 - val_accuracy: 0.5011\n",
      "Epoch 26/50\n",
      "50000/50000 - 3s - loss: 1.2146 - accuracy: 0.5681 - val_loss: 1.3903 - val_accuracy: 0.5036\n",
      "Epoch 27/50\n",
      "50000/50000 - 3s - loss: 1.2018 - accuracy: 0.5715 - val_loss: 1.3883 - val_accuracy: 0.5148\n",
      "Epoch 28/50\n",
      "50000/50000 - 3s - loss: 1.2013 - accuracy: 0.5730 - val_loss: 1.3966 - val_accuracy: 0.5075\n",
      "Epoch 29/50\n",
      "50000/50000 - 3s - loss: 1.1903 - accuracy: 0.5776 - val_loss: 1.3805 - val_accuracy: 0.5125\n",
      "Epoch 30/50\n",
      "50000/50000 - 3s - loss: 1.1727 - accuracy: 0.5826 - val_loss: 1.3945 - val_accuracy: 0.5045\n",
      "Epoch 31/50\n",
      "50000/50000 - 3s - loss: 1.1606 - accuracy: 0.5874 - val_loss: 1.4072 - val_accuracy: 0.5085\n",
      "Epoch 32/50\n",
      "50000/50000 - 3s - loss: 1.1630 - accuracy: 0.5851 - val_loss: 1.4050 - val_accuracy: 0.5032\n",
      "Epoch 33/50\n",
      "50000/50000 - 3s - loss: 1.1404 - accuracy: 0.5956 - val_loss: 1.3817 - val_accuracy: 0.5188\n",
      "Epoch 34/50\n",
      "50000/50000 - 3s - loss: 1.1201 - accuracy: 0.6032 - val_loss: 1.3997 - val_accuracy: 0.5102\n",
      "Epoch 35/50\n",
      "50000/50000 - 3s - loss: 1.1251 - accuracy: 0.6011 - val_loss: 1.3873 - val_accuracy: 0.5193\n",
      "Epoch 36/50\n",
      "50000/50000 - 3s - loss: 1.1087 - accuracy: 0.6074 - val_loss: 1.3916 - val_accuracy: 0.5195\n",
      "Epoch 37/50\n",
      "50000/50000 - 2s - loss: 1.0970 - accuracy: 0.6096 - val_loss: 1.3871 - val_accuracy: 0.5126\n",
      "Epoch 38/50\n",
      "50000/50000 - 3s - loss: 1.1044 - accuracy: 0.6083 - val_loss: 1.3878 - val_accuracy: 0.5220\n",
      "Epoch 39/50\n",
      "50000/50000 - 3s - loss: 1.0755 - accuracy: 0.6197 - val_loss: 1.4518 - val_accuracy: 0.4918\n",
      "Epoch 40/50\n",
      "50000/50000 - 3s - loss: 1.0931 - accuracy: 0.6146 - val_loss: 1.4079 - val_accuracy: 0.5098\n",
      "Epoch 41/50\n",
      "50000/50000 - 3s - loss: 1.0803 - accuracy: 0.6162 - val_loss: 1.3884 - val_accuracy: 0.5185\n",
      "Epoch 42/50\n",
      "50000/50000 - 3s - loss: 1.0530 - accuracy: 0.6275 - val_loss: 1.3929 - val_accuracy: 0.5173\n",
      "Epoch 43/50\n",
      "50000/50000 - 3s - loss: 1.0478 - accuracy: 0.6288 - val_loss: 1.4070 - val_accuracy: 0.5176\n",
      "Epoch 44/50\n",
      "50000/50000 - 3s - loss: 1.0403 - accuracy: 0.6314 - val_loss: 1.3871 - val_accuracy: 0.5213\n",
      "Epoch 45/50\n",
      "50000/50000 - 3s - loss: 1.0326 - accuracy: 0.6338 - val_loss: 1.4310 - val_accuracy: 0.5149\n",
      "Epoch 46/50\n",
      "50000/50000 - 3s - loss: 1.0322 - accuracy: 0.6323 - val_loss: 1.4267 - val_accuracy: 0.5072\n",
      "Epoch 47/50\n",
      "50000/50000 - 3s - loss: 1.0110 - accuracy: 0.6409 - val_loss: 1.4333 - val_accuracy: 0.5121\n",
      "Epoch 48/50\n",
      "50000/50000 - 3s - loss: 1.0090 - accuracy: 0.6417 - val_loss: 1.4200 - val_accuracy: 0.5189\n",
      "Epoch 49/50\n",
      "50000/50000 - 3s - loss: 0.9993 - accuracy: 0.6458 - val_loss: 1.4294 - val_accuracy: 0.5095\n",
      "Epoch 50/50\n",
      "50000/50000 - 3s - loss: 0.9819 - accuracy: 0.6523 - val_loss: 1.4144 - val_accuracy: 0.5120\n"
     ]
    }
   ],
   "source": [
    "# relu and adam\n",
    "\n",
    "import tensorflow as tf\n",
    "from tensorflow import keras\n",
    "\n",
    "# Data Preparation\n",
    "(train_images, train_labels), (test_images, test_labels) = keras.datasets.cifar10.load_data()\n",
    "\n",
    "# Data Normalization [0,1]\n",
    "train_images = train_images / 255.0\n",
    "test_images  = test_images / 255.0\n",
    "\n",
    "# model\n",
    "model = keras.Sequential([\n",
    "    keras.layers.Flatten(input_shape=(32,32,3)),\n",
    "    keras.layers.Dense(128, activation='relu'),\n",
    "    keras.layers.Dense(128, activation='relu'),\n",
    "    keras.layers.Dense(128, activation='relu'),\n",
    "    keras.layers.Dense(128, activation='relu'),\n",
    "    keras.layers.Dense(128, activation='relu'),\n",
    "    keras.layers.Dense(10, activation='softmax')\n",
    "])\n",
    "\n",
    "model.compile(optimizer='adam',\n",
    "              loss='sparse_categorical_crossentropy',\n",
    "              metrics=['accuracy'])\n",
    "\n",
    "history_data = model.fit(train_images, train_labels, \n",
    "                    validation_data=(test_images, test_labels), \n",
    "                    batch_size=1024, epochs=50, verbose=2)"
   ]
  },
  {
   "cell_type": "code",
   "execution_count": 15,
   "metadata": {},
   "outputs": [
    {
     "data": {
      "text/plain": [
       "<matplotlib.legend.Legend at 0x1c56f771320>"
      ]
     },
     "execution_count": 15,
     "metadata": {},
     "output_type": "execute_result"
    },
    {
     "data": {
      "image/png": "[encoded data removed]",
      "text/plain": [
       "<Figure size 432x288 with 1 Axes>"
      ]
     },
     "metadata": {
      "needs_background": "light"
     },
     "output_type": "display_data"
    }
   ],
   "source": [
    "import matplotlib.pyplot as plt\n",
    "\n",
    "plt.plot(history_data.history['loss'], label = \"train_loss\")\n",
    "plt.plot(history_data.history['val_loss'], label = \"val_loss\")\n",
    "plt.xlabel('iteration')\n",
    "plt.ylabel('Loss')\n",
    "plt.legend()"
   ]
  },
  {
   "cell_type": "code",
   "execution_count": 16,
   "metadata": {},
   "outputs": [
    {
     "data": {
      "text/plain": [
       "<matplotlib.legend.Legend at 0x1c570bd3b00>"
      ]
     },
     "execution_count": 16,
     "metadata": {},
     "output_type": "execute_result"
    },
    {
     "data": {
      "image/png": "[encoded data removed]",
      "text/plain": [
       "<Figure size 432x288 with 1 Axes>"
      ]
     },
     "metadata": {
      "needs_background": "light"
     },
     "output_type": "display_data"
    }
   ],
   "source": [
    "import matplotlib.pyplot as plt\n",
    "\n",
    "plt.plot(history_data.history['accuracy'], label = \"train_accuracy\")\n",
    "plt.plot(history_data.history['val_accuracy'], label = \"val_accuracy\")\n",
    "plt.xlabel('iteration')\n",
    "plt.ylabel('Accuracy')\n",
    "plt.legend()"
   ]
  },
  {
   "cell_type": "code",
   "execution_count": null,
   "metadata": {},
   "outputs": [],
   "source": []
  }
 ],
 "metadata": {
  "kernelspec": {
   "display_name": "Python 3",
   "language": "python",
   "name": "python3"
  },
  "language_info": {
   "codemirror_mode": {
    "name": "ipython",
    "version": 3
   },
   "file_extension": ".py",
   "mimetype": "text/x-python",
   "name": "python",
   "nbconvert_exporter": "python",
   "pygments_lexer": "ipython3",
   "version": "3.7.3"
  }
 },
 "nbformat": 4,
 "nbformat_minor": 2
}
