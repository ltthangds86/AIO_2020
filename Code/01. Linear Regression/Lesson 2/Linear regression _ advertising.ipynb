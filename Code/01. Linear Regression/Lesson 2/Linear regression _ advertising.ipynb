{
 "cells": [
  {
   "cell_type": "code",
   "execution_count": 1,
   "metadata": {},
   "outputs": [],
   "source": [
    "# dataset\n",
    "import numpy as np\n",
    "from numpy import genfromtxt\n",
    "import matplotlib.pyplot as plt\n",
    "\n",
    "data = genfromtxt('advertising.csv', delimiter=',', skip_header=1)\n",
    "\n",
    "m = data.shape[0]\n",
    "X = data[:,:3]\n",
    "y = data[:,3:]\n",
    "\n",
    "maxi = np.max(X)\n",
    "mini = np.min(X)\n",
    "X = (X-mini) / (maxi-mini)\n",
    "\n",
    "X_b = np.c_[np.ones((m, 1)), X]"
   ]
  },
  {
   "cell_type": "code",
   "execution_count": 2,
   "metadata": {},
   "outputs": [
    {
     "data": {
      "image/png": "[encoded data removed]",
      "text/plain": [
       "<Figure size 432x288 with 1 Axes>"
      ]
     },
     "metadata": {
      "needs_background": "light"
     },
     "output_type": "display_data"
    }
   ],
   "source": [
    "n_iterations = 50\n",
    "minibatch_size = 20\n",
    "\n",
    "thetas = np.random.randn(4, 1)\n",
    "thetas_path = [thetas]    \n",
    "losses = []\n",
    "\n",
    "for epoch in range(n_iterations):\n",
    "    shuffled_indices = np.random.permutation(m)\n",
    "    X_b_shuffled = X_b[shuffled_indices]\n",
    "    y_shuffled = y[shuffled_indices]\n",
    "\n",
    "    for i in range(0, m, minibatch_size):\n",
    "        xi = X_b_shuffled[i:i+minibatch_size]\n",
    "        yi = y_shuffled[i:i+minibatch_size]\n",
    "\n",
    "        # tính output \n",
    "        output = xi.dot(thetas)\n",
    "\n",
    "        # tính loss\n",
    "        loss = (output - yi)**2\n",
    "\n",
    "        # tính đạo hàm cho loss\n",
    "        loss_grd = 2*(output - yi)/minibatch_size\n",
    "\n",
    "        # tính đạo hàm cho các tham số\n",
    "        gradients = xi.T.dot(loss_grd)\n",
    "\n",
    "        # cập nhật tham số\n",
    "        learning_rate = 0.01\n",
    "        thetas = thetas - learning_rate*gradients\n",
    "        thetas_path.append(thetas)\n",
    "\n",
    "        loss_mean = np.sum(loss)/minibatch_size\n",
    "        losses.append(loss_mean)\n",
    "\n",
    "# in loss cho 100 sample đầu\n",
    "x_axis = list(range(200))\n",
    "plt.plot(x_axis,losses[:200], color=\"r\")\n",
    "plt.show()"
   ]
  },
  {
   "cell_type": "code",
   "execution_count": 3,
   "metadata": {},
   "outputs": [
    {
     "data": {
      "image/png": "[encoded data removed]",
      "text/plain": [
       "<Figure size 432x288 with 1 Axes>"
      ]
     },
     "metadata": {
      "needs_background": "light"
     },
     "output_type": "display_data"
    }
   ],
   "source": [
    "n_iterations = 100\n",
    "learning_rate = 0.01\n",
    "\n",
    "# khởi tạo giá trị tham số\n",
    "thetas = np.random.randn(4, 1)\n",
    "thetas_path = [thetas]\n",
    "losses = []\n",
    "\n",
    "for i in range(n_iterations):\n",
    "    # tính output\n",
    "    output = X_b.dot(thetas)\n",
    "\n",
    "    # tính loss\n",
    "    loss = (output - y)**2        \n",
    "\n",
    "    # tính đạo hàm cho loss\n",
    "    loss_grd = 2*(output - y)/m\n",
    "\n",
    "    # tính đạo hàm cho các tham số\n",
    "    gradients = X_b.T.dot(loss_grd)\n",
    "\n",
    "    # cập nhật tham số\n",
    "    thetas = thetas - learning_rate*gradients\n",
    "    thetas_path.append(thetas)\n",
    "\n",
    "    mean_loss = np.sum(loss)/m\n",
    "    losses.append(mean_loss)\n",
    "\n",
    "# in loss cho 100 sample đầu\n",
    "x_axis = list(range(100))\n",
    "plt.plot(x_axis,losses[:100], color=\"r\")\n",
    "plt.show()"
   ]
  },
  {
   "cell_type": "code",
   "execution_count": null,
   "metadata": {},
   "outputs": [],
   "source": []
  }
 ],
 "metadata": {
  "kernelspec": {
   "display_name": "Python 3",
   "language": "python",
   "name": "python3"
  },
  "language_info": {
   "codemirror_mode": {
    "name": "ipython",
    "version": 3
   },
   "file_extension": ".py",
   "mimetype": "text/x-python",
   "name": "python",
   "nbconvert_exporter": "python",
   "pygments_lexer": "ipython3",
   "version": "3.7.3"
  }
 },
 "nbformat": 4,
 "nbformat_minor": 2
}
