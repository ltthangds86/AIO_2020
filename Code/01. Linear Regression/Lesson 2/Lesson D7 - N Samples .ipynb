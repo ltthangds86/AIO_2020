{
 "cells": [
  {
   "cell_type": "code",
   "execution_count": 1,
   "metadata": {},
   "outputs": [
    {
     "name": "stdout",
     "output_type": "stream",
     "text": [
      "<class 'numpy.ndarray'>\n",
      "areas:  [6.7 4.6 3.5 5.5]\n",
      "prices:  [9.1 5.9 4.6 6.7]\n",
      "data_size:  4\n"
     ]
    },
    {
     "data": {
      "text/plain": [
       "<Figure size 640x480 with 1 Axes>"
      ]
     },
     "metadata": {},
     "output_type": "display_data"
    }
   ],
   "source": [
    "# load data\n",
    "\n",
    "import numpy as np\n",
    "from numpy import genfromtxt\n",
    "import matplotlib.pyplot as plt\n",
    "\n",
    "data = genfromtxt('data.csv', delimiter=',')\n",
    "areas  = data[:,0]\n",
    "prices = data[:,1]\n",
    "data_size = areas.size\n",
    "\n",
    "print(type(areas))\n",
    "print('areas: ', areas)\n",
    "print('prices: ', prices)\n",
    "print('data_size: ', data_size)\n",
    "\n",
    "plt.scatter(areas, prices)\n",
    "plt.xlabel('areas')\n",
    "plt.ylabel('prices')\n",
    "plt.xlim(3,7)\n",
    "plt.ylim(4,10)\n",
    "plt.show()"
   ]
  },
  {
   "cell_type": "code",
   "execution_count": 6,
   "metadata": {},
   "outputs": [
    {
     "name": "stdout",
     "output_type": "stream",
     "text": [
      "[[6.7 1. ]\n",
      " [4.6 1. ]\n",
      " [3.5 1. ]\n",
      " [5.5 1. ]]\n",
      "theta [[-0.34]\n",
      " [ 0.04]]\n",
      "\n",
      "data:  [[6.7 1. ]] [9.1]\n",
      "z:  [[-2.238]]\n",
      "loss:  0 [[128.550244]]\n",
      "gradient_loss:  0 [[-22.676]]\n",
      "variable gradient:  0 [[-151.9292]\n",
      " [ -22.676 ]]\n",
      "\n",
      "data:  [[4.6 1. ]] [5.9]\n",
      "z:  [[-1.524]]\n",
      "loss:  1 [[55.115776]]\n",
      "gradient_loss:  1 [[-14.848]]\n",
      "variable gradient:  1 [[-68.3008]\n",
      " [-14.848 ]]\n",
      "\n",
      "data:  [[3.5 1. ]] [4.6]\n",
      "z:  [[-1.15]]\n",
      "loss:  2 [[33.0625]]\n",
      "gradient_loss:  2 [[-11.5]]\n",
      "variable gradient:  2 [[-40.25]\n",
      " [-11.5 ]]\n",
      "\n",
      "data:  [[5.5 1. ]] [6.7]\n",
      "z:  [[-1.83]]\n",
      "loss:  3 [[72.7609]]\n",
      "gradient_loss:  3 [[-17.06]]\n",
      "variable gradient:  3 [[-93.83]\n",
      " [-17.06]]\n",
      "\n",
      "sum_of_losses:  [[72.372355]]\n",
      "\n",
      "gradients:  [[-88.5775]\n",
      " [-16.521 ]]\n",
      "new params:  [[0.545775]\n",
      " [0.20521 ]]\n"
     ]
    }
   ],
   "source": [
    "# vector [x, b]\n",
    "data = np.c_[areas, np.ones((data_size, 1))]\n",
    "print(data)\n",
    "\n",
    "n_epochs = 1\n",
    "eta = 0.01\n",
    "\n",
    "theta = np.array([[-0.34],[0.04]])\n",
    "print('theta', theta)\n",
    "\n",
    "for epoch in range(n_epochs):\n",
    "    sum_of_losses = 0\n",
    "    gradients = np.zeros((2,1))\n",
    "    \n",
    "    for index in range(data_size):\n",
    "        xi = data[index:index+1]\n",
    "        yi = prices[index:index+1]\n",
    "        print('\\ndata: ', xi, yi)\n",
    "\n",
    "        oi = xi.dot(theta)\n",
    "        li = (oi - yi)*(oi - yi)        \n",
    "        g_li = 2*(oi - yi)\n",
    "        \n",
    "        print('z: ', oi)\n",
    "        print('loss: ', index, li)\n",
    "        print('gradient_loss: ', index, g_li)\n",
    "        \n",
    "        cg = xi.T.dot(g_li)\n",
    "        print('variable gradient: ', index, cg)\n",
    "        \n",
    "        gradients = gradients + cg\n",
    "        sum_of_losses = sum_of_losses + li\n",
    "    \n",
    "    sum_of_losses = sum_of_losses/data_size\n",
    "    print('\\nsum_of_losses: ', sum_of_losses)\n",
    "    \n",
    "    gradients     = gradients/data_size\n",
    "    print('\\ngradients: ', gradients)\n",
    "    \n",
    "    theta = theta - eta*gradients\n",
    "    print('new params: ', theta)"
   ]
  },
  {
   "cell_type": "code",
   "execution_count": null,
   "metadata": {},
   "outputs": [],
   "source": []
  },
  {
   "cell_type": "code",
   "execution_count": 8,
   "metadata": {},
   "outputs": [],
   "source": [
    "# full code\n",
    "\n",
    "# load data\n",
    "import numpy as np\n",
    "from numpy import genfromtxt\n",
    "import matplotlib.pyplot as plt\n",
    "\n",
    "data = genfromtxt('data.csv', delimiter=',')\n",
    "areas  = data[:,0]\n",
    "prices = data[:,1]\n",
    "data_size = areas.size\n",
    "\n",
    "# vector [x, b]\n",
    "data = np.c_[areas, np.ones((data_size, 1))]\n",
    "\n",
    "n_epochs = 10\n",
    "eta = 0.01\n",
    "\n",
    "theta = np.array([[-0.34],[0.04]])\n",
    "\n",
    "losses = [] # for debug\n",
    "for epoch in range(n_epochs):\n",
    "    sum_of_losses = 0\n",
    "    gradients = np.zeros((2,1))\n",
    "    \n",
    "    for index in range(data_size):\n",
    "        xi = data[index:index+1]\n",
    "        yi = prices[index:index+1]\n",
    "\n",
    "        oi = xi.dot(theta)\n",
    "        li = (oi - yi)*(oi - yi)        \n",
    "        g_li = 2*(oi - yi)\n",
    "        \n",
    "        cg = xi.T.dot(g_li)\n",
    "        \n",
    "        gradients = gradients + cg\n",
    "        sum_of_losses = sum_of_losses + li\n",
    "    \n",
    "    sum_of_losses = sum_of_losses/data_size   \n",
    "    losses.append(sum_of_losses[0][0]) \n",
    "    \n",
    "    gradients     = gradients/data_size    \n",
    "    theta = theta - eta*gradients    "
   ]
  },
  {
   "cell_type": "code",
   "execution_count": 9,
   "metadata": {},
   "outputs": [
    {
     "data": {
      "image/png": "[encoded data removed]",
      "text/plain": [
       "<Figure size 432x288 with 1 Axes>"
      ]
     },
     "metadata": {
      "needs_background": "light"
     },
     "output_type": "display_data"
    }
   ],
   "source": [
    "import matplotlib.pyplot as plt\n",
    "\n",
    "plt.plot(losses)\n",
    "plt.xlabel('iteration')\n",
    "plt.ylabel('losses')\n",
    "plt.show()"
   ]
  },
  {
   "cell_type": "code",
   "execution_count": null,
   "metadata": {},
   "outputs": [],
   "source": []
  }
 ],
 "metadata": {
  "kernelspec": {
   "display_name": "Python 3",
   "language": "python",
   "name": "python3"
  },
  "language_info": {
   "codemirror_mode": {
    "name": "ipython",
    "version": 3
   },
   "file_extension": ".py",
   "mimetype": "text/x-python",
   "name": "python",
   "nbconvert_exporter": "python",
   "pygments_lexer": "ipython3",
   "version": "3.9.0"
  }
 },
 "nbformat": 4,
 "nbformat_minor": 2
}
