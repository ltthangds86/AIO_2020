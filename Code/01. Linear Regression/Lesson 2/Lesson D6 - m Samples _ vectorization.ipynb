{
 "cells": [
  {
   "cell_type": "code",
   "execution_count": 2,
   "metadata": {},
   "outputs": [
    {
     "name": "stdout",
     "output_type": "stream",
     "text": [
      "<class 'numpy.ndarray'>\n",
      "areas:  [6.7 4.6 3.5 5.5]\n",
      "prices:  [[9.1]\n",
      " [5.9]\n",
      " [4.6]\n",
      " [6.7]]\n",
      "data_size:  4\n"
     ]
    },
    {
     "data": {
      "text/plain": [
       "<Figure size 640x480 with 1 Axes>"
      ]
     },
     "metadata": {},
     "output_type": "display_data"
    }
   ],
   "source": [
    "# load data\n",
    "\n",
    "import numpy as np\n",
    "from numpy import genfromtxt\n",
    "import matplotlib.pyplot as plt\n",
    "\n",
    "data = genfromtxt('data.csv', delimiter=',')\n",
    "areas  = data[:,0]\n",
    "prices = data[:,1:]\n",
    "data_size = areas.size\n",
    "\n",
    "print(type(areas))\n",
    "print('areas: ', areas)\n",
    "print('prices: ', prices)\n",
    "print('data_size: ', data_size)\n",
    "\n",
    "plt.scatter(areas, prices)\n",
    "plt.xlabel('areas')\n",
    "plt.ylabel('prices')\n",
    "plt.xlim(3,7)\n",
    "plt.ylim(4,10)\n",
    "plt.show()"
   ]
  },
  {
   "cell_type": "code",
   "execution_count": 4,
   "metadata": {},
   "outputs": [
    {
     "name": "stdout",
     "output_type": "stream",
     "text": [
      "[[6.7 4.6 3.5 5.5]\n",
      " [1.  1.  1.  1. ]]\n",
      "theta (2, 1)\n",
      "0\n",
      "x: \n",
      " [[6.7 4.6]\n",
      " [1.  1. ]] (2, 2)\n",
      "y: \n",
      " [[9.1]\n",
      " [5.9]] (2, 1)\n",
      "z: \n",
      " [[-2.238 -1.524]]\n",
      "loss: \n",
      " [[128.550244  55.115776]]\n",
      "b: \n",
      " [[-22.676 -14.848]]\n",
      "gradient1: \n",
      " [[-151.9292  -68.3008]\n",
      " [ -22.676   -14.848 ]]\n",
      "gradient: \n",
      " [[-220.23 ]\n",
      " [ -37.524]]\n",
      "theta: \n",
      " [[0.76115]\n",
      " [0.22762]]\n"
     ]
    }
   ],
   "source": [
    "data = genfromtxt('data.csv', delimiter=',')\n",
    "areas  = data[:,0]\n",
    "prices = data[:,1:]\n",
    "data_size = areas.size\n",
    "\n",
    "# vector [x, b]\n",
    "data = np.c_[areas, np.ones((data_size, 1))]\n",
    "data = data.T\n",
    "print(data)\n",
    "\n",
    "# init weight\n",
    "eta = 0.01\n",
    "theta = np.array([[-0.34], [0.04]]) #[w, b]\n",
    "print('theta', theta.shape)\n",
    "\n",
    "# how long\n",
    "epoch_max = 1\n",
    "\n",
    "# mini-batch size\n",
    "m = 2\n",
    "\n",
    "for epoch in range(epoch_max):    \n",
    "    for i in range(0, m, m):\n",
    "        print(i)\n",
    "        x = data[:, i:i+m]\n",
    "        y = prices[i:i+m, :]        \n",
    "        print('x: \\n', x, x.shape)\n",
    "        print('y: \\n', y, y.shape)\n",
    "        \n",
    "        # predict z/o\n",
    "        z = theta.T.dot(x)\n",
    "        print('z: \\n', z)\n",
    "        \n",
    "        loss = np.multiply((z-y.T), (z-y.T))\n",
    "        print('loss: \\n', loss)\n",
    "        \n",
    "        # compute gradient\n",
    "        b = 2*(z-y.T)\n",
    "        print(\"b: \\n\", b)\n",
    "\n",
    "        gradient = np.multiply(x, np.vstack((b, b)))\n",
    "        print('gradient1: \\n', gradient)\n",
    "        gradient = gradient.dot(np.ones((m, 1)))/m\n",
    "        print('gradient: \\n', gradient)\n",
    "\n",
    "        theta = theta - eta*gradient\n",
    "        print('theta: \\n', theta)"
   ]
  },
  {
   "cell_type": "code",
   "execution_count": null,
   "metadata": {},
   "outputs": [],
   "source": []
  },
  {
   "cell_type": "code",
   "execution_count": 1,
   "metadata": {},
   "outputs": [],
   "source": [
    "import numpy as np\n",
    "from numpy import genfromtxt\n",
    "\n",
    "data = genfromtxt('data.csv', delimiter=',')\n",
    "areas  = data[:,0]\n",
    "prices = data[:,1:]\n",
    "data_size = areas.size\n",
    "\n",
    "# vector [x, b]\n",
    "data = np.c_[areas, np.ones((data_size, 1))]\n",
    "data = data.T\n",
    "\n",
    "# init weight\n",
    "eta = 0.01\n",
    "theta = np.array([[-0.34], [0.04]]) #[w, b]\n",
    "\n",
    "# how long\n",
    "epoch_max = 10\n",
    "\n",
    "# mini-batch size\n",
    "m = 2\n",
    "\n",
    "losses = [] # for debug\n",
    "for epoch in range(epoch_max):\n",
    "    for i in range(0, data_size, m):        \n",
    "        # get m samples\n",
    "        x = data[:, i:i+m]\n",
    "        y = prices[i:i+m, :]\n",
    "        \n",
    "        # predict z/o\n",
    "        z = theta.T.dot(x)\n",
    "        \n",
    "        # compute loss\n",
    "        loss = np.multiply((z-y.T), (z-y.T))\n",
    "        losses.append(np.mean(loss))\n",
    "        \n",
    "        # compute gradient\n",
    "        b = 2*(z-y.T)\n",
    "        gradients = np.multiply(x, np.vstack((b, b)))\n",
    "        gradients = gradients.dot(np.ones((m, 1)))/m\n",
    "\n",
    "        # update weights\n",
    "        theta = theta - eta*gradients"
   ]
  },
  {
   "cell_type": "code",
   "execution_count": 3,
   "metadata": {},
   "outputs": [
    {
     "data": {
      "image/png": "[encoded data removed]",
      "text/plain": [
       "<Figure size 432x288 with 1 Axes>"
      ]
     },
     "metadata": {
      "needs_background": "light"
     },
     "output_type": "display_data"
    }
   ],
   "source": [
    "import matplotlib.pyplot as plt\n",
    "\n",
    "plt.plot(losses)\n",
    "plt.xlabel('iteration')\n",
    "plt.ylabel('losses')\n",
    "plt.show()"
   ]
  },
  {
   "cell_type": "code",
   "execution_count": null,
   "metadata": {},
   "outputs": [],
   "source": []
  }
 ],
 "metadata": {
  "kernelspec": {
   "display_name": "Python 3",
   "language": "python",
   "name": "python3"
  },
  "language_info": {
   "codemirror_mode": {
    "name": "ipython",
    "version": 3
   },
   "file_extension": ".py",
   "mimetype": "text/x-python",
   "name": "python",
   "nbconvert_exporter": "python",
   "pygments_lexer": "ipython3",
   "version": "3.9.0"
  }
 },
 "nbformat": 4,
 "nbformat_minor": 2
}
