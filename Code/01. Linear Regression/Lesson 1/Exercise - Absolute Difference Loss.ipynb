{
 "cells": [
  {
   "cell_type": "code",
   "execution_count": 1,
   "metadata": {},
   "outputs": [
    {
     "name": "stdout",
     "output_type": "stream",
     "text": [
      "<class 'numpy.ndarray'>\n",
      "areas:  [6.7 4.6 3.5 5.5]\n",
      "prices:  [9.1 5.9 4.6 6.7]\n",
      "data_size:  4\n"
     ]
    },
    {
     "data": {
      "text/plain": [
       "<Figure size 640x480 with 1 Axes>"
      ]
     },
     "metadata": {},
     "output_type": "display_data"
    }
   ],
   "source": [
    "# Implementation - vectorization\n",
    "\n",
    "# load data\n",
    "import numpy as np\n",
    "from numpy import genfromtxt\n",
    "import matplotlib.pyplot as plt\n",
    "\n",
    "data = genfromtxt('data.csv', delimiter=',')\n",
    "areas  = data[:,0]\n",
    "prices = data[:,1]\n",
    "data_size = areas.size\n",
    "\n",
    "print(type(areas))\n",
    "print('areas: ', areas)\n",
    "print('prices: ', prices)\n",
    "print('data_size: ', data_size)\n",
    "\n",
    "plt.scatter(areas, prices)\n",
    "plt.xlabel('Diện tích nhà (x 100$m^2$)')\n",
    "plt.ylabel('Giá nhà (chục lượng vàng)')\n",
    "plt.xlim(3,7)\n",
    "plt.ylim(4,10)\n",
    "plt.show()"
   ]
  },
  {
   "cell_type": "code",
   "execution_count": 2,
   "metadata": {},
   "outputs": [],
   "source": [
    "# full code\n",
    "\n",
    "# load data\n",
    "import numpy as np\n",
    "from numpy import genfromtxt\n",
    "import matplotlib.pyplot as plt\n",
    "\n",
    "data = genfromtxt('data.csv', delimiter=',')\n",
    "areas  = data[:,0]\n",
    "prices = data[:,1]\n",
    "data_size = areas.size\n",
    "\n",
    "# forward\n",
    "def predict(x,theta):\n",
    "    return x.dot(theta)\n",
    "\n",
    "# compute gradient\n",
    "def gradient(z,y,x):\n",
    "    dtheta = x*(z-y)/np.abs(z-y)\n",
    "    \n",
    "    return dtheta\n",
    "\n",
    "# update weights\n",
    "def update_weight(theta,n,dtheta):\n",
    "    dtheta_new = theta - n*dtheta\n",
    "    \n",
    "    return dtheta_new\n",
    "\n",
    "# vector [x, b]\n",
    "data = np.c_[areas, np.ones((data_size, 1))]\n",
    "\n",
    "# init weight\n",
    "n = 0.01\n",
    "theta = np.array([-0.34, 0.04]) #[w, b]\n",
    "\n",
    "# how long\n",
    "epoch_max = 10\n",
    "\n",
    "losses = [] # for debug\n",
    "for epoch in range(epoch_max):\n",
    "    for i in range(data_size):\n",
    "        # get a sample\n",
    "        x = data[i]\n",
    "        y = prices[i:i+1]\n",
    "\n",
    "        # predict z\n",
    "        z = predict(x, theta)\n",
    "\n",
    "        # compute loss\n",
    "        loss = abs(z-y)\n",
    "        losses.append(loss[0])\n",
    "\n",
    "        # compute gradient\n",
    "        dtheta = gradient(z,y,x)\n",
    "\n",
    "        # update weights\n",
    "        theta = update_weight(theta,n,dtheta)"
   ]
  },
  {
   "cell_type": "code",
   "execution_count": 3,
   "metadata": {},
   "outputs": [
    {
     "data": {
      "image/png": "[encoded data removed]",
      "text/plain": [
       "<Figure size 432x288 with 1 Axes>"
      ]
     },
     "metadata": {
      "needs_background": "light"
     },
     "output_type": "display_data"
    }
   ],
   "source": [
    "import matplotlib.pyplot as plt\n",
    "\n",
    "plt.plot(losses) # test with losses[3:]\n",
    "plt.xlabel('iteration')\n",
    "plt.ylabel('losses')\n",
    "plt.show()"
   ]
  },
  {
   "cell_type": "code",
   "execution_count": null,
   "metadata": {},
   "outputs": [],
   "source": []
  }
 ],
 "metadata": {
  "kernelspec": {
   "display_name": "Python 3",
   "language": "python",
   "name": "python3"
  },
  "language_info": {
   "codemirror_mode": {
    "name": "ipython",
    "version": 3
   },
   "file_extension": ".py",
   "mimetype": "text/x-python",
   "name": "python",
   "nbconvert_exporter": "python",
   "pygments_lexer": "ipython3",
   "version": "3.7.3"
  }
 },
 "nbformat": 4,
 "nbformat_minor": 2
}
