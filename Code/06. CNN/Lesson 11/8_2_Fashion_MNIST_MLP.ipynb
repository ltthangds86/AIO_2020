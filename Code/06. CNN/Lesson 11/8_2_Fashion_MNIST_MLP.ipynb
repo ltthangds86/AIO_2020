{
  "nbformat": 4,
  "nbformat_minor": 0,
  "metadata": {
    "colab": {
      "name": "8.2.Fashion-MNIST-MLP.ipynb",
      "provenance": [],
      "collapsed_sections": []
    },
    "kernelspec": {
      "name": "python3",
      "display_name": "Python 3"
    }
  },
  "cells": [
    {
      "cell_type": "code",
      "metadata": {
        "colab": {
          "base_uri": "https://localhost:8080/"
        },
        "id": "vvYak2KLfnPb",
        "outputId": "a6ecc206-d077-407b-f5bb-a60a7d738cb3"
      },
      "source": [
        "import tensorflow as tf\r\n",
        "from tensorflow import keras\r\n",
        "\r\n",
        "# Data Preparation\r\n",
        "(train_images, train_labels), (test_images, test_labels) = keras.datasets.fashion_mnist.load_data()\r\n",
        "\r\n",
        "# Data Normalization [0,1]\r\n",
        "train_images = train_images / 255.0\r\n",
        "test_images = test_images / 255.0\r\n",
        "\r\n",
        "print(train_images.shape)\r\n",
        "print(test_images.shape)"
      ],
      "execution_count": null,
      "outputs": [
        {
          "output_type": "stream",
          "text": [
            "Downloading data from https://storage.googleapis.com/tensorflow/tf-keras-datasets/train-labels-idx1-ubyte.gz\n",
            "32768/29515 [=================================] - 0s 0us/step\n",
            "Downloading data from https://storage.googleapis.com/tensorflow/tf-keras-datasets/train-images-idx3-ubyte.gz\n",
            "26427392/26421880 [==============================] - 0s 0us/step\n",
            "Downloading data from https://storage.googleapis.com/tensorflow/tf-keras-datasets/t10k-labels-idx1-ubyte.gz\n",
            "8192/5148 [===============================================] - 0s 0us/step\n",
            "Downloading data from https://storage.googleapis.com/tensorflow/tf-keras-datasets/t10k-images-idx3-ubyte.gz\n",
            "4423680/4422102 [==============================] - 0s 0us/step\n",
            "(60000, 28, 28)\n",
            "(10000, 28, 28)\n"
          ],
          "name": "stdout"
        }
      ]
    },
    {
      "cell_type": "code",
      "metadata": {
        "id": "BYEOVzmIgB2M"
      },
      "source": [
        ""
      ],
      "execution_count": null,
      "outputs": []
    },
    {
      "cell_type": "code",
      "metadata": {
        "colab": {
          "base_uri": "https://localhost:8080/"
        },
        "id": "OQ6IDr8HgB4T",
        "outputId": "9f67003c-ee96-4365-830a-36c5fc9347c6"
      },
      "source": [
        "# adam and relu\r\n",
        "\r\n",
        "import tensorflow as tf\r\n",
        "from tensorflow import keras\r\n",
        "\r\n",
        "# Data Preparation\r\n",
        "(train_images, train_labels), (test_images, test_labels) = keras.datasets.fashion_mnist.load_data()\r\n",
        "\r\n",
        "# Data Normalization [0,1]\r\n",
        "train_images = train_images / 255.0\r\n",
        "test_images  = test_images / 255.0\r\n",
        "\r\n",
        "# model\r\n",
        "model = keras.Sequential([\r\n",
        "    keras.layers.Flatten(input_shape=(28, 28)),\r\n",
        "    keras.layers.Dense(128, activation='relu'),\r\n",
        "    keras.layers.Dense(128, activation='relu'),\r\n",
        "    keras.layers.Dense(10, activation='softmax')\r\n",
        "])\r\n",
        "\r\n",
        "model.compile(optimizer='adam',\r\n",
        "              loss='sparse_categorical_crossentropy',\r\n",
        "              metrics=['accuracy'])\r\n",
        "\r\n",
        "history_data = model.fit(train_images, train_labels, \r\n",
        "                    validation_data=(test_images, test_labels), \r\n",
        "                    batch_size=1024, epochs=150, verbose=2)"
      ],
      "execution_count": null,
      "outputs": [
        {
          "output_type": "stream",
          "text": [
            "Epoch 1/150\n",
            "59/59 - 2s - loss: 0.8062 - accuracy: 0.7280 - val_loss: 0.5337 - val_accuracy: 0.8117\n",
            "Epoch 2/150\n",
            "59/59 - 1s - loss: 0.4684 - accuracy: 0.8361 - val_loss: 0.4593 - val_accuracy: 0.8392\n",
            "Epoch 3/150\n",
            "59/59 - 1s - loss: 0.4184 - accuracy: 0.8544 - val_loss: 0.4307 - val_accuracy: 0.8473\n",
            "Epoch 4/150\n",
            "59/59 - 1s - loss: 0.3869 - accuracy: 0.8648 - val_loss: 0.4237 - val_accuracy: 0.8508\n",
            "Epoch 5/150\n",
            "59/59 - 1s - loss: 0.3638 - accuracy: 0.8722 - val_loss: 0.4069 - val_accuracy: 0.8562\n",
            "Epoch 6/150\n",
            "59/59 - 1s - loss: 0.3515 - accuracy: 0.8751 - val_loss: 0.3883 - val_accuracy: 0.8609\n",
            "Epoch 7/150\n",
            "59/59 - 1s - loss: 0.3339 - accuracy: 0.8822 - val_loss: 0.3678 - val_accuracy: 0.8684\n",
            "Epoch 8/150\n",
            "59/59 - 1s - loss: 0.3205 - accuracy: 0.8856 - val_loss: 0.3674 - val_accuracy: 0.8677\n",
            "Epoch 9/150\n",
            "59/59 - 1s - loss: 0.3094 - accuracy: 0.8892 - val_loss: 0.3609 - val_accuracy: 0.8699\n",
            "Epoch 10/150\n",
            "59/59 - 1s - loss: 0.3037 - accuracy: 0.8905 - val_loss: 0.3568 - val_accuracy: 0.8706\n",
            "Epoch 11/150\n",
            "59/59 - 1s - loss: 0.2911 - accuracy: 0.8948 - val_loss: 0.3481 - val_accuracy: 0.8748\n",
            "Epoch 12/150\n",
            "59/59 - 1s - loss: 0.2879 - accuracy: 0.8949 - val_loss: 0.3404 - val_accuracy: 0.8779\n",
            "Epoch 13/150\n",
            "59/59 - 1s - loss: 0.2760 - accuracy: 0.8996 - val_loss: 0.3454 - val_accuracy: 0.8773\n",
            "Epoch 14/150\n",
            "59/59 - 1s - loss: 0.2748 - accuracy: 0.9006 - val_loss: 0.3470 - val_accuracy: 0.8754\n",
            "Epoch 15/150\n",
            "59/59 - 1s - loss: 0.2663 - accuracy: 0.9035 - val_loss: 0.3279 - val_accuracy: 0.8827\n",
            "Epoch 16/150\n",
            "59/59 - 1s - loss: 0.2599 - accuracy: 0.9056 - val_loss: 0.3358 - val_accuracy: 0.8854\n",
            "Epoch 17/150\n",
            "59/59 - 1s - loss: 0.2588 - accuracy: 0.9056 - val_loss: 0.3429 - val_accuracy: 0.8794\n",
            "Epoch 18/150\n",
            "59/59 - 1s - loss: 0.2544 - accuracy: 0.9078 - val_loss: 0.3303 - val_accuracy: 0.8849\n",
            "Epoch 19/150\n",
            "59/59 - 1s - loss: 0.2454 - accuracy: 0.9103 - val_loss: 0.3248 - val_accuracy: 0.8845\n",
            "Epoch 20/150\n",
            "59/59 - 1s - loss: 0.2401 - accuracy: 0.9126 - val_loss: 0.3322 - val_accuracy: 0.8881\n",
            "Epoch 21/150\n",
            "59/59 - 1s - loss: 0.2388 - accuracy: 0.9130 - val_loss: 0.3267 - val_accuracy: 0.8865\n",
            "Epoch 22/150\n",
            "59/59 - 1s - loss: 0.2304 - accuracy: 0.9170 - val_loss: 0.3305 - val_accuracy: 0.8831\n",
            "Epoch 23/150\n",
            "59/59 - 1s - loss: 0.2310 - accuracy: 0.9150 - val_loss: 0.3318 - val_accuracy: 0.8853\n",
            "Epoch 24/150\n",
            "59/59 - 1s - loss: 0.2244 - accuracy: 0.9182 - val_loss: 0.3267 - val_accuracy: 0.8862\n",
            "Epoch 25/150\n",
            "59/59 - 1s - loss: 0.2197 - accuracy: 0.9201 - val_loss: 0.3339 - val_accuracy: 0.8848\n",
            "Epoch 26/150\n",
            "59/59 - 1s - loss: 0.2151 - accuracy: 0.9218 - val_loss: 0.3315 - val_accuracy: 0.8851\n",
            "Epoch 27/150\n",
            "59/59 - 1s - loss: 0.2163 - accuracy: 0.9201 - val_loss: 0.3542 - val_accuracy: 0.8831\n",
            "Epoch 28/150\n",
            "59/59 - 1s - loss: 0.2112 - accuracy: 0.9236 - val_loss: 0.3334 - val_accuracy: 0.8845\n",
            "Epoch 29/150\n",
            "59/59 - 1s - loss: 0.2059 - accuracy: 0.9246 - val_loss: 0.3339 - val_accuracy: 0.8872\n",
            "Epoch 30/150\n",
            "59/59 - 1s - loss: 0.2106 - accuracy: 0.9225 - val_loss: 0.3366 - val_accuracy: 0.8828\n",
            "Epoch 31/150\n",
            "59/59 - 1s - loss: 0.2007 - accuracy: 0.9273 - val_loss: 0.3342 - val_accuracy: 0.8870\n",
            "Epoch 32/150\n",
            "59/59 - 1s - loss: 0.1967 - accuracy: 0.9289 - val_loss: 0.3386 - val_accuracy: 0.8861\n",
            "Epoch 33/150\n",
            "59/59 - 1s - loss: 0.1927 - accuracy: 0.9300 - val_loss: 0.3278 - val_accuracy: 0.8894\n",
            "Epoch 34/150\n",
            "59/59 - 1s - loss: 0.1908 - accuracy: 0.9305 - val_loss: 0.3327 - val_accuracy: 0.8839\n",
            "Epoch 35/150\n",
            "59/59 - 1s - loss: 0.1867 - accuracy: 0.9320 - val_loss: 0.3277 - val_accuracy: 0.8905\n",
            "Epoch 36/150\n",
            "59/59 - 1s - loss: 0.1838 - accuracy: 0.9338 - val_loss: 0.3405 - val_accuracy: 0.8860\n",
            "Epoch 37/150\n",
            "59/59 - 1s - loss: 0.1799 - accuracy: 0.9352 - val_loss: 0.3457 - val_accuracy: 0.8801\n",
            "Epoch 38/150\n",
            "59/59 - 1s - loss: 0.1810 - accuracy: 0.9351 - val_loss: 0.3317 - val_accuracy: 0.8920\n",
            "Epoch 39/150\n",
            "59/59 - 1s - loss: 0.1797 - accuracy: 0.9355 - val_loss: 0.3395 - val_accuracy: 0.8837\n",
            "Epoch 40/150\n",
            "59/59 - 1s - loss: 0.1736 - accuracy: 0.9377 - val_loss: 0.3443 - val_accuracy: 0.8861\n",
            "Epoch 41/150\n",
            "59/59 - 1s - loss: 0.1730 - accuracy: 0.9374 - val_loss: 0.3354 - val_accuracy: 0.8901\n",
            "Epoch 42/150\n",
            "59/59 - 1s - loss: 0.1675 - accuracy: 0.9405 - val_loss: 0.3406 - val_accuracy: 0.8870\n",
            "Epoch 43/150\n",
            "59/59 - 1s - loss: 0.1650 - accuracy: 0.9412 - val_loss: 0.3404 - val_accuracy: 0.8914\n",
            "Epoch 44/150\n",
            "59/59 - 1s - loss: 0.1620 - accuracy: 0.9421 - val_loss: 0.3455 - val_accuracy: 0.8880\n",
            "Epoch 45/150\n",
            "59/59 - 1s - loss: 0.1572 - accuracy: 0.9449 - val_loss: 0.3474 - val_accuracy: 0.8867\n",
            "Epoch 46/150\n",
            "59/59 - 1s - loss: 0.1570 - accuracy: 0.9438 - val_loss: 0.3559 - val_accuracy: 0.8849\n",
            "Epoch 47/150\n",
            "59/59 - 1s - loss: 0.1568 - accuracy: 0.9438 - val_loss: 0.3462 - val_accuracy: 0.8877\n",
            "Epoch 48/150\n",
            "59/59 - 1s - loss: 0.1522 - accuracy: 0.9453 - val_loss: 0.3552 - val_accuracy: 0.8888\n",
            "Epoch 49/150\n",
            "59/59 - 1s - loss: 0.1496 - accuracy: 0.9463 - val_loss: 0.3620 - val_accuracy: 0.8865\n",
            "Epoch 50/150\n",
            "59/59 - 1s - loss: 0.1503 - accuracy: 0.9455 - val_loss: 0.3559 - val_accuracy: 0.8859\n",
            "Epoch 51/150\n",
            "59/59 - 1s - loss: 0.1513 - accuracy: 0.9459 - val_loss: 0.3527 - val_accuracy: 0.8886\n",
            "Epoch 52/150\n",
            "59/59 - 1s - loss: 0.1494 - accuracy: 0.9463 - val_loss: 0.3619 - val_accuracy: 0.8863\n",
            "Epoch 53/150\n",
            "59/59 - 1s - loss: 0.1439 - accuracy: 0.9491 - val_loss: 0.3629 - val_accuracy: 0.8896\n",
            "Epoch 54/150\n",
            "59/59 - 1s - loss: 0.1371 - accuracy: 0.9512 - val_loss: 0.3652 - val_accuracy: 0.8882\n",
            "Epoch 55/150\n",
            "59/59 - 1s - loss: 0.1355 - accuracy: 0.9515 - val_loss: 0.3590 - val_accuracy: 0.8884\n",
            "Epoch 56/150\n",
            "59/59 - 1s - loss: 0.1390 - accuracy: 0.9504 - val_loss: 0.3676 - val_accuracy: 0.8860\n",
            "Epoch 57/150\n",
            "59/59 - 1s - loss: 0.1323 - accuracy: 0.9534 - val_loss: 0.3686 - val_accuracy: 0.8872\n",
            "Epoch 58/150\n",
            "59/59 - 1s - loss: 0.1295 - accuracy: 0.9542 - val_loss: 0.3601 - val_accuracy: 0.8908\n",
            "Epoch 59/150\n",
            "59/59 - 1s - loss: 0.1327 - accuracy: 0.9529 - val_loss: 0.3701 - val_accuracy: 0.8892\n",
            "Epoch 60/150\n",
            "59/59 - 1s - loss: 0.1328 - accuracy: 0.9531 - val_loss: 0.3704 - val_accuracy: 0.8876\n",
            "Epoch 61/150\n",
            "59/59 - 1s - loss: 0.1215 - accuracy: 0.9575 - val_loss: 0.3736 - val_accuracy: 0.8865\n",
            "Epoch 62/150\n",
            "59/59 - 1s - loss: 0.1218 - accuracy: 0.9571 - val_loss: 0.3735 - val_accuracy: 0.8854\n",
            "Epoch 63/150\n",
            "59/59 - 1s - loss: 0.1215 - accuracy: 0.9580 - val_loss: 0.3840 - val_accuracy: 0.8829\n",
            "Epoch 64/150\n",
            "59/59 - 1s - loss: 0.1214 - accuracy: 0.9574 - val_loss: 0.3758 - val_accuracy: 0.8870\n",
            "Epoch 65/150\n",
            "59/59 - 1s - loss: 0.1170 - accuracy: 0.9589 - val_loss: 0.3915 - val_accuracy: 0.8887\n",
            "Epoch 66/150\n",
            "59/59 - 1s - loss: 0.1180 - accuracy: 0.9588 - val_loss: 0.3910 - val_accuracy: 0.8896\n",
            "Epoch 67/150\n",
            "59/59 - 1s - loss: 0.1209 - accuracy: 0.9563 - val_loss: 0.4162 - val_accuracy: 0.8825\n",
            "Epoch 68/150\n",
            "59/59 - 1s - loss: 0.1204 - accuracy: 0.9579 - val_loss: 0.3888 - val_accuracy: 0.8853\n",
            "Epoch 69/150\n",
            "59/59 - 1s - loss: 0.1079 - accuracy: 0.9626 - val_loss: 0.3935 - val_accuracy: 0.8904\n",
            "Epoch 70/150\n",
            "59/59 - 1s - loss: 0.1100 - accuracy: 0.9611 - val_loss: 0.4329 - val_accuracy: 0.8856\n",
            "Epoch 71/150\n",
            "59/59 - 1s - loss: 0.1095 - accuracy: 0.9612 - val_loss: 0.3909 - val_accuracy: 0.8886\n",
            "Epoch 72/150\n",
            "59/59 - 1s - loss: 0.1047 - accuracy: 0.9636 - val_loss: 0.4052 - val_accuracy: 0.8880\n",
            "Epoch 73/150\n",
            "59/59 - 1s - loss: 0.1019 - accuracy: 0.9646 - val_loss: 0.3999 - val_accuracy: 0.8866\n",
            "Epoch 74/150\n",
            "59/59 - 1s - loss: 0.1003 - accuracy: 0.9654 - val_loss: 0.4048 - val_accuracy: 0.8887\n",
            "Epoch 75/150\n",
            "59/59 - 1s - loss: 0.0994 - accuracy: 0.9657 - val_loss: 0.4333 - val_accuracy: 0.8791\n",
            "Epoch 76/150\n",
            "59/59 - 1s - loss: 0.1074 - accuracy: 0.9614 - val_loss: 0.4160 - val_accuracy: 0.8820\n",
            "Epoch 77/150\n",
            "59/59 - 1s - loss: 0.0960 - accuracy: 0.9669 - val_loss: 0.4125 - val_accuracy: 0.8870\n",
            "Epoch 78/150\n",
            "59/59 - 1s - loss: 0.0992 - accuracy: 0.9651 - val_loss: 0.4320 - val_accuracy: 0.8850\n",
            "Epoch 79/150\n",
            "59/59 - 1s - loss: 0.0927 - accuracy: 0.9677 - val_loss: 0.4131 - val_accuracy: 0.8875\n",
            "Epoch 80/150\n",
            "59/59 - 1s - loss: 0.0924 - accuracy: 0.9683 - val_loss: 0.4282 - val_accuracy: 0.8867\n",
            "Epoch 81/150\n",
            "59/59 - 1s - loss: 0.0898 - accuracy: 0.9691 - val_loss: 0.4283 - val_accuracy: 0.8838\n",
            "Epoch 82/150\n",
            "59/59 - 1s - loss: 0.0899 - accuracy: 0.9689 - val_loss: 0.4372 - val_accuracy: 0.8821\n",
            "Epoch 83/150\n",
            "59/59 - 1s - loss: 0.0881 - accuracy: 0.9696 - val_loss: 0.4317 - val_accuracy: 0.8875\n",
            "Epoch 84/150\n",
            "59/59 - 1s - loss: 0.0895 - accuracy: 0.9685 - val_loss: 0.4434 - val_accuracy: 0.8881\n",
            "Epoch 85/150\n",
            "59/59 - 1s - loss: 0.0926 - accuracy: 0.9670 - val_loss: 0.4321 - val_accuracy: 0.8883\n",
            "Epoch 86/150\n",
            "59/59 - 1s - loss: 0.0843 - accuracy: 0.9711 - val_loss: 0.4367 - val_accuracy: 0.8897\n",
            "Epoch 87/150\n",
            "59/59 - 1s - loss: 0.0818 - accuracy: 0.9719 - val_loss: 0.4512 - val_accuracy: 0.8859\n",
            "Epoch 88/150\n",
            "59/59 - 1s - loss: 0.0880 - accuracy: 0.9681 - val_loss: 0.4371 - val_accuracy: 0.8876\n",
            "Epoch 89/150\n",
            "59/59 - 1s - loss: 0.0791 - accuracy: 0.9726 - val_loss: 0.4525 - val_accuracy: 0.8831\n",
            "Epoch 90/150\n",
            "59/59 - 1s - loss: 0.0788 - accuracy: 0.9731 - val_loss: 0.4652 - val_accuracy: 0.8864\n",
            "Epoch 91/150\n",
            "59/59 - 1s - loss: 0.0755 - accuracy: 0.9742 - val_loss: 0.4510 - val_accuracy: 0.8849\n",
            "Epoch 92/150\n",
            "59/59 - 1s - loss: 0.0766 - accuracy: 0.9731 - val_loss: 0.4583 - val_accuracy: 0.8887\n",
            "Epoch 93/150\n",
            "59/59 - 1s - loss: 0.0768 - accuracy: 0.9729 - val_loss: 0.4849 - val_accuracy: 0.8854\n",
            "Epoch 94/150\n",
            "59/59 - 1s - loss: 0.0738 - accuracy: 0.9748 - val_loss: 0.4649 - val_accuracy: 0.8849\n",
            "Epoch 95/150\n",
            "59/59 - 1s - loss: 0.0711 - accuracy: 0.9758 - val_loss: 0.4758 - val_accuracy: 0.8876\n",
            "Epoch 96/150\n",
            "59/59 - 1s - loss: 0.0698 - accuracy: 0.9764 - val_loss: 0.4818 - val_accuracy: 0.8870\n",
            "Epoch 97/150\n",
            "59/59 - 1s - loss: 0.0677 - accuracy: 0.9772 - val_loss: 0.4765 - val_accuracy: 0.8877\n",
            "Epoch 98/150\n",
            "59/59 - 1s - loss: 0.0710 - accuracy: 0.9757 - val_loss: 0.4772 - val_accuracy: 0.8866\n",
            "Epoch 99/150\n",
            "59/59 - 1s - loss: 0.0675 - accuracy: 0.9772 - val_loss: 0.4892 - val_accuracy: 0.8860\n",
            "Epoch 100/150\n",
            "59/59 - 1s - loss: 0.0665 - accuracy: 0.9768 - val_loss: 0.4976 - val_accuracy: 0.8867\n",
            "Epoch 101/150\n",
            "59/59 - 1s - loss: 0.0695 - accuracy: 0.9754 - val_loss: 0.4921 - val_accuracy: 0.8800\n",
            "Epoch 102/150\n",
            "59/59 - 1s - loss: 0.0670 - accuracy: 0.9772 - val_loss: 0.5072 - val_accuracy: 0.8810\n",
            "Epoch 103/150\n",
            "59/59 - 1s - loss: 0.0646 - accuracy: 0.9778 - val_loss: 0.5010 - val_accuracy: 0.8853\n",
            "Epoch 104/150\n",
            "59/59 - 1s - loss: 0.0610 - accuracy: 0.9795 - val_loss: 0.5111 - val_accuracy: 0.8839\n",
            "Epoch 105/150\n",
            "59/59 - 1s - loss: 0.0615 - accuracy: 0.9793 - val_loss: 0.5184 - val_accuracy: 0.8868\n",
            "Epoch 106/150\n",
            "59/59 - 1s - loss: 0.0584 - accuracy: 0.9808 - val_loss: 0.5012 - val_accuracy: 0.8863\n",
            "Epoch 107/150\n",
            "59/59 - 1s - loss: 0.0605 - accuracy: 0.9797 - val_loss: 0.5093 - val_accuracy: 0.8858\n",
            "Epoch 108/150\n",
            "59/59 - 1s - loss: 0.0585 - accuracy: 0.9800 - val_loss: 0.5253 - val_accuracy: 0.8842\n",
            "Epoch 109/150\n",
            "59/59 - 1s - loss: 0.0640 - accuracy: 0.9778 - val_loss: 0.5459 - val_accuracy: 0.8778\n",
            "Epoch 110/150\n",
            "59/59 - 1s - loss: 0.0740 - accuracy: 0.9739 - val_loss: 0.5280 - val_accuracy: 0.8893\n",
            "Epoch 111/150\n",
            "59/59 - 1s - loss: 0.0622 - accuracy: 0.9784 - val_loss: 0.5251 - val_accuracy: 0.8893\n",
            "Epoch 112/150\n",
            "59/59 - 1s - loss: 0.0522 - accuracy: 0.9826 - val_loss: 0.5087 - val_accuracy: 0.8885\n",
            "Epoch 113/150\n",
            "59/59 - 1s - loss: 0.0533 - accuracy: 0.9827 - val_loss: 0.5387 - val_accuracy: 0.8863\n",
            "Epoch 114/150\n",
            "59/59 - 1s - loss: 0.0508 - accuracy: 0.9829 - val_loss: 0.5290 - val_accuracy: 0.8876\n",
            "Epoch 115/150\n",
            "59/59 - 1s - loss: 0.0480 - accuracy: 0.9845 - val_loss: 0.5350 - val_accuracy: 0.8875\n",
            "Epoch 116/150\n",
            "59/59 - 1s - loss: 0.0501 - accuracy: 0.9830 - val_loss: 0.5448 - val_accuracy: 0.8890\n",
            "Epoch 117/150\n",
            "59/59 - 1s - loss: 0.0485 - accuracy: 0.9835 - val_loss: 0.5474 - val_accuracy: 0.8859\n",
            "Epoch 118/150\n",
            "59/59 - 1s - loss: 0.0453 - accuracy: 0.9852 - val_loss: 0.5392 - val_accuracy: 0.8874\n",
            "Epoch 119/150\n",
            "59/59 - 1s - loss: 0.0530 - accuracy: 0.9819 - val_loss: 0.5430 - val_accuracy: 0.8849\n",
            "Epoch 120/150\n",
            "59/59 - 1s - loss: 0.0522 - accuracy: 0.9822 - val_loss: 0.5623 - val_accuracy: 0.8866\n",
            "Epoch 121/150\n",
            "59/59 - 1s - loss: 0.0479 - accuracy: 0.9839 - val_loss: 0.5596 - val_accuracy: 0.8862\n",
            "Epoch 122/150\n",
            "59/59 - 1s - loss: 0.0432 - accuracy: 0.9861 - val_loss: 0.5884 - val_accuracy: 0.8858\n",
            "Epoch 123/150\n",
            "59/59 - 1s - loss: 0.0416 - accuracy: 0.9868 - val_loss: 0.5815 - val_accuracy: 0.8848\n",
            "Epoch 124/150\n",
            "59/59 - 1s - loss: 0.0452 - accuracy: 0.9848 - val_loss: 0.5659 - val_accuracy: 0.8868\n",
            "Epoch 125/150\n",
            "59/59 - 1s - loss: 0.0422 - accuracy: 0.9863 - val_loss: 0.5674 - val_accuracy: 0.8849\n",
            "Epoch 126/150\n",
            "59/59 - 1s - loss: 0.0417 - accuracy: 0.9861 - val_loss: 0.5815 - val_accuracy: 0.8842\n",
            "Epoch 127/150\n",
            "59/59 - 1s - loss: 0.0433 - accuracy: 0.9857 - val_loss: 0.5782 - val_accuracy: 0.8875\n",
            "Epoch 128/150\n",
            "59/59 - 1s - loss: 0.0398 - accuracy: 0.9869 - val_loss: 0.5981 - val_accuracy: 0.8879\n",
            "Epoch 129/150\n",
            "59/59 - 1s - loss: 0.0414 - accuracy: 0.9860 - val_loss: 0.6046 - val_accuracy: 0.8838\n",
            "Epoch 130/150\n",
            "59/59 - 1s - loss: 0.0392 - accuracy: 0.9874 - val_loss: 0.5960 - val_accuracy: 0.8841\n",
            "Epoch 131/150\n",
            "59/59 - 1s - loss: 0.0406 - accuracy: 0.9865 - val_loss: 0.5986 - val_accuracy: 0.8842\n",
            "Epoch 132/150\n",
            "59/59 - 1s - loss: 0.0396 - accuracy: 0.9871 - val_loss: 0.6166 - val_accuracy: 0.8835\n",
            "Epoch 133/150\n",
            "59/59 - 1s - loss: 0.0441 - accuracy: 0.9844 - val_loss: 0.6508 - val_accuracy: 0.8770\n",
            "Epoch 134/150\n",
            "59/59 - 1s - loss: 0.0538 - accuracy: 0.9813 - val_loss: 0.6088 - val_accuracy: 0.8844\n",
            "Epoch 135/150\n",
            "59/59 - 1s - loss: 0.0366 - accuracy: 0.9880 - val_loss: 0.5949 - val_accuracy: 0.8887\n",
            "Epoch 136/150\n",
            "59/59 - 1s - loss: 0.0341 - accuracy: 0.9893 - val_loss: 0.6253 - val_accuracy: 0.8834\n",
            "Epoch 137/150\n",
            "59/59 - 1s - loss: 0.0375 - accuracy: 0.9875 - val_loss: 0.6182 - val_accuracy: 0.8866\n",
            "Epoch 138/150\n",
            "59/59 - 1s - loss: 0.0341 - accuracy: 0.9894 - val_loss: 0.6293 - val_accuracy: 0.8832\n",
            "Epoch 139/150\n",
            "59/59 - 1s - loss: 0.0342 - accuracy: 0.9890 - val_loss: 0.6312 - val_accuracy: 0.8840\n",
            "Epoch 140/150\n",
            "59/59 - 1s - loss: 0.0304 - accuracy: 0.9907 - val_loss: 0.6250 - val_accuracy: 0.8867\n",
            "Epoch 141/150\n",
            "59/59 - 1s - loss: 0.0376 - accuracy: 0.9871 - val_loss: 0.6499 - val_accuracy: 0.8854\n",
            "Epoch 142/150\n",
            "59/59 - 1s - loss: 0.0363 - accuracy: 0.9880 - val_loss: 0.6443 - val_accuracy: 0.8841\n",
            "Epoch 143/150\n",
            "59/59 - 1s - loss: 0.0374 - accuracy: 0.9877 - val_loss: 0.6341 - val_accuracy: 0.8828\n",
            "Epoch 144/150\n",
            "59/59 - 1s - loss: 0.0383 - accuracy: 0.9867 - val_loss: 0.6438 - val_accuracy: 0.8841\n",
            "Epoch 145/150\n",
            "59/59 - 1s - loss: 0.0302 - accuracy: 0.9907 - val_loss: 0.6923 - val_accuracy: 0.8857\n",
            "Epoch 146/150\n",
            "59/59 - 1s - loss: 0.0361 - accuracy: 0.9880 - val_loss: 0.6518 - val_accuracy: 0.8844\n",
            "Epoch 147/150\n",
            "59/59 - 1s - loss: 0.0336 - accuracy: 0.9891 - val_loss: 0.6957 - val_accuracy: 0.8835\n",
            "Epoch 148/150\n",
            "59/59 - 1s - loss: 0.0333 - accuracy: 0.9894 - val_loss: 0.6492 - val_accuracy: 0.8855\n",
            "Epoch 149/150\n",
            "59/59 - 1s - loss: 0.0328 - accuracy: 0.9890 - val_loss: 0.6488 - val_accuracy: 0.8864\n",
            "Epoch 150/150\n",
            "59/59 - 1s - loss: 0.0278 - accuracy: 0.9915 - val_loss: 0.6620 - val_accuracy: 0.8881\n"
          ],
          "name": "stdout"
        }
      ]
    },
    {
      "cell_type": "code",
      "metadata": {
        "id": "OcRJFvZ-gB6Y"
      },
      "source": [
        ""
      ],
      "execution_count": null,
      "outputs": []
    },
    {
      "cell_type": "code",
      "metadata": {
        "colab": {
          "base_uri": "https://localhost:8080/",
          "height": 297
        },
        "id": "N9S-YJRHgB8o",
        "outputId": "2d53267b-8120-42a4-fd0e-7e95991eaa4c"
      },
      "source": [
        "import matplotlib.pyplot as plt\r\n",
        "\r\n",
        "plt.plot(history_data.history['loss'], label = \"train_loss\")\r\n",
        "plt.plot(history_data.history['val_loss'], label = \"val_loss\")\r\n",
        "plt.xlabel('iteration')\r\n",
        "plt.ylabel('Loss')\r\n",
        "plt.legend()"
      ],
      "execution_count": null,
      "outputs": [
        {
          "output_type": "execute_result",
          "data": {
            "text/plain": [
              "<matplotlib.legend.Legend at 0x7f55ac17de80>"
            ]
          },
          "metadata": {
            "tags": []
          },
          "execution_count": 3
        },
        {
          "output_type": "display_data",
          "data": {
            "image/png": "[encoded data removed]",
            "text/plain": [
              "<Figure size 432x288 with 1 Axes>"
            ]
          },
          "metadata": {
            "tags": [],
            "needs_background": "light"
          }
        }
      ]
    },
    {
      "cell_type": "code",
      "metadata": {
        "id": "hA-SU73LgMzH"
      },
      "source": [
        ""
      ],
      "execution_count": null,
      "outputs": []
    },
    {
      "cell_type": "code",
      "metadata": {
        "colab": {
          "base_uri": "https://localhost:8080/",
          "height": 297
        },
        "id": "GevYESRggM1o",
        "outputId": "29ef743a-7e5d-4c34-e512-3948c0b2a7f6"
      },
      "source": [
        "import matplotlib.pyplot as plt\r\n",
        "\r\n",
        "plt.plot(history_data.history['accuracy'], label = \"train_accuracy\")\r\n",
        "plt.plot(history_data.history['val_accuracy'], label = \"val_accuracy\")\r\n",
        "plt.xlabel('iteration')\r\n",
        "plt.ylabel('Accuracy')\r\n",
        "plt.legend()"
      ],
      "execution_count": null,
      "outputs": [
        {
          "output_type": "execute_result",
          "data": {
            "text/plain": [
              "<matplotlib.legend.Legend at 0x7f55abc5fc50>"
            ]
          },
          "metadata": {
            "tags": []
          },
          "execution_count": 4
        },
        {
          "output_type": "display_data",
          "data": {
            "image/png": "[encoded data removed]",
            "text/plain": [
              "<Figure size 432x288 with 1 Axes>"
            ]
          },
          "metadata": {
            "tags": [],
            "needs_background": "light"
          }
        }
      ]
    },
    {
      "cell_type": "code",
      "metadata": {
        "id": "H-20IJNRgca7"
      },
      "source": [
        ""
      ],
      "execution_count": null,
      "outputs": []
    }
  ]
}