{
  "nbformat": 4,
  "nbformat_minor": 0,
  "metadata": {
    "colab": {
      "name": "8.6.ClassicFE_vs_FiltersInCNN.ipynb",
      "provenance": []
    },
    "kernelspec": {
      "name": "python3",
      "display_name": "Python 3"
    },
    "accelerator": "GPU"
  },
  "cells": [
    {
      "cell_type": "code",
      "metadata": {
        "colab": {
          "base_uri": "https://localhost:8080/"
        },
        "id": "fkZoMKQ-U19c",
        "outputId": "25d5e90d-a2fc-41db-b359-02a721fc3e66"
      },
      "source": [
        "import tensorflow as tf\r\n",
        "from tensorflow import keras\r\n",
        "\r\n",
        "cifar10 = keras.datasets.cifar10\r\n",
        "(train_images, train_labels), (test_images, test_labels) = cifar10.load_data()\r\n",
        "\r\n",
        "train_images = train_images / 255.0\r\n",
        "test_images  = test_images / 255.0\r\n",
        "\r\n",
        "train_images = tf.reshape(train_images, (50000, 32, 32, 3))\r\n",
        "test_images  = tf.reshape(test_images, (10000, 32, 32, 3))\r\n",
        "\r\n",
        "# model\r\n",
        "model = keras.models.Sequential()\r\n",
        "model.add(tf.keras.Input(shape=(32, 32, 3)))\r\n",
        "model.add(keras.layers.Conv2D(4, (3, 3), activation='relu'))\r\n",
        "model.add(keras.layers.MaxPooling2D(2))\r\n",
        "\r\n",
        "# flatten\r\n",
        "model.add(keras.layers.Flatten())\r\n",
        "model.add(keras.layers.Dense(128, activation='relu'))\r\n",
        "model.add(keras.layers.Dense(10, activation='softmax'))\r\n",
        "\r\n",
        "model.summary()\r\n",
        "\r\n",
        "model.compile(optimizer='adam',\r\n",
        "              loss=tf.keras.losses.SparseCategoricalCrossentropy(),\r\n",
        "              metrics=['accuracy'])\r\n",
        "history_data = model.fit(train_images, train_labels, batch_size=1024,\r\n",
        "                         validation_data=(test_images, test_labels), epochs=50)"
      ],
      "execution_count": null,
      "outputs": [
        {
          "output_type": "stream",
          "text": [
            "Model: \"sequential_1\"\n",
            "_________________________________________________________________\n",
            "Layer (type)                 Output Shape              Param #   \n",
            "=================================================================\n",
            "conv2d_1 (Conv2D)            (None, 30, 30, 4)         112       \n",
            "_________________________________________________________________\n",
            "max_pooling2d_2 (MaxPooling2 (None, 15, 15, 4)         0         \n",
            "_________________________________________________________________\n",
            "flatten_2 (Flatten)          (None, 900)               0         \n",
            "_________________________________________________________________\n",
            "dense_4 (Dense)              (None, 128)               115328    \n",
            "_________________________________________________________________\n",
            "dense_5 (Dense)              (None, 10)                1290      \n",
            "=================================================================\n",
            "Total params: 116,730\n",
            "Trainable params: 116,730\n",
            "Non-trainable params: 0\n",
            "_________________________________________________________________\n",
            "Epoch 1/50\n",
            "49/49 [==============================] - 1s 21ms/step - loss: 2.2180 - accuracy: 0.1862 - val_loss: 1.8859 - val_accuracy: 0.3453\n",
            "Epoch 2/50\n",
            "49/49 [==============================] - 1s 18ms/step - loss: 1.8532 - accuracy: 0.3556 - val_loss: 1.7823 - val_accuracy: 0.3829\n",
            "Epoch 3/50\n",
            "49/49 [==============================] - 1s 20ms/step - loss: 1.7620 - accuracy: 0.3825 - val_loss: 1.7169 - val_accuracy: 0.3994\n",
            "Epoch 4/50\n",
            "49/49 [==============================] - 1s 17ms/step - loss: 1.6832 - accuracy: 0.4120 - val_loss: 1.6412 - val_accuracy: 0.4268\n",
            "Epoch 5/50\n",
            "49/49 [==============================] - 1s 17ms/step - loss: 1.6182 - accuracy: 0.4358 - val_loss: 1.6005 - val_accuracy: 0.4347\n",
            "Epoch 6/50\n",
            "49/49 [==============================] - 1s 17ms/step - loss: 1.5675 - accuracy: 0.4552 - val_loss: 1.5454 - val_accuracy: 0.4564\n",
            "Epoch 7/50\n",
            "49/49 [==============================] - 1s 18ms/step - loss: 1.5292 - accuracy: 0.4681 - val_loss: 1.5163 - val_accuracy: 0.4709\n",
            "Epoch 8/50\n",
            "49/49 [==============================] - 1s 17ms/step - loss: 1.4929 - accuracy: 0.4793 - val_loss: 1.4861 - val_accuracy: 0.4790\n",
            "Epoch 9/50\n",
            "49/49 [==============================] - 1s 17ms/step - loss: 1.4582 - accuracy: 0.4921 - val_loss: 1.4769 - val_accuracy: 0.4767\n",
            "Epoch 10/50\n",
            "49/49 [==============================] - 1s 17ms/step - loss: 1.4433 - accuracy: 0.4949 - val_loss: 1.4495 - val_accuracy: 0.4915\n",
            "Epoch 11/50\n",
            "49/49 [==============================] - 1s 17ms/step - loss: 1.4187 - accuracy: 0.5064 - val_loss: 1.4345 - val_accuracy: 0.4987\n",
            "Epoch 12/50\n",
            "49/49 [==============================] - 1s 17ms/step - loss: 1.4086 - accuracy: 0.5086 - val_loss: 1.4154 - val_accuracy: 0.5039\n",
            "Epoch 13/50\n",
            "49/49 [==============================] - 1s 17ms/step - loss: 1.3915 - accuracy: 0.5145 - val_loss: 1.4166 - val_accuracy: 0.5028\n",
            "Epoch 14/50\n",
            "49/49 [==============================] - 1s 17ms/step - loss: 1.3828 - accuracy: 0.5183 - val_loss: 1.4089 - val_accuracy: 0.5011\n",
            "Epoch 15/50\n",
            "49/49 [==============================] - 1s 18ms/step - loss: 1.3556 - accuracy: 0.5274 - val_loss: 1.3962 - val_accuracy: 0.5096\n",
            "Epoch 16/50\n",
            "49/49 [==============================] - 1s 17ms/step - loss: 1.3445 - accuracy: 0.5314 - val_loss: 1.4000 - val_accuracy: 0.5034\n",
            "Epoch 17/50\n",
            "49/49 [==============================] - 1s 18ms/step - loss: 1.3412 - accuracy: 0.5344 - val_loss: 1.3877 - val_accuracy: 0.5113\n",
            "Epoch 18/50\n",
            "49/49 [==============================] - 1s 17ms/step - loss: 1.3120 - accuracy: 0.5430 - val_loss: 1.3928 - val_accuracy: 0.5098\n",
            "Epoch 19/50\n",
            "49/49 [==============================] - 1s 17ms/step - loss: 1.3240 - accuracy: 0.5374 - val_loss: 1.3604 - val_accuracy: 0.5244\n",
            "Epoch 20/50\n",
            "49/49 [==============================] - 1s 18ms/step - loss: 1.2979 - accuracy: 0.5521 - val_loss: 1.3586 - val_accuracy: 0.5238\n",
            "Epoch 21/50\n",
            "49/49 [==============================] - 1s 17ms/step - loss: 1.2940 - accuracy: 0.5491 - val_loss: 1.3519 - val_accuracy: 0.5229\n",
            "Epoch 22/50\n",
            "49/49 [==============================] - 1s 18ms/step - loss: 1.2711 - accuracy: 0.5619 - val_loss: 1.3543 - val_accuracy: 0.5270\n",
            "Epoch 23/50\n",
            "49/49 [==============================] - 1s 17ms/step - loss: 1.2657 - accuracy: 0.5587 - val_loss: 1.3446 - val_accuracy: 0.5262\n",
            "Epoch 24/50\n",
            "49/49 [==============================] - 1s 18ms/step - loss: 1.2597 - accuracy: 0.5620 - val_loss: 1.3264 - val_accuracy: 0.5322\n",
            "Epoch 25/50\n",
            "49/49 [==============================] - 1s 17ms/step - loss: 1.2417 - accuracy: 0.5724 - val_loss: 1.3218 - val_accuracy: 0.5353\n",
            "Epoch 26/50\n",
            "49/49 [==============================] - 1s 18ms/step - loss: 1.2385 - accuracy: 0.5748 - val_loss: 1.3320 - val_accuracy: 0.5334\n",
            "Epoch 27/50\n",
            "49/49 [==============================] - 1s 18ms/step - loss: 1.2312 - accuracy: 0.5733 - val_loss: 1.3208 - val_accuracy: 0.5331\n",
            "Epoch 28/50\n",
            "49/49 [==============================] - 1s 18ms/step - loss: 1.2157 - accuracy: 0.5819 - val_loss: 1.3195 - val_accuracy: 0.5341\n",
            "Epoch 29/50\n",
            "49/49 [==============================] - 1s 17ms/step - loss: 1.2012 - accuracy: 0.5837 - val_loss: 1.3160 - val_accuracy: 0.5346\n",
            "Epoch 30/50\n",
            "49/49 [==============================] - 1s 18ms/step - loss: 1.2033 - accuracy: 0.5852 - val_loss: 1.3144 - val_accuracy: 0.5340\n",
            "Epoch 31/50\n",
            "49/49 [==============================] - 1s 17ms/step - loss: 1.1977 - accuracy: 0.5847 - val_loss: 1.3073 - val_accuracy: 0.5368\n",
            "Epoch 32/50\n",
            "49/49 [==============================] - 1s 18ms/step - loss: 1.1857 - accuracy: 0.5941 - val_loss: 1.3069 - val_accuracy: 0.5412\n",
            "Epoch 33/50\n",
            "49/49 [==============================] - 1s 17ms/step - loss: 1.1863 - accuracy: 0.5861 - val_loss: 1.3025 - val_accuracy: 0.5413\n",
            "Epoch 34/50\n",
            "49/49 [==============================] - 1s 17ms/step - loss: 1.1823 - accuracy: 0.5918 - val_loss: 1.2947 - val_accuracy: 0.5431\n",
            "Epoch 35/50\n",
            "49/49 [==============================] - 1s 17ms/step - loss: 1.1702 - accuracy: 0.5935 - val_loss: 1.3015 - val_accuracy: 0.5442\n",
            "Epoch 36/50\n",
            "49/49 [==============================] - 1s 17ms/step - loss: 1.1616 - accuracy: 0.5980 - val_loss: 1.2965 - val_accuracy: 0.5430\n",
            "Epoch 37/50\n",
            "49/49 [==============================] - 1s 17ms/step - loss: 1.1507 - accuracy: 0.6039 - val_loss: 1.3024 - val_accuracy: 0.5415\n",
            "Epoch 38/50\n",
            "49/49 [==============================] - 1s 17ms/step - loss: 1.1471 - accuracy: 0.6022 - val_loss: 1.3016 - val_accuracy: 0.5422\n",
            "Epoch 39/50\n",
            "49/49 [==============================] - 1s 17ms/step - loss: 1.1357 - accuracy: 0.6056 - val_loss: 1.2912 - val_accuracy: 0.5483\n",
            "Epoch 40/50\n",
            "49/49 [==============================] - 1s 17ms/step - loss: 1.1280 - accuracy: 0.6111 - val_loss: 1.2821 - val_accuracy: 0.5506\n",
            "Epoch 41/50\n",
            "49/49 [==============================] - 1s 17ms/step - loss: 1.1256 - accuracy: 0.6115 - val_loss: 1.3019 - val_accuracy: 0.5395\n",
            "Epoch 42/50\n",
            "49/49 [==============================] - 1s 17ms/step - loss: 1.1228 - accuracy: 0.6127 - val_loss: 1.2901 - val_accuracy: 0.5488\n",
            "Epoch 43/50\n",
            "49/49 [==============================] - 1s 17ms/step - loss: 1.1084 - accuracy: 0.6157 - val_loss: 1.2879 - val_accuracy: 0.5512\n",
            "Epoch 44/50\n",
            "49/49 [==============================] - 1s 17ms/step - loss: 1.1049 - accuracy: 0.6155 - val_loss: 1.2830 - val_accuracy: 0.5514\n",
            "Epoch 45/50\n",
            "49/49 [==============================] - 1s 19ms/step - loss: 1.1010 - accuracy: 0.6195 - val_loss: 1.2808 - val_accuracy: 0.5493\n",
            "Epoch 46/50\n",
            "49/49 [==============================] - 1s 17ms/step - loss: 1.0919 - accuracy: 0.6227 - val_loss: 1.2950 - val_accuracy: 0.5478\n",
            "Epoch 47/50\n",
            "49/49 [==============================] - 1s 17ms/step - loss: 1.0843 - accuracy: 0.6235 - val_loss: 1.2812 - val_accuracy: 0.5506\n",
            "Epoch 48/50\n",
            "49/49 [==============================] - 1s 18ms/step - loss: 1.0853 - accuracy: 0.6227 - val_loss: 1.2818 - val_accuracy: 0.5506\n",
            "Epoch 49/50\n",
            "49/49 [==============================] - 1s 17ms/step - loss: 1.0717 - accuracy: 0.6293 - val_loss: 1.2810 - val_accuracy: 0.5491\n",
            "Epoch 50/50\n",
            "49/49 [==============================] - 1s 17ms/step - loss: 1.0687 - accuracy: 0.6269 - val_loss: 1.2744 - val_accuracy: 0.5542\n"
          ],
          "name": "stdout"
        }
      ]
    },
    {
      "cell_type": "code",
      "metadata": {
        "id": "PfBuQDTQVvh_"
      },
      "source": [
        ""
      ],
      "execution_count": null,
      "outputs": []
    },
    {
      "cell_type": "code",
      "metadata": {
        "colab": {
          "base_uri": "https://localhost:8080/",
          "height": 297
        },
        "id": "PrajlXlgVzMi",
        "outputId": "bb624123-4182-47d2-fae9-015eff7a8bd0"
      },
      "source": [
        "import matplotlib.pyplot as plt\r\n",
        "\r\n",
        "plt.plot(history_data.history['loss'], label = \"train_loss\")\r\n",
        "plt.plot(history_data.history['val_loss'], label = \"val_loss\")\r\n",
        "plt.xlabel('iteration')\r\n",
        "plt.ylabel('Loss')\r\n",
        "plt.legend()"
      ],
      "execution_count": null,
      "outputs": [
        {
          "output_type": "execute_result",
          "data": {
            "text/plain": [
              "<matplotlib.legend.Legend at 0x7f08f60303c8>"
            ]
          },
          "metadata": {
            "tags": []
          },
          "execution_count": 10
        },
        {
          "output_type": "display_data",
          "data": {
            "image/png": "[encoded data removed]",
            "text/plain": [
              "<Figure size 432x288 with 1 Axes>"
            ]
          },
          "metadata": {
            "tags": [],
            "needs_background": "light"
          }
        }
      ]
    },
    {
      "cell_type": "code",
      "metadata": {
        "id": "FMKlffiVVzO-"
      },
      "source": [
        ""
      ],
      "execution_count": null,
      "outputs": []
    },
    {
      "cell_type": "code",
      "metadata": {
        "colab": {
          "base_uri": "https://localhost:8080/",
          "height": 297
        },
        "id": "s9kClrHCVzRW",
        "outputId": "58270e3f-9035-46aa-ba6a-cb0d412d4bf3"
      },
      "source": [
        "import matplotlib.pyplot as plt\r\n",
        "\r\n",
        "plt.plot(history_data.history['accuracy'], label = \"train_accuracy\")\r\n",
        "plt.plot(history_data.history['val_accuracy'], label = \"val_accuracy\")\r\n",
        "plt.xlabel('iteration')\r\n",
        "plt.ylabel('Accuracy')\r\n",
        "plt.legend()"
      ],
      "execution_count": null,
      "outputs": [
        {
          "output_type": "execute_result",
          "data": {
            "text/plain": [
              "<matplotlib.legend.Legend at 0x7f08eff1cf60>"
            ]
          },
          "metadata": {
            "tags": []
          },
          "execution_count": 11
        },
        {
          "output_type": "display_data",
          "data": {
            "image/png": "[encoded data removed]",
            "text/plain": [
              "<Figure size 432x288 with 1 Axes>"
            ]
          },
          "metadata": {
            "tags": [],
            "needs_background": "light"
          }
        }
      ]
    },
    {
      "cell_type": "code",
      "metadata": {
        "id": "C3MRmuQLVzTn"
      },
      "source": [
        ""
      ],
      "execution_count": null,
      "outputs": []
    },
    {
      "cell_type": "code",
      "metadata": {
        "id": "bUkfQ8VhVzVx"
      },
      "source": [
        ""
      ],
      "execution_count": null,
      "outputs": []
    },
    {
      "cell_type": "code",
      "metadata": {
        "id": "pCIcmwZWVzX7"
      },
      "source": [
        ""
      ],
      "execution_count": null,
      "outputs": []
    },
    {
      "cell_type": "code",
      "metadata": {
        "id": "RZ9vA1erWEb3"
      },
      "source": [
        ""
      ],
      "execution_count": null,
      "outputs": []
    },
    {
      "cell_type": "code",
      "metadata": {
        "id": "nuVzH2wTWEeO"
      },
      "source": [
        ""
      ],
      "execution_count": null,
      "outputs": []
    },
    {
      "cell_type": "code",
      "metadata": {
        "colab": {
          "base_uri": "https://localhost:8080/"
        },
        "id": "ACywABSOWEgR",
        "outputId": "1be378d4-a187-4ed8-d670-a520fb4fd48c"
      },
      "source": [
        "cifar10 = keras.datasets.cifar10\r\n",
        "(train_images, train_labels), (test_images, test_labels) = cifar10.load_data()\r\n",
        "\r\n",
        "train_images = train_images.reshape(-1,32,32,3)\r\n",
        "train_images = tf.convert_to_tensor(train_images, dtype=tf.float32)\r\n",
        "print(train_images.shape)\r\n",
        "\r\n",
        "dx, dy = tf.image.image_gradients(train_images)\r\n",
        "#sobel = tf.image.sobel_edges(train_images)\r\n",
        "print(dx.shape)"
      ],
      "execution_count": null,
      "outputs": [
        {
          "output_type": "stream",
          "text": [
            "(50000, 32, 32, 3)\n",
            "(50000, 32, 32, 3)\n"
          ],
          "name": "stdout"
        }
      ]
    },
    {
      "cell_type": "code",
      "metadata": {
        "id": "IVSc9bFRV8AK"
      },
      "source": [
        ""
      ],
      "execution_count": null,
      "outputs": []
    },
    {
      "cell_type": "code",
      "metadata": {
        "colab": {
          "base_uri": "https://localhost:8080/"
        },
        "id": "IkW7poLIV8C6",
        "outputId": "6447c346-e98e-456c-e224-e0f28030d04a"
      },
      "source": [
        "import tensorflow as tf\r\n",
        "from tensorflow import keras\r\n",
        "\r\n",
        "def construct_model():\r\n",
        "  inp = keras.layers.Input(shape=[32,32,3])  \r\n",
        "  \r\n",
        "  # get edges\r\n",
        "  edges = tf.image.sobel_edges(inp)\r\n",
        "  edges = tf.keras.layers.Reshape((32,32,6))(edges)\r\n",
        "\r\n",
        "  # get gradient\r\n",
        "  dx, dy = tf.image.image_gradients(inp)\r\n",
        "  x = tf.keras.layers.Concatenate(axis=3)([dx, dy, edges])\r\n",
        "\r\n",
        "  x = tf.keras.layers.Reshape((32,32,12))(x)\r\n",
        "\r\n",
        "  x = keras.layers.MaxPooling2D(2)(x)\r\n",
        "  x = keras.layers.Flatten()(x)\r\n",
        "  x = keras.layers.Dense(128, activation='relu')(x)\r\n",
        "  x = keras.layers.Dense(10, activation='softmax')(x)\r\n",
        "\r\n",
        "  return tf.keras.Model(inputs=[inp], outputs=x)\r\n",
        "\r\n",
        "\r\n",
        "\r\n",
        "\r\n",
        "cifar10 = keras.datasets.cifar10\r\n",
        "(train_images, train_labels), (test_images, test_labels) = cifar10.load_data()\r\n",
        "\r\n",
        "train_images = train_images / 255.0\r\n",
        "test_images  = test_images / 255.0\r\n",
        "\r\n",
        "train_images = tf.reshape(train_images, (50000, 32, 32, 3))\r\n",
        "test_images  = tf.reshape(test_images, (10000, 32, 32, 3))\r\n",
        "\r\n",
        "# model\r\n",
        "model = construct_model()\r\n",
        "model.summary()\r\n",
        "\r\n",
        "model.compile(optimizer='adam',\r\n",
        "              loss=tf.keras.losses.SparseCategoricalCrossentropy(),\r\n",
        "              metrics=['accuracy'])\r\n",
        "history_data = model.fit(train_images, train_labels, batch_size=1024,\r\n",
        "                         validation_data=(test_images, test_labels), epochs=1)"
      ],
      "execution_count": null,
      "outputs": [
        {
          "output_type": "stream",
          "text": [
            "Model: \"model_1\"\n",
            "__________________________________________________________________________________________________\n",
            "Layer (type)                    Output Shape         Param #     Connected to                     \n",
            "==================================================================================================\n",
            "input_2 (InputLayer)            [(None, 32, 32, 3)]  0                                            \n",
            "__________________________________________________________________________________________________\n",
            "tf.compat.v1.shape_3 (TFOpLambd (4,)                 0           input_2[0][0]                    \n",
            "__________________________________________________________________________________________________\n",
            "tf.compat.v1.shape_2 (TFOpLambd (4,)                 0           input_2[0][0]                    \n",
            "__________________________________________________________________________________________________\n",
            "tf.unstack_1 (TFOpLambda)       [(), (), (), ()]     0           tf.compat.v1.shape_3[0][0]       \n",
            "__________________________________________________________________________________________________\n",
            "tf.__operators__.getitem_7 (Sli ()                   0           tf.compat.v1.shape_2[0][0]       \n",
            "__________________________________________________________________________________________________\n",
            "tf.__operators__.getitem_8 (Sli (None, 31, 32, 3)    0           input_2[0][0]                    \n",
            "__________________________________________________________________________________________________\n",
            "tf.__operators__.getitem_9 (Sli (None, 31, 32, 3)    0           input_2[0][0]                    \n",
            "__________________________________________________________________________________________________\n",
            "tf.stack_2 (TFOpLambda)         (4,)                 0           tf.unstack_1[0][0]               \n",
            "                                                                 tf.unstack_1[0][2]               \n",
            "                                                                 tf.unstack_1[0][3]               \n",
            "__________________________________________________________________________________________________\n",
            "tf.__operators__.getitem_10 (Sl (None, 32, 31, 3)    0           input_2[0][0]                    \n",
            "__________________________________________________________________________________________________\n",
            "tf.__operators__.getitem_11 (Sl (None, 32, 31, 3)    0           input_2[0][0]                    \n",
            "__________________________________________________________________________________________________\n",
            "tf.stack_3 (TFOpLambda)         (4,)                 0           tf.unstack_1[0][0]               \n",
            "                                                                 tf.unstack_1[0][1]               \n",
            "                                                                 tf.unstack_1[0][3]               \n",
            "__________________________________________________________________________________________________\n",
            "tf.compat.v1.pad_1 (TFOpLambda) (None, 34, 34, 3)    0           input_2[0][0]                    \n",
            "__________________________________________________________________________________________________\n",
            "tf.tile_1 (TFOpLambda)          (3, 3, None, 2)      0           tf.__operators__.getitem_7[0][0] \n",
            "__________________________________________________________________________________________________\n",
            "tf.math.subtract_2 (TFOpLambda) (None, 31, 32, 3)    0           tf.__operators__.getitem_8[0][0] \n",
            "                                                                 tf.__operators__.getitem_9[0][0] \n",
            "__________________________________________________________________________________________________\n",
            "tf.zeros_2 (TFOpLambda)         (None, 1, None, None 0           tf.stack_2[0][0]                 \n",
            "__________________________________________________________________________________________________\n",
            "tf.math.subtract_3 (TFOpLambda) (None, 32, 31, 3)    0           tf.__operators__.getitem_10[0][0]\n",
            "                                                                 tf.__operators__.getitem_11[0][0]\n",
            "__________________________________________________________________________________________________\n",
            "tf.zeros_3 (TFOpLambda)         (None, None, 1, None 0           tf.stack_3[0][0]                 \n",
            "__________________________________________________________________________________________________\n",
            "tf.compat.v1.nn.depthwise_conv2 (None, 32, 32, 6)    0           tf.compat.v1.pad_1[0][0]         \n",
            "                                                                 tf.tile_1[0][0]                  \n",
            "__________________________________________________________________________________________________\n",
            "tf.concat_3 (TFOpLambda)        (5,)                 0           tf.compat.v1.shape_2[0][0]       \n",
            "__________________________________________________________________________________________________\n",
            "tf.concat_4 (TFOpLambda)        (None, 32, 32, 3)    0           tf.math.subtract_2[0][0]         \n",
            "                                                                 tf.zeros_2[0][0]                 \n",
            "__________________________________________________________________________________________________\n",
            "tf.concat_5 (TFOpLambda)        (None, 32, 32, 3)    0           tf.math.subtract_3[0][0]         \n",
            "                                                                 tf.zeros_3[0][0]                 \n",
            "__________________________________________________________________________________________________\n",
            "tf.reshape_3 (TFOpLambda)       (None, 32, 32, 3, 2) 0           tf.compat.v1.nn.depthwise_conv2d_\n",
            "                                                                 tf.concat_3[0][0]                \n",
            "__________________________________________________________________________________________________\n",
            "tf.reshape_4 (TFOpLambda)       (None, 32, 32, 3)    0           tf.concat_4[0][0]                \n",
            "                                                                 tf.compat.v1.shape_3[0][0]       \n",
            "__________________________________________________________________________________________________\n",
            "tf.reshape_5 (TFOpLambda)       (None, 32, 32, 3)    0           tf.concat_5[0][0]                \n",
            "                                                                 tf.compat.v1.shape_3[0][0]       \n",
            "__________________________________________________________________________________________________\n",
            "reshape_1 (Reshape)             (None, 32, 32, 6)    0           tf.reshape_3[0][0]               \n",
            "__________________________________________________________________________________________________\n",
            "concatenate_1 (Concatenate)     (None, 32, 32, 12)   0           tf.reshape_4[0][0]               \n",
            "                                                                 tf.reshape_5[0][0]               \n",
            "                                                                 reshape_1[0][0]                  \n",
            "__________________________________________________________________________________________________\n",
            "reshape_2 (Reshape)             (None, 32, 32, 12)   0           concatenate_1[0][0]              \n",
            "__________________________________________________________________________________________________\n",
            "max_pooling2d_1 (MaxPooling2D)  (None, 16, 16, 12)   0           reshape_2[0][0]                  \n",
            "__________________________________________________________________________________________________\n",
            "flatten_1 (Flatten)             (None, 3072)         0           max_pooling2d_1[0][0]            \n",
            "__________________________________________________________________________________________________\n",
            "dense_2 (Dense)                 (None, 128)          393344      flatten_1[0][0]                  \n",
            "__________________________________________________________________________________________________\n",
            "dense_3 (Dense)                 (None, 10)           1290        dense_2[0][0]                    \n",
            "==================================================================================================\n",
            "Total params: 394,634\n",
            "Trainable params: 394,634\n",
            "Non-trainable params: 0\n",
            "__________________________________________________________________________________________________\n",
            "49/49 [==============================] - 2s 30ms/step - loss: 2.0897 - accuracy: 0.2584 - val_loss: 1.7242 - val_accuracy: 0.4149\n"
          ],
          "name": "stdout"
        }
      ]
    },
    {
      "cell_type": "code",
      "metadata": {
        "id": "mBR_5WpiV8FN"
      },
      "source": [
        ""
      ],
      "execution_count": null,
      "outputs": []
    },
    {
      "cell_type": "code",
      "metadata": {
        "colab": {
          "base_uri": "https://localhost:8080/",
          "height": 297
        },
        "id": "nRGqd0ciV8Hk",
        "outputId": "c10cb8e2-eddb-4fb2-ae0f-46e3883876ca"
      },
      "source": [
        "import matplotlib.pyplot as plt\r\n",
        "\r\n",
        "plt.plot(history_data.history['loss'], label = \"train_loss\")\r\n",
        "plt.plot(history_data.history['val_loss'], label = \"val_loss\")\r\n",
        "plt.xlabel('iteration')\r\n",
        "plt.ylabel('Loss')\r\n",
        "plt.legend()"
      ],
      "execution_count": null,
      "outputs": [
        {
          "output_type": "execute_result",
          "data": {
            "text/plain": [
              "<matplotlib.legend.Legend at 0x7f08eeb61278>"
            ]
          },
          "metadata": {
            "tags": []
          },
          "execution_count": 7
        },
        {
          "output_type": "display_data",
          "data": {
            "image/png": "[encoded data removed]",
            "text/plain": [
              "<Figure size 432x288 with 1 Axes>"
            ]
          },
          "metadata": {
            "tags": [],
            "needs_background": "light"
          }
        }
      ]
    },
    {
      "cell_type": "code",
      "metadata": {
        "id": "yRjB0mWwV8KJ"
      },
      "source": [
        ""
      ],
      "execution_count": null,
      "outputs": []
    },
    {
      "cell_type": "code",
      "metadata": {
        "colab": {
          "base_uri": "https://localhost:8080/",
          "height": 299
        },
        "id": "qIR9lkxOV8Mh",
        "outputId": "a6c62941-4809-47f2-fa0b-1c8f8ee8d5c4"
      },
      "source": [
        "import matplotlib.pyplot as plt\r\n",
        "\r\n",
        "plt.plot(history_data.history['accuracy'], label = \"train_accuracy\")\r\n",
        "plt.plot(history_data.history['val_accuracy'], label = \"val_accuracy\")\r\n",
        "plt.xlabel('iteration')\r\n",
        "plt.ylabel('Accuracy')\r\n",
        "plt.legend()"
      ],
      "execution_count": null,
      "outputs": [
        {
          "output_type": "execute_result",
          "data": {
            "text/plain": [
              "<matplotlib.legend.Legend at 0x7f08eeb21278>"
            ]
          },
          "metadata": {
            "tags": []
          },
          "execution_count": 8
        },
        {
          "output_type": "display_data",
          "data": {
            "image/png": "[encoded data removed]",
            "text/plain": [
              "<Figure size 432x288 with 1 Axes>"
            ]
          },
          "metadata": {
            "tags": [],
            "needs_background": "light"
          }
        }
      ]
    },
    {
      "cell_type": "code",
      "metadata": {
        "id": "vobu9KQCYuhy"
      },
      "source": [
        ""
      ],
      "execution_count": null,
      "outputs": []
    }
  ]
}