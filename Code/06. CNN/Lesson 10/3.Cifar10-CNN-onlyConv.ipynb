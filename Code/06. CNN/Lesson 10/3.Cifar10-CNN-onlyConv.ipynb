{
 "cells": [
  {
   "cell_type": "markdown",
   "metadata": {},
   "source": [
    "## Using CNN"
   ]
  },
  {
   "cell_type": "code",
   "execution_count": null,
   "metadata": {},
   "outputs": [],
   "source": [
    "import tensorflow as tf\n",
    "from tensorflow import keras\n",
    "\n",
    "\n",
    "cifar10 = keras.datasets.cifar10\n",
    "(train_images, train_labels), (test_images, test_labels) = cifar10.load_data()\n",
    "\n",
    "train_images = train_images / 255.0\n",
    "test_images  = test_images / 255.0\n",
    "\n",
    "train_images = tf.reshape(train_images, (50000, 32, 32, 3))\n",
    "test_images  = tf.reshape(test_images, (10000, 32, 32, 3))\n",
    "\n",
    "print(train_images.shape)\n",
    "print(test_images.shape)"
   ]
  },
  {
   "cell_type": "code",
   "execution_count": null,
   "metadata": {},
   "outputs": [],
   "source": [
    "# model\n",
    "model = keras.models.Sequential()\n",
    "\n",
    "# input is with the shape of (32, 32, 3)\n",
    "model.add(tf.keras.Input(shape=(32, 32, 3)))\n",
    "\n",
    "# Convolve with 1 (7x7) kernel \n",
    "# Output: (26x26x1)\n",
    "model.add(keras.layers.Conv2D(1, (7, 7), activation='relu'))\n",
    "\n",
    "# Convolve with 2 (7x7) kernel \n",
    "# Output: (20x20x2)\n",
    "model.add(keras.layers.Conv2D(2, (7, 7), activation='relu'))\n",
    "\n",
    "# Convolve with 3 (7x7) kernel \n",
    "# Output: (14x14x3)\n",
    "model.add(keras.layers.Conv2D(3, (7, 7), activation='relu'))\n",
    "\n",
    "# Convolve with 4 (7x7) kernel \n",
    "# Output: (7x7x4)\n",
    "model.add(keras.layers.Conv2D(4, (7, 7), activation='relu'))\n",
    "\n",
    "model.summary()"
   ]
  },
  {
   "cell_type": "code",
   "execution_count": null,
   "metadata": {},
   "outputs": [],
   "source": []
  },
  {
   "cell_type": "code",
   "execution_count": null,
   "metadata": {},
   "outputs": [],
   "source": []
  },
  {
   "cell_type": "code",
   "execution_count": null,
   "metadata": {},
   "outputs": [],
   "source": [
    "# model\n",
    "model = keras.models.Sequential()\n",
    "\n",
    "# input is with the shape of (32, 32, 3)\n",
    "model.add(tf.keras.Input(shape=(32, 32, 3)))\n",
    "\n",
    "# Convolve with 1 (7x7) kernel \n",
    "# Output: (26x26x1)\n",
    "model.add(keras.layers.Conv2D(1, (7, 7), activation='relu'))\n",
    "\n",
    "# Convolve with 2 (7x7) kernel \n",
    "# Output: (20x20x2)\n",
    "model.add(keras.layers.Conv2D(2, (7, 7), activation='relu'))\n",
    "\n",
    "# Convolve with 3 (7x7) kernel \n",
    "# Output: (14x14x3)\n",
    "model.add(keras.layers.Conv2D(3, (7, 7), activation='relu'))\n",
    "\n",
    "# Convolve with 4 (7x7) kernel \n",
    "# Output: (7x7x4)\n",
    "model.add(keras.layers.Conv2D(4, (7, 7), activation='relu'))\n",
    "\n",
    "# flatten\n",
    "model.add(keras.layers.Flatten())\n",
    "model.add(keras.layers.Dense(10, activation='softmax'))\n",
    "\n",
    "model.summary()"
   ]
  },
  {
   "cell_type": "code",
   "execution_count": null,
   "metadata": {},
   "outputs": [],
   "source": [
    "model.compile(optimizer='adam',\n",
    "              loss=tf.keras.losses.SparseCategoricalCrossentropy(),\n",
    "              metrics=['accuracy'])\n",
    "model.fit(train_images, train_labels, epochs=10)\n",
    "\n",
    "test_loss, test_acc = model.evaluate(test_images,  test_labels, verbose=2)\n",
    "print('\\nTest accuracy:', test_acc)"
   ]
  },
  {
   "cell_type": "code",
   "execution_count": null,
   "metadata": {},
   "outputs": [],
   "source": []
  },
  {
   "cell_type": "code",
   "execution_count": null,
   "metadata": {},
   "outputs": [],
   "source": []
  },
  {
   "cell_type": "markdown",
   "metadata": {},
   "source": [
    "## Typical numbers of filters"
   ]
  },
  {
   "cell_type": "code",
   "execution_count": null,
   "metadata": {},
   "outputs": [],
   "source": [
    "import tensorflow as tf\n",
    "from tensorflow import keras\n",
    "\n",
    "\n",
    "cifar10 = keras.datasets.cifar10\n",
    "(train_images, train_labels), (test_images, test_labels) = cifar10.load_data()\n",
    "\n",
    "train_images = train_images / 255.0\n",
    "test_images  = test_images / 255.0\n",
    "\n",
    "train_images = tf.reshape(train_images, (50000, 32, 32, 3))\n",
    "test_images  = tf.reshape(test_images, (10000, 32, 32, 3))\n",
    "\n",
    "print(train_images.shape)\n",
    "print(test_images.shape)\n",
    "\n",
    "\n",
    "# model\n",
    "model = keras.models.Sequential()\n",
    "\n",
    "# input is with the shape of (32, 32, 3)\n",
    "model.add(tf.keras.Input(shape=(32, 32, 3)))\n",
    "\n",
    "# Convolve with 1 (7x7) kernel \n",
    "# Output: (26x26x1)\n",
    "model.add(keras.layers.Conv2D(32, (7, 7), activation='relu'))\n",
    "\n",
    "# Convolve with 2 (7x7) kernel \n",
    "# Output: (20x20x2)\n",
    "model.add(keras.layers.Conv2D(64, (7, 7), activation='relu'))\n",
    "\n",
    "# Convolve with 3 (7x7) kernel \n",
    "# Output: (14x14x3)\n",
    "model.add(keras.layers.Conv2D(128, (7, 7), activation='relu'))\n",
    "\n",
    "# Convolve with 4 (7x7) kernel \n",
    "# Output: (7x7x4)\n",
    "model.add(keras.layers.Conv2D(256, (7, 7), activation='relu'))\n",
    "\n",
    "# flatten\n",
    "model.add(keras.layers.Flatten())\n",
    "model.add(keras.layers.Dense(128, activation='softmax'))\n",
    "model.add(keras.layers.Dense(10, activation='softmax'))\n",
    "\n",
    "model.summary()\n",
    "\n",
    "model.compile(optimizer='adam',\n",
    "              loss=tf.keras.losses.SparseCategoricalCrossentropy(),\n",
    "              metrics=['accuracy'])\n",
    "model.fit(train_images, train_labels, epochs=2)\n",
    "\n",
    "test_loss, test_acc = model.evaluate(test_images,  test_labels, verbose=2)\n",
    "print('\\nTest accuracy:', test_acc)"
   ]
  },
  {
   "cell_type": "code",
   "execution_count": null,
   "metadata": {},
   "outputs": [],
   "source": []
  },
  {
   "cell_type": "code",
   "execution_count": null,
   "metadata": {},
   "outputs": [],
   "source": []
  }
 ],
 "metadata": {
  "kernelspec": {
   "display_name": "Python 3",
   "language": "python",
   "name": "python3"
  },
  "language_info": {
   "codemirror_mode": {
    "name": "ipython",
    "version": 3
   },
   "file_extension": ".py",
   "mimetype": "text/x-python",
   "name": "python",
   "nbconvert_exporter": "python",
   "pygments_lexer": "ipython3",
   "version": "3.7.3"
  }
 },
 "nbformat": 4,
 "nbformat_minor": 2
}
