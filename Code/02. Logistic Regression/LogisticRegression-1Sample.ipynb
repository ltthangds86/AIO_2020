{
 "cells": [
  {
   "cell_type": "code",
   "execution_count": 1,
   "metadata": {},
   "outputs": [],
   "source": [
    "import numpy as np\n",
    "import matplotlib.pyplot as plt\n",
    "\n",
    "iris = np.genfromtxt('iris_Petal_Logistic.csv', dtype=None, delimiter=',', skip_header=1) \n",
    "X = iris[:, :2]\n",
    "y = iris[:, 2]\n",
    "\n",
    "plt.figure(figsize=(10, 6))\n",
    "plt.scatter(X[y == 0][:, 0], X[y == 0][:, 1], color='b', label='0')\n",
    "plt.scatter(X[y == 1][:, 0], X[y == 1][:, 1], color='r', label='1')\n",
    "plt.legend()\n",
    "\n",
    "intercept = np.ones((X.shape[0], 1))\n",
    "X_b = np.concatenate((intercept, X), axis=1)\n",
    "data_size = X.shape[0]"
   ]
  },
  {
   "cell_type": "code",
   "execution_count": 2,
   "metadata": {},
   "outputs": [],
   "source": [
    "def sigmoid_function(z):\n",
    "    return 1 / (1 + np.exp(-z))\n",
    "\n",
    "def loss_function(h, y):\n",
    "    return (-y * np.log(h) - (1 - y) * np.log(1 - h)).mean()\n",
    "\n",
    "def predict(X, theta):    \n",
    "    h = sigmoid_function(np.dot(X, theta))\n",
    "    return h\n",
    "\n",
    "lr = 0.01\n",
    "num_iter = 100\n",
    "\n",
    "theta = np.array([0.1, 0.5, -0.1])\n",
    "\n",
    "losses = []\n",
    "accs   = []\n",
    "\n",
    "for epoch in range(num_iter):\n",
    "    for i in range(data_size):\n",
    "        xi = X_b[i:i+1]\n",
    "        yi = y[i:i+1]\n",
    "    \n",
    "        z = np.dot(xi, theta)\n",
    "        y_hat = sigmoid_function(z)\n",
    "\n",
    "        loss = loss_function(y_hat, yi)\n",
    "\n",
    "        # compute mean of gradient\n",
    "        gradient = np.dot(xi.T, (y_hat - yi)) / yi.size\n",
    "\n",
    "        theta -= lr*gradient\n",
    "\n",
    "        if(i % 1 == 0):\n",
    "            # loss\n",
    "            losses.append(loss)\n",
    "\n",
    "            # accuracy\n",
    "            preds = predict(xi, theta).round()\n",
    "            acc = (preds == yi).mean()\n",
    "            accs.append(acc)"
   ]
  },
  {
   "cell_type": "code",
   "execution_count": 3,
   "metadata": {},
   "outputs": [
    {
     "data": {
      "image/png": "[encoded data removed]",
      "text/plain": [
       "<Figure size 432x288 with 1 Axes>"
      ]
     },
     "metadata": {
      "needs_background": "light"
     },
     "output_type": "display_data"
    }
   ],
   "source": [
    "import matplotlib.pyplot as plt\n",
    "\n",
    "plt.plot(losses)\n",
    "plt.show()"
   ]
  },
  {
   "cell_type": "code",
   "execution_count": 4,
   "metadata": {},
   "outputs": [
    {
     "data": {
      "image/png": "[encoded data removed]",
      "text/plain": [
       "<Figure size 432x288 with 1 Axes>"
      ]
     },
     "metadata": {
      "needs_background": "light"
     },
     "output_type": "display_data"
    }
   ],
   "source": [
    "import matplotlib.pyplot as plt\n",
    "\n",
    "plt.plot(accs)\n",
    "plt.show()"
   ]
  },
  {
   "cell_type": "code",
   "execution_count": null,
   "metadata": {},
   "outputs": [],
   "source": []
  }
 ],
 "metadata": {
  "kernelspec": {
   "display_name": "Python 3",
   "language": "python",
   "name": "python3"
  },
  "language_info": {
   "codemirror_mode": {
    "name": "ipython",
    "version": 3
   },
   "file_extension": ".py",
   "mimetype": "text/x-python",
   "name": "python",
   "nbconvert_exporter": "python",
   "pygments_lexer": "ipython3",
   "version": "3.7.3"
  }
 },
 "nbformat": 4,
 "nbformat_minor": 2
}
