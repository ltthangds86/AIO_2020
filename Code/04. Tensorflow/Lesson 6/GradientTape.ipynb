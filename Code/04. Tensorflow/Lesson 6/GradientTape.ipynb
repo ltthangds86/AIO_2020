{
 "cells": [
  {
   "attachments": {
    "Picture1.png": {
     "image/png": "[encoded data removed]"
    }
   },
   "cell_type": "markdown",
   "metadata": {},
   "source": [
    "![Picture1.png](attachment:Picture1.png)"
   ]
  },
  {
   "cell_type": "code",
   "execution_count": null,
   "metadata": {},
   "outputs": [],
   "source": [
    "import tensorflow as tf\n",
    "\n",
    "w = tf.Variable([-0.34])\n",
    "b = tf.Variable([0.04])\n",
    "\n",
    "x = [6.7, 4.6, 3.5, 5.5]\n",
    "x = tf.convert_to_tensor(x)\n",
    "\n",
    "print('b: \\n', b.numpy())\n",
    "print('w: \\n', w.numpy())\n",
    "print('x: \\n', x.numpy())\n",
    "\n",
    "with tf.GradientTape(persistent=True) as tape:\n",
    "    y = tf.math.multiply(x, w) + b\n",
    "    print('y: \\n', y.numpy())\n",
    "    \n",
    "    loss = tf.reduce_mean(y**2)\n",
    "    print('loss: \\n', loss.numpy())"
   ]
  },
  {
   "cell_type": "code",
   "execution_count": null,
   "metadata": {},
   "outputs": [],
   "source": []
  },
  {
   "cell_type": "code",
   "execution_count": null,
   "metadata": {},
   "outputs": [],
   "source": []
  },
  {
   "cell_type": "code",
   "execution_count": null,
   "metadata": {},
   "outputs": [],
   "source": [
    "import tensorflow as tf\n",
    "\n",
    "w = tf.Variable(tf.random.normal((4,)))\n",
    "b = tf.Variable(tf.zeros(4, dtype=tf.float32))\n",
    "\n",
    "x = [6.7, 4.6, 3.5, 5.5]\n",
    "x = tf.convert_to_tensor(x)\n",
    "\n",
    "print('b: \\n', b.numpy())\n",
    "print('w: \\n', w.numpy())\n",
    "print('x: \\n', x.numpy())\n",
    "\n",
    "with tf.GradientTape(persistent=True) as tape:\n",
    "    y = tf.math.multiply(x, w) + b\n",
    "    print('y: \\n', y.numpy())\n",
    "    \n",
    "    loss = tf.reduce_mean(y**2)\n",
    "    print('loss: \\n', loss.numpy())"
   ]
  },
  {
   "cell_type": "code",
   "execution_count": null,
   "metadata": {},
   "outputs": [],
   "source": []
  },
  {
   "cell_type": "code",
   "execution_count": null,
   "metadata": {},
   "outputs": [],
   "source": []
  },
  {
   "cell_type": "code",
   "execution_count": null,
   "metadata": {},
   "outputs": [],
   "source": [
    "import tensorflow as tf\n",
    "\n",
    "theta = tf.Variable([[0.04], [-0.34]])\n",
    "\n",
    "x = [[1, 6.7],\n",
    "     [1, 4.6],\n",
    "     [1, 3.5],\n",
    "     [1, 5.5]];\n",
    "x = tf.convert_to_tensor(x)\n",
    "\n",
    "print('theta: \\n', theta.numpy())\n",
    "print('x: \\n', x.numpy())\n",
    "\n",
    "with tf.GradientTape(persistent=True) as tape:\n",
    "    y = x@theta\n",
    "    print('y: \\n', y.numpy())\n",
    "    \n",
    "    loss = tf.reduce_mean(y**2)\n",
    "    print('loss: \\n', loss.numpy())"
   ]
  },
  {
   "cell_type": "code",
   "execution_count": null,
   "metadata": {},
   "outputs": [],
   "source": []
  },
  {
   "cell_type": "code",
   "execution_count": null,
   "metadata": {},
   "outputs": [],
   "source": []
  },
  {
   "cell_type": "code",
   "execution_count": null,
   "metadata": {},
   "outputs": [],
   "source": [
    "import tensorflow as tf\n",
    "\n",
    "theta = tf.Variable(tf.random.normal((2,1)))\n",
    "\n",
    "x = [[1, 6.7],\n",
    "     [1, 4.6],\n",
    "     [1, 3.5],\n",
    "     [1, 5.5]];\n",
    "x = tf.convert_to_tensor(x)\n",
    "\n",
    "print('theta: \\n', theta.numpy())\n",
    "print('x: \\n', x.numpy())\n",
    "\n",
    "with tf.GradientTape(persistent=True) as tape:\n",
    "    y = x@theta\n",
    "    print('y: \\n', y.numpy())\n",
    "    \n",
    "    loss = tf.reduce_mean(y**2)\n",
    "    print('loss: \\n', loss.numpy())"
   ]
  },
  {
   "cell_type": "code",
   "execution_count": null,
   "metadata": {},
   "outputs": [],
   "source": []
  },
  {
   "cell_type": "code",
   "execution_count": null,
   "metadata": {},
   "outputs": [],
   "source": []
  },
  {
   "cell_type": "code",
   "execution_count": null,
   "metadata": {},
   "outputs": [],
   "source": [
    "import tensorflow as tf\n",
    "\n",
    "theta = tf.Variable([[0.04], [-0.34]])\n",
    "\n",
    "x = [[1, 6.7]];\n",
    "x = tf.convert_to_tensor(x)\n",
    "\n",
    "y = [9.1];\n",
    "\n",
    "print('theta: \\n', theta.numpy())\n",
    "print('x: \\n', x.numpy())\n",
    "\n",
    "with tf.GradientTape(persistent=True) as tape:\n",
    "    y_hat = x@theta\n",
    "    print('y: \\n', y_hat.numpy())\n",
    "    \n",
    "    loss = tf.reduce_mean((y_hat-y)**2)\n",
    "    print('loss: \\n', loss.numpy())\n",
    "    \n",
    "    dtheta = tape.gradient(loss, theta)\n",
    "    print(dtheta)"
   ]
  },
  {
   "cell_type": "code",
   "execution_count": null,
   "metadata": {},
   "outputs": [],
   "source": []
  },
  {
   "cell_type": "code",
   "execution_count": null,
   "metadata": {},
   "outputs": [],
   "source": []
  }
 ],
 "metadata": {
  "kernelspec": {
   "display_name": "Python 3",
   "language": "python",
   "name": "python3"
  },
  "language_info": {
   "codemirror_mode": {
    "name": "ipython",
    "version": 3
   },
   "file_extension": ".py",
   "mimetype": "text/x-python",
   "name": "python",
   "nbconvert_exporter": "python",
   "pygments_lexer": "ipython3",
   "version": "3.7.3"
  }
 },
 "nbformat": 4,
 "nbformat_minor": 2
}
