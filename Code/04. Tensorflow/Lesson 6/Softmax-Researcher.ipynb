{
 "cells": [
  {
   "cell_type": "code",
   "execution_count": 11,
   "metadata": {},
   "outputs": [],
   "source": [
    "import numpy as np\n",
    "import tensorflow as tf\n",
    "from sklearn import preprocessing\n",
    "\n",
    "tf.keras.backend.set_floatx('float64')\n",
    "\n",
    "### Data preparation\n",
    "data = np.genfromtxt('iris_full.csv', delimiter=',', skip_header=1)\n",
    "X = data[:,0:4]\n",
    "y = data[:,4:]\n",
    "X = preprocessing.scale(X)\n",
    "\n",
    "\n",
    "# predict    \n",
    "def predict(x, W, b):\n",
    "    return tf.math.softmax(tf.matmul(x, W) + b)\n",
    "\n",
    "    \n",
    "### weights\n",
    "W = tf.Variable(tf.random.normal((4, 3), dtype=tf.float64))\n",
    "b = tf.Variable([0.01, 0.01, 0.01], dtype=tf.float64)\n",
    "\n",
    "### training\n",
    "learning_rate = 0.1\n",
    "num_epochs = 200\n",
    "\n",
    "### loss function\n",
    "loss = tf.keras.losses.SparseCategoricalCrossentropy()\n",
    "\n",
    "losses = [] # for debug\n",
    "for epoch in range(num_epochs):\n",
    "    with tf.GradientTape() as t:\n",
    "        # output\n",
    "        output = predict(X, W, b)\n",
    "        \n",
    "        # loss\n",
    "        loss_v = loss(y, output)\n",
    "        losses.append(loss_v.numpy())\n",
    "        \n",
    "        # gradient\n",
    "        dW, db = t.gradient(loss_v, [W, b])\n",
    "        \n",
    "        # update\n",
    "        W.assign_sub(learning_rate * dW) \n",
    "        b.assign_sub(learning_rate * db)"
   ]
  },
  {
   "cell_type": "code",
   "execution_count": 12,
   "metadata": {},
   "outputs": [
    {
     "data": {
      "image/png": "[encoded data removed]",
      "text/plain": [
       "<Figure size 432x288 with 1 Axes>"
      ]
     },
     "metadata": {
      "needs_background": "light"
     },
     "output_type": "display_data"
    }
   ],
   "source": [
    "import matplotlib.pyplot as plt\n",
    "\n",
    "plt.plot(losses)\n",
    "plt.xlabel('iteration')\n",
    "plt.ylabel('Loss')\n",
    "plt.show()"
   ]
  },
  {
   "cell_type": "code",
   "execution_count": 13,
   "metadata": {},
   "outputs": [
    {
     "name": "stdout",
     "output_type": "stream",
     "text": [
      "(150,)\n",
      "(150, 1)\n",
      "0.9\n"
     ]
    }
   ],
   "source": [
    "preds = predict(X, W, b)\n",
    "\n",
    "preds = preds.numpy()\n",
    "predicted_class = np.argmax(preds, axis=1)\n",
    "\n",
    "print(predicted_class.shape)\n",
    "print(y.shape)\n",
    "\n",
    "acc = np.mean(predicted_class == y[:,0])\n",
    "print(acc.mean())"
   ]
  },
  {
   "cell_type": "code",
   "execution_count": null,
   "metadata": {},
   "outputs": [],
   "source": []
  }
 ],
 "metadata": {
  "kernelspec": {
   "display_name": "Python 3",
   "language": "python",
   "name": "python3"
  },
  "language_info": {
   "codemirror_mode": {
    "name": "ipython",
    "version": 3
   },
   "file_extension": ".py",
   "mimetype": "text/x-python",
   "name": "python",
   "nbconvert_exporter": "python",
   "pygments_lexer": "ipython3",
   "version": "3.7.3"
  }
 },
 "nbformat": 4,
 "nbformat_minor": 2
}
