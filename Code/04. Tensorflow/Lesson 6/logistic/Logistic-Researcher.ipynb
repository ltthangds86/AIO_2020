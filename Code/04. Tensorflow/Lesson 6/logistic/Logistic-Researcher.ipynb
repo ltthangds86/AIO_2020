{
 "cells": [
  {
   "cell_type": "code",
   "execution_count": 4,
   "metadata": {},
   "outputs": [
    {
     "name": "stdout",
     "output_type": "stream",
     "text": [
      "[[5.1 3.5 1.4 0.2]\n",
      " [4.9 3.  1.4 0.2]\n",
      " [4.7 3.2 1.3 0.2]\n",
      " [4.6 3.1 1.5 0.2]\n",
      " [5.  3.6 1.4 0.2]]\n",
      "[[0.]\n",
      " [0.]\n",
      " [0.]\n",
      " [0.]\n",
      " [0.]]\n"
     ]
    }
   ],
   "source": [
    "import numpy as np\n",
    "import tensorflow as tf\n",
    "tf.keras.backend.set_floatx('float64')\n",
    "\n",
    "\n",
    "### Data preparation\n",
    "data = np.genfromtxt('iris_full.csv', delimiter=',', skip_header=1)\n",
    "X = data[:,0:4]\n",
    "y = data[:,4:]\n",
    "\n",
    "print(X[:5])\n",
    "print(y[:5])"
   ]
  },
  {
   "cell_type": "code",
   "execution_count": null,
   "metadata": {},
   "outputs": [],
   "source": []
  },
  {
   "cell_type": "code",
   "execution_count": null,
   "metadata": {},
   "outputs": [],
   "source": []
  },
  {
   "cell_type": "code",
   "execution_count": 6,
   "metadata": {},
   "outputs": [],
   "source": [
    "import numpy as np\n",
    "import tensorflow as tf\n",
    "tf.keras.backend.set_floatx('float64')\n",
    "\n",
    "\n",
    "### Data preparation\n",
    "data = np.genfromtxt('iris_full.csv', delimiter=',', skip_header=1)\n",
    "X = data[:,0:4]\n",
    "y = data[:,4:]\n",
    "\n",
    "m = 20\n",
    "\n",
    "### Create model\n",
    "class Model(object):\n",
    "    def __init__(self):\n",
    "        self.W = tf.Variable([[-0.04], [0.02], [-0.03], [0.001]], dtype=tf.float64)\n",
    "        self.b = tf.Variable(0.01, dtype=tf.float64)\n",
    "    \n",
    "    def __call__(self, x):\n",
    "        return tf.math.sigmoid(tf.matmul(x, self.W) + self.b)\n",
    "    \n",
    "model = Model()\n",
    "\n",
    "\n",
    "### training\n",
    "learning_rate = 0.1\n",
    "num_epochs = 100\n",
    "loss = tf.keras.losses.BinaryCrossentropy()\n",
    "\n",
    "losses = []\n",
    "for epoch in range(num_epochs):\n",
    "    with tf.GradientTape() as t:\n",
    "        # output\n",
    "        output = model(X)\n",
    "        \n",
    "        # loss\n",
    "        loss_v = loss(y, output)\n",
    "        losses.append(loss_v.numpy())\n",
    "        \n",
    "        # gradient\n",
    "        dW, db = t.gradient(loss_v, [model.W, model.b])\n",
    "        \n",
    "        # update\n",
    "        model.W.assign_sub(learning_rate * dW)\n",
    "        model.b.assign_sub(learning_rate * db)\n",
    "        \n",
    "        # parameters after one epoch\n",
    "        #print('weight: \\n', model.W)\n",
    "        #print('bias: \\n', model.b)"
   ]
  },
  {
   "cell_type": "code",
   "execution_count": 8,
   "metadata": {},
   "outputs": [
    {
     "data": {
      "image/png": "[encoded data removed]",
      "text/plain": [
       "<Figure size 432x288 with 1 Axes>"
      ]
     },
     "metadata": {
      "needs_background": "light"
     },
     "output_type": "display_data"
    }
   ],
   "source": [
    "import matplotlib.pyplot as plt\n",
    "\n",
    "plt.plot(losses)\n",
    "plt.xlabel('iteration')\n",
    "plt.ylabel('Loss')\n",
    "plt.show()"
   ]
  },
  {
   "cell_type": "code",
   "execution_count": 9,
   "metadata": {},
   "outputs": [
    {
     "name": "stdout",
     "output_type": "stream",
     "text": [
      "weight: \n",
      " <tf.Variable 'Variable:0' shape=(4, 1) dtype=float64, numpy=\n",
      "array([[-0.30106036],\n",
      "       [-1.02650883],\n",
      "       [ 1.60738949],\n",
      "       [ 0.70280659]])>\n",
      "bias: \n",
      " <tf.Variable 'Variable:0' shape=() dtype=float64, numpy=-0.1707466914158623>\n"
     ]
    }
   ],
   "source": [
    "print('weight: \\n', model.W)\n",
    "print('bias: \\n', model.b)"
   ]
  },
  {
   "cell_type": "code",
   "execution_count": 15,
   "metadata": {},
   "outputs": [
    {
     "name": "stdout",
     "output_type": "stream",
     "text": [
      "[0. 0. 0. 0. 0. 0. 0. 0. 0. 0. 0. 0. 0. 0. 0. 0. 0. 0. 0. 0. 0. 0. 0. 0.\n",
      " 0. 0. 0. 0. 0. 0. 0. 0. 0. 0. 0. 0. 0. 0. 0. 0. 0. 0. 0. 0. 0. 0. 0. 0.\n",
      " 0. 0. 1. 1. 1. 1. 1. 1. 1. 1. 1. 1. 1. 1. 1. 1. 1. 1. 1. 1. 1. 1. 1. 1.\n",
      " 1. 1. 1. 1. 1. 1. 1. 1. 1. 1. 1. 1. 1. 1. 1. 1. 1. 1. 1. 1. 1. 1. 1. 1.\n",
      " 1. 1. 1. 1.]\n",
      "1.0\n"
     ]
    }
   ],
   "source": [
    "preds = model(X)\n",
    "\n",
    "preds = preds.numpy()\n",
    "preds = preds.round()\n",
    "print(preds[:, 0])\n",
    "\n",
    "acc = (preds == y)\n",
    "print(acc.mean())"
   ]
  },
  {
   "cell_type": "code",
   "execution_count": null,
   "metadata": {},
   "outputs": [],
   "source": []
  },
  {
   "cell_type": "code",
   "execution_count": null,
   "metadata": {},
   "outputs": [],
   "source": [
    "preds = model(X)\n",
    "\n",
    "preds = preds.numpy()\n",
    "preds = preds.round()\n",
    "\n",
    "print(preds.shape)\n",
    "print(y.shape)\n",
    "\n",
    "acc = (preds == y)\n",
    "print(acc.mean())"
   ]
  },
  {
   "cell_type": "code",
   "execution_count": null,
   "metadata": {},
   "outputs": [],
   "source": []
  }
 ],
 "metadata": {
  "kernelspec": {
   "display_name": "Python 3",
   "language": "python",
   "name": "python3"
  },
  "language_info": {
   "codemirror_mode": {
    "name": "ipython",
    "version": 3
   },
   "file_extension": ".py",
   "mimetype": "text/x-python",
   "name": "python",
   "nbconvert_exporter": "python",
   "pygments_lexer": "ipython3",
   "version": "3.7.3"
  }
 },
 "nbformat": 4,
 "nbformat_minor": 2
}
