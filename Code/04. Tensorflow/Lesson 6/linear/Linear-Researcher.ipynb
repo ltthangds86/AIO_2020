{
 "cells": [
  {
   "cell_type": "code",
   "execution_count": 2,
   "metadata": {},
   "outputs": [
    {
     "name": "stdout",
     "output_type": "stream",
     "text": [
      "[[6.7]\n",
      " [4.6]\n",
      " [3.5]\n",
      " [5.5]]\n",
      "[[9.1]\n",
      " [5.9]\n",
      " [4.6]\n",
      " [6.7]]\n"
     ]
    }
   ],
   "source": [
    "import numpy as np\n",
    "import tensorflow as tf\n",
    "\n",
    "### Data preparation\n",
    "data = np.genfromtxt('data.csv', delimiter=',')\n",
    "X = data[:,0:1]\n",
    "y = data[:,1:]\n",
    "\n",
    "print(X)\n",
    "print(y)"
   ]
  },
  {
   "cell_type": "code",
   "execution_count": null,
   "metadata": {},
   "outputs": [],
   "source": [
    "### Create model\n",
    "class Model(object):\n",
    "    def __init__(self):\n",
    "        self.W = tf.Variable(-0.34)\n",
    "        self.b = tf.Variable(0.04)\n",
    "    \n",
    "    def __call__(self, x):\n",
    "        return self.W*x + self.b"
   ]
  },
  {
   "cell_type": "code",
   "execution_count": null,
   "metadata": {},
   "outputs": [],
   "source": []
  },
  {
   "cell_type": "code",
   "execution_count": null,
   "metadata": {},
   "outputs": [],
   "source": []
  },
  {
   "cell_type": "code",
   "execution_count": 5,
   "metadata": {},
   "outputs": [],
   "source": [
    "import numpy as np\n",
    "import tensorflow as tf\n",
    "\n",
    "### Data preparation\n",
    "data = np.genfromtxt('data.csv', delimiter=',')\n",
    "m = 4\n",
    "X = data[:,0:1]\n",
    "y = data[:,1:]\n",
    "\n",
    "### Create model\n",
    "class Model(object):\n",
    "    def __init__(self):\n",
    "        self.W = tf.Variable(-0.34)\n",
    "        self.b = tf.Variable(0.04)\n",
    "    \n",
    "    def __call__(self, x):\n",
    "        return self.W*x + self.b\n",
    "    \n",
    "model = Model()\n",
    "\n",
    "### training\n",
    "learning_rate = 0.01\n",
    "epochs = 100\n",
    "\n",
    "losses = []\n",
    "for epoch in range(epochs):\n",
    "    with tf.GradientTape() as t:\n",
    "        # output\n",
    "        output = model(X)\n",
    "        \n",
    "        # loss\n",
    "        loss_v = tf.reduce_mean(tf.square(output - y))\n",
    "                \n",
    "        # debug\n",
    "        losses.append(loss_v.numpy())\n",
    "        \n",
    "        # gradient\n",
    "        dW, db = t.gradient(loss_v, [model.W, model.b])\n",
    "        \n",
    "        # update\n",
    "        model.W.assign_sub(learning_rate * dW)\n",
    "        model.b.assign_sub(learning_rate * db)\n",
    "        \n",
    "        # parameters after one epoch\n",
    "        #print('weight: \\n', model.W)\n",
    "        #print('bias: \\n', model.b)"
   ]
  },
  {
   "cell_type": "code",
   "execution_count": 7,
   "metadata": {},
   "outputs": [
    {
     "data": {
      "image/png": "[encoded data removed]",
      "text/plain": [
       "<Figure size 432x288 with 1 Axes>"
      ]
     },
     "metadata": {
      "needs_background": "light"
     },
     "output_type": "display_data"
    }
   ],
   "source": [
    "import matplotlib.pyplot as plt\n",
    "\n",
    "# plot losses\n",
    "plt.plot(losses)\n",
    "plt.xlabel('iteration')\n",
    "plt.ylabel('Loss')\n",
    "plt.show()"
   ]
  },
  {
   "cell_type": "code",
   "execution_count": null,
   "metadata": {},
   "outputs": [],
   "source": []
  },
  {
   "cell_type": "code",
   "execution_count": null,
   "metadata": {},
   "outputs": [],
   "source": []
  }
 ],
 "metadata": {
  "kernelspec": {
   "display_name": "Python 3",
   "language": "python",
   "name": "python3"
  },
  "language_info": {
   "codemirror_mode": {
    "name": "ipython",
    "version": 3
   },
   "file_extension": ".py",
   "mimetype": "text/x-python",
   "name": "python",
   "nbconvert_exporter": "python",
   "pygments_lexer": "ipython3",
   "version": "3.7.3"
  }
 },
 "nbformat": 4,
 "nbformat_minor": 2
}
