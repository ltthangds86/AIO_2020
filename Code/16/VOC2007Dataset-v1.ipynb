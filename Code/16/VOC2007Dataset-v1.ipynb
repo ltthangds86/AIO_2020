{
 "cells": [
  {
   "cell_type": "code",
   "execution_count": 1,
   "metadata": {},
   "outputs": [],
   "source": [
    "import tensorflow as tf\n",
    "import matplotlib.pyplot as plt    # for plotting the images\n",
    "%matplotlib inline"
   ]
  },
  {
   "cell_type": "code",
   "execution_count": 1,
   "metadata": {},
   "outputs": [],
   "source": [
    "import argparse\n",
    "import xml.etree.ElementTree as ET\n",
    "import os\n",
    "\n",
    "\n",
    "classes_num = {'aeroplane': 0, 'bicycle': 1, 'bird': 2, 'boat': 3, 'bottle': 4, 'bus': 5,\n",
    "               'car': 6, 'cat': 7, 'chair': 8, 'cow': 9, 'diningtable': 10, 'dog': 11,\n",
    "               'horse': 12, 'motorbike': 13, 'person': 14, 'pottedplant': 15, 'sheep': 16,\n",
    "               'sofa': 17, 'train': 18, 'tvmonitor': 19}\n",
    "\n",
    "\n",
    "def convert_annotation(image_id, f):\n",
    "    in_file = os.path.join('data_samples/Annotations/%s.xml' % (image_id))\n",
    "    tree = ET.parse(in_file)\n",
    "    root = tree.getroot()\n",
    "\n",
    "    for obj in root.iter('object'):\n",
    "        difficult = obj.find('difficult').text\n",
    "        cls = obj.find('name').text\n",
    "        classes = list(classes_num.keys())\n",
    "        if cls not in classes or int(difficult) == 1:\n",
    "            continue\n",
    "        cls_id = classes.index(cls)\n",
    "        xmlbox = obj.find('bndbox')\n",
    "        b = (int(xmlbox.find('xmin').text), int(xmlbox.find('ymin').text),\n",
    "             int(xmlbox.find('xmax').text), int(xmlbox.find('ymax').text))\n",
    "        f.write(' ' + ','.join([str(a) for a in b]) + ',' + str(cls_id))"
   ]
  },
  {
   "cell_type": "code",
   "execution_count": 5,
   "metadata": {},
   "outputs": [
    {
     "name": "stdout",
     "output_type": "stream",
     "text": [
      "['000001.jpg', '000002.jpg', '000003.jpg', '000004.jpg', '000005.jpg', '000006.jpg', '000007.jpg', '000008.jpg', '000009.jpg', '000010.jpg', '000011.jpg', '000012.jpg', '000013.jpg', '000014.jpg', '000015.jpg', '000016.jpg', '000017.jpg', '000018.jpg', '000019.jpg', '000020.jpg']\n"
     ]
    }
   ],
   "source": [
    "from os import listdir\n",
    "from os.path import isfile, join\n",
    "\n",
    "mypath = 'data_samples/Images/'\n",
    "onlyfiles = [f for f in listdir(mypath) if isfile(join(mypath, f))]\n",
    "print(onlyfiles)"
   ]
  },
  {
   "cell_type": "code",
   "execution_count": 10,
   "metadata": {},
   "outputs": [
    {
     "name": "stdout",
     "output_type": "stream",
     "text": [
      "data_samples/Images/000001.jpg\n",
      "data_samples/Images/000002.jpg\n",
      "data_samples/Images/000003.jpg\n",
      "data_samples/Images/000004.jpg\n",
      "data_samples/Images/000005.jpg\n",
      "data_samples/Images/000006.jpg\n",
      "data_samples/Images/000007.jpg\n",
      "data_samples/Images/000008.jpg\n",
      "data_samples/Images/000009.jpg\n",
      "data_samples/Images/000010.jpg\n",
      "data_samples/Images/000011.jpg\n",
      "data_samples/Images/000012.jpg\n",
      "data_samples/Images/000013.jpg\n",
      "data_samples/Images/000014.jpg\n",
      "data_samples/Images/000015.jpg\n",
      "data_samples/Images/000016.jpg\n",
      "data_samples/Images/000017.jpg\n",
      "data_samples/Images/000018.jpg\n",
      "data_samples/Images/000019.jpg\n",
      "data_samples/Images/000020.jpg\n"
     ]
    }
   ],
   "source": [
    "for fname in onlyfiles:\n",
    "    fname = os.path.splitext(fname)[0]\n",
    "    path = os.path.join('data_samples/Images/%s.jpg' % fname)\n",
    "    print(path)"
   ]
  },
  {
   "cell_type": "code",
   "execution_count": 11,
   "metadata": {},
   "outputs": [],
   "source": [
    "for fname in onlyfiles:\n",
    "    fname = os.path.splitext(fname)[0]\n",
    "    \n",
    "    with open(os.path.join('data_samples/Images/%s.txt' % fname), 'w') as f:\n",
    "        path = os.path.join('data_samples/Images/%s.jpg' % fname)        \n",
    "        f.write(path)\n",
    "        \n",
    "        convert_annotation(fname, f)\n",
    "        f.write('\\n')"
   ]
  },
  {
   "cell_type": "code",
   "execution_count": 13,
   "metadata": {},
   "outputs": [],
   "source": [
    "with open(os.path.join('data_samples/train.txt'), 'w') as f:\n",
    "    for fname in onlyfiles:\n",
    "        fname = os.path.splitext(fname)[0]    \n",
    "        path = os.path.join('data_samples/Images/%s.jpg' % fname)        \n",
    "        f.write(path)\n",
    "\n",
    "        convert_annotation(fname, f)\n",
    "        f.write('\\n')"
   ]
  },
  {
   "cell_type": "code",
   "execution_count": null,
   "metadata": {},
   "outputs": [],
   "source": []
  }
 ],
 "metadata": {
  "kernelspec": {
   "display_name": "Python 3",
   "language": "python",
   "name": "python3"
  },
  "language_info": {
   "codemirror_mode": {
    "name": "ipython",
    "version": 3
   },
   "file_extension": ".py",
   "mimetype": "text/x-python",
   "name": "python",
   "nbconvert_exporter": "python",
   "pygments_lexer": "ipython3",
   "version": "3.7.3"
  }
 },
 "nbformat": 4,
 "nbformat_minor": 2
}
