{
 "cells": [
  {
   "cell_type": "code",
   "execution_count": null,
   "metadata": {},
   "outputs": [],
   "source": []
  },
  {
   "cell_type": "code",
   "execution_count": 9,
   "metadata": {},
   "outputs": [],
   "source": [
    "# aivietnam.ai\n",
    "# simple stereo matching using pixel-wise matching\n",
    "\n",
    "import numpy as np\n",
    "from PIL import Image\n",
    "\n",
    "def stereo_matching(left_img, right_img, disparity_range):\n",
    "   \n",
    "    # đọc ảnh trái và ảnh phải, rồi chuyển sang ảnh grayscale\n",
    "    left_img  = Image.open(left_img).convert('L')\n",
    "    left      = np.asarray(left_img)\n",
    "    \n",
    "    right_img = Image.open(right_img).convert('L')\n",
    "    right     = np.asarray(right_img) \n",
    "    \n",
    "    # cho trước chiều rộng và chiều cao của ảnh\n",
    "    height = 288\n",
    "    width  = 384\n",
    "    \n",
    "    # tạo disparity map\n",
    "    depth = np.zeros((height, width), np.uint8)               \n",
    "    scale = 255 / disparity_range\n",
    "      \n",
    "    for y in range(height):        \n",
    "        for x in range(width):\n",
    "            \n",
    "            # tìm j tại đó cost có giá trị min\n",
    "            disparity = 0\n",
    "            cost_min  = (int(left[y, x]) - int(right[y, x]))**2\n",
    "            \n",
    "            for j in range(1, disparity_range):                \n",
    "                cost = 255**2 if (x - j) < 0 else (int(left[y, x]) - int(right[y, x - j]))**2\n",
    "                \n",
    "                if cost < cost_min:\n",
    "                    cost_min = cost\n",
    "                    disparity = j\n",
    "                            \n",
    "            # đã tìm được j (lưu ở biến disparity) để cost min\n",
    "            # gán j đó vào disaprity map\n",
    "            # nhân cho scale để nhìn thấy rõ ràng (không cần scale cũng được)\n",
    "            depth[y, x] = disparity * scale\n",
    "                                \n",
    "    # chuyển dữ liệu từ ndarray sang kiểu Image và lưu xuống file\n",
    "    Image.fromarray(depth).save('disparity_ad.png')\n",
    "    \n",
    "    # applyColorMap\n",
    "    #corr_map = cv2.applyColorMap(depth, cv2.COLORMAP_JET)\n",
    "    #Image.fromarray(corr_map).save('disparity_ad_color.png')\n",
    "     \n",
    "if __name__ == '__main__':\n",
    "    disparity_range = 16 # cho cặp ảnh Tsukuba\n",
    "    stereo_matching(\"images/left.png\", \"images/right.png\", disparity_range)"
   ]
  },
  {
   "cell_type": "code",
   "execution_count": null,
   "metadata": {},
   "outputs": [],
   "source": []
  }
 ],
 "metadata": {
  "kernelspec": {
   "display_name": "Python 3",
   "language": "python",
   "name": "python3"
  },
  "language_info": {
   "codemirror_mode": {
    "name": "ipython",
    "version": 3
   },
   "file_extension": ".py",
   "mimetype": "text/x-python",
   "name": "python",
   "nbconvert_exporter": "python",
   "pygments_lexer": "ipython3",
   "version": "3.7.3"
  }
 },
 "nbformat": 4,
 "nbformat_minor": 2
}
