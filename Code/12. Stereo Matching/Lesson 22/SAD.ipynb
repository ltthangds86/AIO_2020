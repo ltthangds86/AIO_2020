{
 "cells": [
  {
   "cell_type": "code",
   "execution_count": null,
   "metadata": {},
   "outputs": [],
   "source": []
  },
  {
   "cell_type": "code",
   "execution_count": 6,
   "metadata": {},
   "outputs": [
    {
     "name": "stdout",
     "output_type": "stream",
     "text": [
      ". . . . . . . . . . . . . . . . . . . . . . . . . . . . . . . . . . . . . . . . . . . . . . . . . . . . . . . . . . . . . . . . . . . . . . . . . . . . . . . . . . . . . . . . . . . . . . . . . . . . . . . . . . . . . . . . . . . . . . . . . . . . . . . . . . . . . . . . . . . . . . . . . . . . . . . . . . . . . . . . . . . . . . . . . . . . . . . . . . . . . . . . . . . . . . . . . . . . . . . . . . . . . . . . . . . . . . . . . . . . . . . . . . . . . . . . . . . . . . . . . . . . . . . . . . . . . . . . . . . . . . . . . . . . . . . . . . . . . . . . . . . . "
     ]
    }
   ],
   "source": [
    "# aivietnam.ai\n",
    "import numpy as np\n",
    "from PIL import Image\n",
    "import cv2\n",
    "\n",
    "def stereo_matching_ssd(left_img, right_img, kernel_size, disparity_range):\n",
    "   \n",
    "    # đọc ảnh trái và ảnh phải, rồi chuyển sang ảnh grayscale\n",
    "    left_img  = Image.open(left_img).convert('L')\n",
    "    left      = np.asarray(left_img)\n",
    "    \n",
    "    right_img = Image.open(right_img).convert('L')\n",
    "    right     = np.asarray(right_img) \n",
    "    \n",
    "    # cho trước chiều rộng và chiều cao của ảnh\n",
    "    height = 288\n",
    "    width  = 384\n",
    "    \n",
    "    # tạo disparity map\n",
    "    depth = np.zeros((height, width), np.uint8)   \n",
    "    \n",
    "    kernel_half = int( (kernel_size-1) / 2)\n",
    "    scale = 255 / disparity_range\n",
    "      \n",
    "    for y in range(kernel_half, height-kernel_half):  \n",
    "        print(\".\", end=\" \")\n",
    "        \n",
    "        for x in range(kernel_half, width-kernel_half):\n",
    "            \n",
    "            # tìm j tại đó cost có giá trị min\n",
    "            disparity = 0\n",
    "            cost_min  = 65534\n",
    "            \n",
    "            for j in range(disparity_range): \n",
    "                ssd = 0\n",
    "                ssd_temp = 0 \n",
    "                \n",
    "                for v in range(-kernel_half, kernel_half):\n",
    "                    for u in range(-kernel_half, kernel_half):\n",
    "                        ssd_temp = 255**2 \n",
    "                        if (x+u-j) >= 0:\n",
    "                            ssd_temp = (int(left[y+v, x+u]) - int(right[y+v, (x+u) - j]))**2 \n",
    "                        ssd += ssd_temp         \n",
    "                \n",
    "                if ssd < cost_min:\n",
    "                    cost_min = ssd\n",
    "                    disparity = j\n",
    "            \n",
    "            # gán j cho cost_min vào disaprity map\n",
    "            depth[y, x] = disparity * scale\n",
    "                                \n",
    "    # chuyển dữ liệu từ ndarray sang kiểu Image và lưu xuống file\n",
    "    Image.fromarray(depth).save('disparity_map_ssd.png')\n",
    "    \n",
    "    # applyColorMap\n",
    "    corr_map = cv2.applyColorMap(depth, cv2.COLORMAP_JET)\n",
    "    Image.fromarray(corr_map).save('disparity_map_ssd_color.png')\n",
    "    \n",
    "if __name__ == '__main__':\n",
    "    disparity_range = 16 # cho cặp ảnh Tsukuba\n",
    "    kernel_size = 5\n",
    "    stereo_matching_ssd(\"images/left.png\", \"images/right.png\", kernel_size, disparity_range)"
   ]
  },
  {
   "cell_type": "code",
   "execution_count": null,
   "metadata": {},
   "outputs": [],
   "source": []
  }
 ],
 "metadata": {
  "kernelspec": {
   "display_name": "Python 3",
   "language": "python",
   "name": "python3"
  },
  "language_info": {
   "codemirror_mode": {
    "name": "ipython",
    "version": 3
   },
   "file_extension": ".py",
   "mimetype": "text/x-python",
   "name": "python",
   "nbconvert_exporter": "python",
   "pygments_lexer": "ipython3",
   "version": "3.7.3"
  }
 },
 "nbformat": 4,
 "nbformat_minor": 2
}
