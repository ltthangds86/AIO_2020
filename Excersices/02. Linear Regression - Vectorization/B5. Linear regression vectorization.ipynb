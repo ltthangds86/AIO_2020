{
  "nbformat": 4,
  "nbformat_minor": 0,
  "metadata": {
    "kernelspec": {
      "display_name": "Python 3",
      "language": "python",
      "name": "python3"
    },
    "language_info": {
      "codemirror_mode": {
        "name": "ipython",
        "version": 3
      },
      "file_extension": ".py",
      "mimetype": "text/x-python",
      "name": "python",
      "nbconvert_exporter": "python",
      "pygments_lexer": "ipython3",
      "version": "3.9.0"
    },
    "colab": {
      "name": "Bai 5.ipynb",
      "provenance": []
    }
  },
  "cells": [
    {
      "cell_type": "code",
      "metadata": {
        "id": "PCIavsECyibc"
      },
      "source": [
        "import numpy as np\n",
        "import matplotlib.pyplot as plt\n",
        "from numpy import genfromtxt"
      ],
      "execution_count": null,
      "outputs": []
    },
    {
      "cell_type": "code",
      "metadata": {
        "id": "DhvsKBr0yibp"
      },
      "source": [
        "data = genfromtxt('advertising.csv', delimiter=',', skip_header=True)\n",
        "X = data[:, :3]\n",
        "y = data[:, 3:4]\n",
        "data_size = len(X)\n",
        "\n",
        "X_train = np.hstack((np.ones((data_size, 1)), X))"
      ],
      "execution_count": null,
      "outputs": []
    },
    {
      "cell_type": "code",
      "metadata": {
        "id": "33EYSQkOyibq"
      },
      "source": [
        "# forward\n",
        "def predict(X, theta):\n",
        "    pred = X.T @ theta\n",
        "    return pred\n",
        "\n",
        "# compute gradient\n",
        "def gradient(X, y, y_predict):\n",
        "    dtheta = X @ (y_predict - y)\n",
        "    return dtheta\n",
        "\n",
        "# update weights\n",
        "def update_weight(theta, dtheta, learing_rate):\n",
        "    theta_new = theta - learing_rate * dtheta\n",
        "    return theta_new\n",
        "\n",
        "# compute loss\n",
        "def compute_loss(y, y_predict):\n",
        "    loss = (y_predict - y) ** 2\n",
        "    return loss"
      ],
      "execution_count": null,
      "outputs": []
    },
    {
      "cell_type": "code",
      "metadata": {
        "id": "F7gfyIpTyibr"
      },
      "source": [
        "losses = []\n",
        "learning_rate = 1e-6\n",
        "num_of_epochs = 10\n",
        "batch_size = 8\n",
        "theta = np.random.random((X_train.shape[1], 1))\n",
        "\n",
        "for epoch in range(num_of_epochs): # Train n epochs\n",
        "    for i in range(0, data_size, batch_size): # Train with m sample\n",
        "        # get m sample\n",
        "        xm = X_train[i:i+batch_size].reshape(-1, batch_size)\n",
        "        ym = y[i:i+batch_size]\n",
        "        \n",
        "        # predict\n",
        "        ym_predict = predict(xm, theta)\n",
        "        \n",
        "        # compute loss\n",
        "        loss = compute_loss(ym, ym_predict)\n",
        "        losses.append(loss.mean())\n",
        "\n",
        "        # compute gradient\n",
        "        dtheta = gradient(xm, ym, ym_predict)\n",
        "\n",
        "        # update weights\n",
        "        theta = update_weight(theta, dtheta, learning_rate)"
      ],
      "execution_count": null,
      "outputs": []
    },
    {
      "cell_type": "code",
      "metadata": {
        "id": "ExSNZngKyibt",
        "outputId": "436810a9-02fd-4707-872f-ec7b71ddf61d"
      },
      "source": [
        "plt.plot(losses)\n",
        "plt.xlabel('iteration')\n",
        "plt.ylabel('losses')\n",
        "plt.show()"
      ],
      "execution_count": null,
      "outputs": [
        {
          "output_type": "display_data",
          "data": {
            "image/png": "[encoded data removed]",
            "text/plain": [
              "<Figure size 432x288 with 1 Axes>"
            ]
          },
          "metadata": {
            "tags": [],
            "needs_background": "light"
          }
        }
      ]
    },
    {
      "cell_type": "code",
      "metadata": {
        "id": "QMyCqIQayibv"
      },
      "source": [
        ""
      ],
      "execution_count": null,
      "outputs": []
    }
  ]
}