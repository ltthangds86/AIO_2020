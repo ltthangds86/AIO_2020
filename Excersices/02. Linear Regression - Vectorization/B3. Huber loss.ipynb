{
  "nbformat": 4,
  "nbformat_minor": 0,
  "metadata": {
    "kernelspec": {
      "display_name": "Python 3",
      "language": "python",
      "name": "python3"
    },
    "language_info": {
      "codemirror_mode": {
        "name": "ipython",
        "version": 3
      },
      "file_extension": ".py",
      "mimetype": "text/x-python",
      "name": "python",
      "nbconvert_exporter": "python",
      "pygments_lexer": "ipython3",
      "version": "3.9.0"
    },
    "colab": {
      "name": "Bài 3.ipynb",
      "provenance": []
    }
  },
  "cells": [
    {
      "cell_type": "markdown",
      "metadata": {
        "id": "kBzt43TlyiKB"
      },
      "source": [
        "## D5 - m sample"
      ]
    },
    {
      "cell_type": "code",
      "metadata": {
        "id": "BjHPRex7yiKV"
      },
      "source": [
        "import numpy as np\n",
        "from numpy import genfromtxt\n",
        "import matplotlib.pyplot as plt\n",
        "\n",
        "data = genfromtxt('data.csv', delimiter=',')\n",
        "areas  = data[:,0]\n",
        "prices = data[:,1]\n",
        "data_size = areas.size\n",
        "\n",
        "# vector [x, b]\n",
        "data = np.c_[areas, np.ones((data_size, 1))]\n",
        "\n",
        "# init weight\n",
        "eta = 0.01\n",
        "theta = np.array([-0.34, 0.04]) #[w, b]\n",
        "\n",
        "# how long\n",
        "epoch_max = 10\n",
        "\n",
        "# mini-batch size\n",
        "m = 2\n",
        "\n",
        "# delta for huber loss\n",
        "delta = 5\n",
        "\n",
        "losses = [] # for debug\n",
        "for epoch in range(epoch_max):    \n",
        "    for j in range(0, data_size, m):\n",
        "        \n",
        "        gradients = np.zeros((2,))\n",
        "        sum_of_losses = 0         \n",
        "        for index in range(j, j+m):\n",
        "            xi = data[index]\n",
        "            yi = prices[index]      \n",
        "\n",
        "            # predict z/o\n",
        "            oi = xi.dot(theta)\n",
        "\n",
        "            # huber loss\n",
        "            li = (oi - yi)**2 if abs(oi - yi) < delta else delta * abs(oi - yi) - 0.5 * delta**2\n",
        "\n",
        "            # compute gradient\n",
        "            g_li = 2*(oi - yi) if abs(oi - yi) < delta else delta * (oi - yi) / abs(oi - yi)\n",
        "            gradient_i = xi*g_li\n",
        "\n",
        "            gradients = gradients + gradient_i\n",
        "            sum_of_losses = sum_of_losses + li\n",
        "\n",
        "        sum_of_losses = sum_of_losses/2\n",
        "        losses.append(sum_of_losses)\n",
        "        \n",
        "        gradients     = gradients/2\n",
        "        theta = theta - eta*gradients"
      ],
      "execution_count": null,
      "outputs": []
    },
    {
      "cell_type": "code",
      "metadata": {
        "id": "2Uxyuj1syiKc",
        "outputId": "fd79ddeb-28b2-4aa7-81b3-3fa724b45cb9"
      },
      "source": [
        "import matplotlib.pyplot as plt\n",
        "\n",
        "plt.plot(losses)\n",
        "plt.xlabel('iteration')\n",
        "plt.ylabel('losses')\n",
        "plt.show()"
      ],
      "execution_count": null,
      "outputs": [
        {
          "output_type": "display_data",
          "data": {
            "image/png": "[encoded data removed]",
            "text/plain": [
              "<Figure size 432x288 with 1 Axes>"
            ]
          },
          "metadata": {
            "tags": [],
            "needs_background": "light"
          }
        }
      ]
    },
    {
      "cell_type": "markdown",
      "metadata": {
        "id": "-sz8Dxb6yiKg"
      },
      "source": [
        "## D6 - m Samples _ vectorization"
      ]
    },
    {
      "cell_type": "code",
      "metadata": {
        "id": "s-eCrzzeyiKh"
      },
      "source": [
        "import numpy as np\n",
        "from numpy import genfromtxt\n",
        "\n",
        "data = genfromtxt('data.csv', delimiter=',')\n",
        "areas  = data[:,0]\n",
        "prices = data[:,1:]\n",
        "data_size = areas.size\n",
        "\n",
        "# vector [x, b]\n",
        "data = np.c_[areas, np.ones((data_size, 1))]\n",
        "data = data.T\n",
        "\n",
        "# init weight\n",
        "eta = 0.01\n",
        "theta = np.array([[-0.34], [0.04]]) #[w, b]\n",
        "\n",
        "# how long\n",
        "epoch_max = 10\n",
        "\n",
        "# mini-batch size\n",
        "m = 2\n",
        "\n",
        "# delta for huber loss\n",
        "delta = 5\n",
        "\n",
        "losses = [] # for debug\n",
        "for epoch in range(epoch_max):\n",
        "    for i in range(0, data_size, m):        \n",
        "        # get m samples\n",
        "        x = data[:, i:i+m]\n",
        "        y = prices[i:i+m, :]\n",
        "        \n",
        "        # predict z/o\n",
        "        z = theta.T.dot(x)\n",
        "          \n",
        "        # huber loss\n",
        "        hl_idx = abs(z - y.T) >= delta\n",
        "        \n",
        "        loss = (z - y.T) ** 2\n",
        "        loss[hl_idx] = delta * abs((z - y.T)[hl_idx]) - 0.5 * delta**2\n",
        "        losses.append(np.mean(loss))\n",
        "\n",
        "        # compute gradient\n",
        "        b = 2*(z-y.T)\n",
        "        b[hl_idx] = delta * ((z - y.T)[hl_idx]) / abs((z - y.T)[hl_idx])\n",
        "        gradients = np.multiply(x, np.vstack((b, b)))\n",
        "        gradients = gradients.dot(np.ones((m, 1)))/m\n",
        "\n",
        "        # update weights\n",
        "        theta = theta - eta*gradients"
      ],
      "execution_count": null,
      "outputs": []
    },
    {
      "cell_type": "code",
      "metadata": {
        "id": "pClm41-UyiKi",
        "outputId": "689c51e0-ac07-4cba-fba2-0f3f0581057f"
      },
      "source": [
        "import matplotlib.pyplot as plt\n",
        "\n",
        "plt.plot(losses)\n",
        "plt.xlabel('iteration')\n",
        "plt.ylabel('losses')\n",
        "plt.show()"
      ],
      "execution_count": null,
      "outputs": [
        {
          "output_type": "display_data",
          "data": {
            "image/png": "[encoded data removed]",
            "text/plain": [
              "<Figure size 432x288 with 1 Axes>"
            ]
          },
          "metadata": {
            "tags": [],
            "needs_background": "light"
          }
        }
      ]
    },
    {
      "cell_type": "markdown",
      "metadata": {
        "id": "h-54beAtyiKj"
      },
      "source": [
        "## D7 - N Samples "
      ]
    },
    {
      "cell_type": "code",
      "metadata": {
        "id": "D0bpXATjyiKk"
      },
      "source": [
        "# full code\n",
        "\n",
        "# load data\n",
        "import numpy as np\n",
        "from numpy import genfromtxt\n",
        "import matplotlib.pyplot as plt\n",
        "\n",
        "data = genfromtxt('data.csv', delimiter=',')\n",
        "areas  = data[:,0]\n",
        "prices = data[:,1]\n",
        "data_size = areas.size\n",
        "\n",
        "# vector [x, b]\n",
        "data = np.c_[areas, np.ones((data_size, 1))]\n",
        "\n",
        "n_epochs = 10\n",
        "eta = 0.01\n",
        "\n",
        "theta = np.array([[-0.34],[0.04]])\n",
        "\n",
        "losses = [] # for debug\n",
        "for epoch in range(n_epochs):\n",
        "    sum_of_losses = 0\n",
        "    gradients = np.zeros((2,1))\n",
        "    \n",
        "    for index in range(data_size):\n",
        "        xi = data[index:index+1]\n",
        "        yi = prices[index:index+1]\n",
        "\n",
        "        oi = xi.dot(theta)\n",
        "        li = (oi - yi)**2 if abs(oi - yi) < delta else delta * abs(oi - yi) - 0.5 * delta**2      \n",
        "        g_li = 2*(oi - yi) if abs(oi - yi) < delta else delta * (oi - yi) / abs(oi - yi)\n",
        "        \n",
        "        cg = xi.T.dot(g_li)\n",
        "        \n",
        "        gradients = gradients + cg\n",
        "        sum_of_losses = sum_of_losses + li\n",
        "    \n",
        "    sum_of_losses = sum_of_losses/data_size   \n",
        "    losses.append(sum_of_losses[0][0]) \n",
        "    \n",
        "    gradients     = gradients/data_size    \n",
        "    theta = theta - eta*gradients    "
      ],
      "execution_count": null,
      "outputs": []
    },
    {
      "cell_type": "code",
      "metadata": {
        "id": "-d5C5b9lyiKn",
        "outputId": "8b119f99-a1d9-4bb1-cf7f-61bae5c8db39"
      },
      "source": [
        "import matplotlib.pyplot as plt\n",
        "\n",
        "plt.plot(losses)\n",
        "plt.xlabel('iteration')\n",
        "plt.ylabel('losses')\n",
        "plt.show()"
      ],
      "execution_count": null,
      "outputs": [
        {
          "output_type": "display_data",
          "data": {
            "image/png": "[encoded data removed]",
            "text/plain": [
              "<Figure size 432x288 with 1 Axes>"
            ]
          },
          "metadata": {
            "tags": [],
            "needs_background": "light"
          }
        }
      ]
    },
    {
      "cell_type": "markdown",
      "metadata": {
        "id": "1zlvTwmUyiKo"
      },
      "source": [
        "##  D8 - N Samples - Vectorization"
      ]
    },
    {
      "cell_type": "code",
      "metadata": {
        "id": "ViPD9c0qyiKp"
      },
      "source": [
        "# full code\n",
        "import numpy as np\n",
        "from numpy import genfromtxt\n",
        "\n",
        "data = genfromtxt('data.csv', delimiter=',')\n",
        "areas  = data[:,0]\n",
        "prices = data[:,1:]\n",
        "data_size = areas.size\n",
        "\n",
        "# vector [x, b]\n",
        "data = np.c_[areas, np.ones((data_size, 1))]\n",
        "data = data.T\n",
        "\n",
        "n_epochs = 10\n",
        "eta = 0.01\n",
        "\n",
        "# init weight\n",
        "theta = np.array([[-0.34],[0.04]])\n",
        "\n",
        "losses = [] # for debug\n",
        "for epoch in range(n_epochs):\n",
        "    # compute output\n",
        "    z = theta.T.dot(data)\n",
        "\n",
        "    # huber loss\n",
        "    hl_idx = abs(z - prices.T) >= delta\n",
        "    loss = (z - prices.T) ** 2\n",
        "    loss[hl_idx] = delta * abs((z - prices.T)[hl_idx]) - 0.5 * delta**2\n",
        "    \n",
        "    losses.append(np.mean(loss))\n",
        "    \n",
        "    # compute gradient\n",
        "    b = 2*(z-prices.T)    \n",
        "    b[hl_idx] = delta * ((z - prices.T)[hl_idx]) / abs((z - prices.T)[hl_idx])\n",
        "    gradient = np.multiply(data, np.vstack((b, b)))\n",
        "    gradient = gradient.dot(np.ones((data_size, 1)))/data_size\n",
        "    \n",
        "    # update weights\n",
        "    theta = theta - eta*gradient"
      ],
      "execution_count": null,
      "outputs": []
    },
    {
      "cell_type": "code",
      "metadata": {
        "id": "mkxbSiJyyiKr",
        "outputId": "82431a11-2ee3-4168-f8a8-7f775d0716f0"
      },
      "source": [
        "import matplotlib.pyplot as plt\n",
        "\n",
        "plt.plot(losses)\n",
        "plt.xlabel('iteration')\n",
        "plt.ylabel('losses')\n",
        "plt.show()"
      ],
      "execution_count": null,
      "outputs": [
        {
          "output_type": "display_data",
          "data": {
            "image/png": "[encoded data removed]",
            "text/plain": [
              "<Figure size 432x288 with 1 Axes>"
            ]
          },
          "metadata": {
            "tags": [],
            "needs_background": "light"
          }
        }
      ]
    },
    {
      "cell_type": "code",
      "metadata": {
        "id": "FmkVph7syiKs"
      },
      "source": [
        ""
      ],
      "execution_count": null,
      "outputs": []
    }
  ]
}