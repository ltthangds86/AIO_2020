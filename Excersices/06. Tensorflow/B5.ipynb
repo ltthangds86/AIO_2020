{
  "nbformat": 4,
  "nbformat_minor": 0,
  "metadata": {
    "colab": {
      "name": "B6.ipynb",
      "provenance": [],
      "collapsed_sections": []
    },
    "kernelspec": {
      "name": "python3",
      "display_name": "Python 3"
    }
  },
  "cells": [
    {
      "cell_type": "code",
      "metadata": {
        "id": "UeqmnquhR0RK"
      },
      "source": [
        "import numpy as np\n",
        "import tensorflow as tf\n",
        "import matplotlib.pyplot as plt\n",
        "from sklearn import preprocessing\n",
        "\n",
        "tf.keras.backend.set_floatx('float64')\n",
        "\n",
        "### Data preparation\n",
        "data = np.genfromtxt('advertising.csv', delimiter=',', skip_header=1)\n",
        "X = data[:, 0:3]\n",
        "y = data[:, 3:]\n",
        "X = preprocessing.scale(X)"
      ],
      "execution_count": null,
      "outputs": []
    },
    {
      "cell_type": "code",
      "metadata": {
        "id": "Is-D7pyzR5mx"
      },
      "source": [
        "# predict\n",
        "def predict(x, W, b):\n",
        "    return x @ W + b\n",
        "\n",
        "### weights\n",
        "W = tf.Variable(tf.random.normal((3, 1), dtype=tf.float64))\n",
        "b = tf.Variable(tf.random.normal((1, 1), dtype=tf.float64))\n",
        "\n",
        "### training\n",
        "learning_rate = 0.1\n",
        "num_epochs = 200\n",
        "\n",
        "### loss function\n",
        "loss = tf.keras.losses.MeanSquaredError()\n",
        "\n",
        "losses = [] # for debug\n",
        "for epoch in range(num_epochs):\n",
        "    with tf.GradientTape() as t:\n",
        "        # output\n",
        "        output = predict(X, W, b)\n",
        "        \n",
        "        # loss\n",
        "        loss_v = loss(y, output)\n",
        "        losses.append(loss_v.numpy())\n",
        "        \n",
        "        # gradient\n",
        "        dW, db = t.gradient(loss_v, [W, b])\n",
        "        \n",
        "        # update\n",
        "        W.assign_sub(learning_rate * dW) \n",
        "        b.assign_sub(learning_rate * db)"
      ],
      "execution_count": null,
      "outputs": []
    },
    {
      "cell_type": "code",
      "metadata": {
        "colab": {
          "base_uri": "https://localhost:8080/",
          "height": 282
        },
        "id": "v0zrJIo5SwwD",
        "outputId": "48f9e6da-e108-4bb4-e143-05f75947c278"
      },
      "source": [
        "plt.plot(losses)"
      ],
      "execution_count": null,
      "outputs": [
        {
          "output_type": "execute_result",
          "data": {
            "text/plain": [
              "[<matplotlib.lines.Line2D at 0x7f66858145f8>]"
            ]
          },
          "metadata": {
            "tags": []
          },
          "execution_count": 36
        },
        {
          "output_type": "display_data",
          "data": {
            "image/png": "[encoded data removed]",
            "text/plain": [
              "<Figure size 432x288 with 1 Axes>"
            ]
          },
          "metadata": {
            "tags": [],
            "needs_background": "light"
          }
        }
      ]
    },
    {
      "cell_type": "code",
      "metadata": {
        "id": "sUzaWbnkTDB3"
      },
      "source": [
        "import numpy as np\n",
        "import tensorflow as tf\n",
        "import matplotlib.pyplot as plt\n",
        "from sklearn import preprocessing\n",
        "\n",
        "tf.keras.backend.set_floatx('float64')\n",
        "\n",
        "### Data preparation\n",
        "data = np.genfromtxt('iris_demo.csv', delimiter=',', skip_header=1)\n",
        "X = data[:, 0:4]\n",
        "y = data[:, 4:]\n",
        "X = preprocessing.scale(X)"
      ],
      "execution_count": null,
      "outputs": []
    },
    {
      "cell_type": "code",
      "metadata": {
        "id": "w-6tjQAGVVDY"
      },
      "source": [
        "# predict\n",
        "def predict(x, W, b):\n",
        "    return tf.keras.activations.sigmoid(x @ W + b)\n",
        "\n",
        "### weights\n",
        "W = tf.Variable(tf.random.normal((4, 1), dtype=tf.float64))\n",
        "b = tf.Variable(tf.random.normal((1, 1), dtype=tf.float64))\n",
        "\n",
        "### training\n",
        "learning_rate = 0.1\n",
        "num_epochs = 200\n",
        "\n",
        "### loss function\n",
        "loss = tf.keras.losses.BinaryCrossentropy()\n",
        "\n",
        "losses = [] # for debug\n",
        "for epoch in range(num_epochs):\n",
        "    with tf.GradientTape() as t:\n",
        "        # output\n",
        "        output = predict(X, W, b)\n",
        "        \n",
        "        # loss\n",
        "        loss_v = loss(y, output)\n",
        "        losses.append(loss_v.numpy())\n",
        "        \n",
        "        # gradient\n",
        "        dW, db = t.gradient(loss_v, [W, b])\n",
        "        \n",
        "        # update\n",
        "        W.assign_sub(learning_rate * dW) \n",
        "        b.assign_sub(learning_rate * db)"
      ],
      "execution_count": null,
      "outputs": []
    },
    {
      "cell_type": "code",
      "metadata": {
        "colab": {
          "base_uri": "https://localhost:8080/",
          "height": 298
        },
        "id": "k4TAOIoWWLkI",
        "outputId": "7ad8e273-b288-45a0-9aa2-5c14c09c688f"
      },
      "source": [
        "preds = predict(X, W, b)\n",
        "\n",
        "preds = preds.numpy()\n",
        "preds = preds.round()\n",
        "\n",
        "print((preds == y).mean())\n",
        "\n",
        "plt.plot(losses)"
      ],
      "execution_count": null,
      "outputs": [
        {
          "output_type": "stream",
          "text": [
            "1.0\n"
          ],
          "name": "stdout"
        },
        {
          "output_type": "execute_result",
          "data": {
            "text/plain": [
              "[<matplotlib.lines.Line2D at 0x7f668542a3c8>]"
            ]
          },
          "metadata": {
            "tags": []
          },
          "execution_count": 42
        },
        {
          "output_type": "display_data",
          "data": {
            "image/png": "[encoded data removed]",
            "text/plain": [
              "<Figure size 432x288 with 1 Axes>"
            ]
          },
          "metadata": {
            "tags": [],
            "needs_background": "light"
          }
        }
      ]
    },
    {
      "cell_type": "code",
      "metadata": {
        "id": "exCG4Wm8WXG6"
      },
      "source": [
        ""
      ],
      "execution_count": null,
      "outputs": []
    }
  ]
}