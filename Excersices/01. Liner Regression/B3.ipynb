{
  "nbformat": 4,
  "nbformat_minor": 0,
  "metadata": {
    "kernelspec": {
      "display_name": "Python 3",
      "language": "python",
      "name": "python3"
    },
    "language_info": {
      "codemirror_mode": {
        "name": "ipython",
        "version": 3
      },
      "file_extension": ".py",
      "mimetype": "text/x-python",
      "name": "python",
      "nbconvert_exporter": "python",
      "pygments_lexer": "ipython3",
      "version": "3.9.0"
    },
    "colab": {
      "name": "Phuong Nam - Bai 3.ipynb",
      "provenance": []
    }
  },
  "cells": [
    {
      "cell_type": "code",
      "metadata": {
        "id": "s7UMZSpvxAUT"
      },
      "source": [
        "# full code\n",
        "\n",
        "# load data\n",
        "import numpy as np\n",
        "from numpy import genfromtxt\n",
        "import matplotlib.pyplot as plt\n",
        "\n",
        "data = genfromtxt('data.csv', delimiter=',')\n",
        "areas  = data[:,0]\n",
        "prices = data[:,1]\n",
        "data_size = areas.size\n",
        "\n",
        "# forward\n",
        "def predict(x,theta):\n",
        "    return x.dot(theta)\n",
        "\n",
        "# compute gradient\n",
        "def gradient(z,y,x):\n",
        "    dtheta = 2*x*(z-y)\n",
        "    return dtheta\n",
        "\n",
        "# update weights\n",
        "def update_weight(theta,n,dtheta):\n",
        "    dtheta_new = theta - n*dtheta\n",
        "    return dtheta_new\n",
        "\n",
        "# vector [x, b]\n",
        "# data = np.c_[areas, np.ones((data_size, 1))]\n",
        "data = np.c_[np.ones((data_size, 1)), areas]\n",
        "\n",
        "# init weight\n",
        "n = 0.01\n",
        "# theta = np.array([-0.34, 0.04]) #[w, b]\n",
        "theta = np.array([0.04, -0.34]) #[b, w]\n",
        "\n",
        "# how long\n",
        "epoch_max = 10\n",
        "\n",
        "losses = [] # for debug\n",
        "for epoch in range(epoch_max):\n",
        "    for i in range(data_size):\n",
        "        # get a sample\n",
        "        x = data[i]\n",
        "        y = prices[i:i+1]\n",
        "\n",
        "        # predict z\n",
        "        z = predict(x, theta)\n",
        "\n",
        "        # compute loss\n",
        "        loss = (z-y)*(z-y)\n",
        "        losses.append(loss[0])\n",
        "\n",
        "        # compute gradient\n",
        "        dtheta = gradient(z,y,x)\n",
        "\n",
        "        # update weights\n",
        "        theta = update_weight(theta,n,dtheta)"
      ],
      "execution_count": null,
      "outputs": []
    },
    {
      "cell_type": "code",
      "metadata": {
        "id": "nSNZwSAfxAUf",
        "outputId": "ec8607f3-1860-4877-a514-b17730fbef5c"
      },
      "source": [
        "import matplotlib.pyplot as plt\n",
        "\n",
        "plt.plot(losses) # test with losses[3:]\n",
        "plt.xlabel('iteration')\n",
        "plt.ylabel('losses')\n",
        "plt.show()"
      ],
      "execution_count": null,
      "outputs": [
        {
          "output_type": "display_data",
          "data": {
            "image/png": "[encoded data removed]",
            "text/plain": [
              "<Figure size 432x288 with 1 Axes>"
            ]
          },
          "metadata": {
            "tags": [],
            "needs_background": "light"
          }
        }
      ]
    },
    {
      "cell_type": "code",
      "metadata": {
        "id": "S8PxzHZ9xAUh"
      },
      "source": [
        ""
      ],
      "execution_count": null,
      "outputs": []
    }
  ]
}