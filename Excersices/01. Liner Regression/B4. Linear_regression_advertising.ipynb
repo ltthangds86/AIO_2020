{
  "nbformat": 4,
  "nbformat_minor": 0,
  "metadata": {
    "kernelspec": {
      "display_name": "Python 3",
      "language": "python",
      "name": "python3"
    },
    "language_info": {
      "codemirror_mode": {
        "name": "ipython",
        "version": 3
      },
      "file_extension": ".py",
      "mimetype": "text/x-python",
      "name": "python",
      "nbconvert_exporter": "python",
      "pygments_lexer": "ipython3",
      "version": "3.9.0"
    },
    "colab": {
      "name": "Bai 4.ipynb",
      "provenance": []
    }
  },
  "cells": [
    {
      "cell_type": "code",
      "metadata": {
        "id": "5eWqCpCP0oKJ"
      },
      "source": [
        "import numpy as np\n",
        "import matplotlib.pyplot as plt\n",
        "from numpy import genfromtxt\n",
        "from sklearn.utils import shuffle"
      ],
      "execution_count": null,
      "outputs": []
    },
    {
      "cell_type": "code",
      "metadata": {
        "id": "3Rl48VrY0oKV"
      },
      "source": [
        "data = genfromtxt('advertising.csv', delimiter=',', skip_header=True)\n",
        "X = data[:, :3]\n",
        "X = (X-np.mean(X))/(np.max(X) - np.min(X))\n",
        "y = data[:, 3:4]\n",
        "data_size = len(X)\n",
        "\n",
        "X_train = np.hstack((np.ones((data_size, 1)), X))"
      ],
      "execution_count": null,
      "outputs": []
    },
    {
      "cell_type": "code",
      "metadata": {
        "id": "hhp0pYWy0oKW"
      },
      "source": [
        "# forward\n",
        "def predict(X, theta):\n",
        "    pred = X.T @ theta\n",
        "    return pred\n",
        "\n",
        "# compute gradient\n",
        "def gradient(X, y, y_predict):\n",
        "    dtheta = X @ (y_predict - y)\n",
        "    return dtheta\n",
        "\n",
        "# update weights\n",
        "def update_weight(theta, dtheta, learing_rate):\n",
        "    theta_new = theta - learing_rate * dtheta\n",
        "    return theta_new\n",
        "\n",
        "# compute loss\n",
        "def compute_loss(y, y_predict):\n",
        "    loss = (y_predict - y) ** 2\n",
        "    return loss"
      ],
      "execution_count": null,
      "outputs": []
    },
    {
      "cell_type": "code",
      "metadata": {
        "id": "pXzo4M3p0oKX"
      },
      "source": [
        "losses = []\n",
        "learning_rate = 0.1\n",
        "num_of_epochs = 7\n",
        "theta = np.random.random((X_train.shape[1], 1))\n",
        "\n",
        "for epoch in range(num_of_epochs): # Train n epochs\n",
        "    X_train, y = shuffle(X_train, y)\n",
        "    for i in range(data_size): # Train with each sample\n",
        "        # get a sample\n",
        "        xi = X_train[i].reshape(-1, 1)\n",
        "        yi = y[i:i+1]\n",
        "        \n",
        "        # predict\n",
        "        yi_predict = predict(xi, theta)\n",
        "        \n",
        "        # compute loss\n",
        "        loss = compute_loss(yi, yi_predict)\n",
        "        losses.append(loss[0][0])\n",
        "\n",
        "        # compute gradient\n",
        "        dtheta = gradient(xi, yi, yi_predict)\n",
        "    \n",
        "        # update weights\n",
        "        theta = update_weight(theta, dtheta, learning_rate)"
      ],
      "execution_count": null,
      "outputs": []
    },
    {
      "cell_type": "code",
      "metadata": {
        "colab": {
          "base_uri": "https://localhost:8080/",
          "height": 279
        },
        "id": "gL_7ZeWc0oKY",
        "outputId": "6fc320cd-4920-439d-8eb3-a4d59ca52197"
      },
      "source": [
        "plt.plot(losses)\n",
        "plt.xlabel('iteration')\n",
        "plt.ylabel('losses')\n",
        "plt.show()"
      ],
      "execution_count": null,
      "outputs": [
        {
          "output_type": "display_data",
          "data": {
            "image/png": "[encoded data removed]",
            "text/plain": [
              "<Figure size 432x288 with 1 Axes>"
            ]
          },
          "metadata": {
            "tags": [],
            "needs_background": "light"
          }
        }
      ]
    },
    {
      "cell_type": "code",
      "metadata": {
        "id": "XpUEg2hI0oKa"
      },
      "source": [
        ""
      ],
      "execution_count": null,
      "outputs": []
    },
    {
      "cell_type": "code",
      "metadata": {
        "id": "1-zksnce0oKa"
      },
      "source": [
        "data = genfromtxt('advertising.csv', delimiter=',', skip_header=True)\n",
        "X = data[:, :3]\n",
        "y = data[:, 3:4]\n",
        "data_size = len(X)\n",
        "\n",
        "X_train = np.hstack((np.ones((data_size, 1)), X))"
      ],
      "execution_count": null,
      "outputs": []
    },
    {
      "cell_type": "code",
      "metadata": {
        "id": "D6VaVBXx0oKb"
      },
      "source": [
        "# forward\n",
        "def predict(X, theta):\n",
        "    pred = sum([i * j for i, j in zip(X, theta)])\n",
        "    return pred\n",
        "\n",
        "# compute gradient\n",
        "def gradient(X, y, y_predict):\n",
        "    dtheta = [i * (y_predict - y) for i in X]\n",
        "    return dtheta\n",
        "\n",
        "# update weights\n",
        "def update_weight(theta, dtheta, learing_rate):\n",
        "    theta_new = [i - learing_rate * j for i, j in zip(theta, dtheta)]\n",
        "    return theta_new\n",
        "\n",
        "# compute loss\n",
        "def compute_loss(y, y_predict):\n",
        "    loss = (y_predict - y) ** 2\n",
        "    return loss"
      ],
      "execution_count": null,
      "outputs": []
    },
    {
      "cell_type": "code",
      "metadata": {
        "id": "B116Rg_g0oKc"
      },
      "source": [
        "losses = []\n",
        "learning_rate = 1e-5\n",
        "num_of_epochs = 7\n",
        "theta = np.random.random((X_train.shape[1]))\n",
        "\n",
        "for epoch in range(num_of_epochs): # Train n epochs\n",
        "    X_train, y = shuffle(X_train, y)\n",
        "    for i in range(data_size): # Train with each sample\n",
        "        # get a sample\n",
        "        xi = X_train[i]\n",
        "        yi = y[i][0]\n",
        "\n",
        "        # predict\n",
        "        yi_predict = predict(xi, theta)\n",
        "        \n",
        "        # compute loss\n",
        "        loss = compute_loss(yi, yi_predict)\n",
        "        losses.append(loss)\n",
        "\n",
        "        # compute gradient\n",
        "        dtheta = gradient(xi, yi, yi_predict)\n",
        "    \n",
        "        # update weights\n",
        "        theta = update_weight(theta, dtheta, learning_rate)"
      ],
      "execution_count": null,
      "outputs": []
    },
    {
      "cell_type": "code",
      "metadata": {
        "id": "MqtGkeGg0oKc",
        "outputId": "00086655-8893-4d50-9650-ce5c2a5eaade"
      },
      "source": [
        "plt.plot(losses)\n",
        "plt.xlabel('iteration')\n",
        "plt.ylabel('losses')\n",
        "plt.show()"
      ],
      "execution_count": null,
      "outputs": [
        {
          "output_type": "display_data",
          "data": {
            "image/png": "[encoded data removed]",
            "text/plain": [
              "<Figure size 432x288 with 1 Axes>"
            ]
          },
          "metadata": {
            "tags": [],
            "needs_background": "light"
          }
        }
      ]
    },
    {
      "cell_type": "code",
      "metadata": {
        "id": "p7ba59ui0oKd"
      },
      "source": [
        ""
      ],
      "execution_count": null,
      "outputs": []
    }
  ]
}