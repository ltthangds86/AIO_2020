{
  "nbformat": 4,
  "nbformat_minor": 0,
  "metadata": {
    "kernelspec": {
      "display_name": "Python 3",
      "language": "python",
      "name": "python3"
    },
    "language_info": {
      "codemirror_mode": {
        "name": "ipython",
        "version": 3
      },
      "file_extension": ".py",
      "mimetype": "text/x-python",
      "name": "python",
      "nbconvert_exporter": "python",
      "pygments_lexer": "ipython3",
      "version": "3.9.0"
    },
    "colab": {
      "name": "Bai 5.ipynb",
      "provenance": []
    }
  },
  "cells": [
    {
      "cell_type": "code",
      "metadata": {
        "id": "jo8GNv59zvJ4",
        "outputId": "17c45602-7fb7-4a80-d954-dd628f675d1b"
      },
      "source": [
        "import numpy as np\n",
        "import matplotlib.pyplot as plt\n",
        "\n",
        "iris = np.genfromtxt('iris_full.csv', dtype=None, delimiter=',', skip_header=1)\n",
        "X = iris[:, :4]\n",
        "y = iris[:, 4]\n",
        "\n",
        "intercept = np.ones((X.shape[0], 1))\n",
        "X = np.concatenate((intercept, X), axis=1)\n",
        "\n",
        "# # shuffle\n",
        "inds = np.arange(X.shape[0])\n",
        "np.random.shuffle(inds)\n",
        "\n",
        "X = X[inds]\n",
        "y = y[inds]\n",
        "\n",
        "def sigmoid_function(z):\n",
        "    return 1 / (1 + np.exp(-z))\n",
        "\n",
        "def loss_function(h, y):\n",
        "    return (-y*np.log(h) - (1-y)*np.log(1-h)).mean()\n",
        "\n",
        "def predict(X, theta):\n",
        "    y_hat = sigmoid_function(np.dot(X, theta))\n",
        "    return y_hat\n",
        "\n",
        "def compute_gradient(X, y_hat, y):\n",
        "    return np.dot(X.T, (y_hat - y)) / y.size\n",
        "\n",
        "lr = 0.01\n",
        "num_iter = 100\n",
        "\n",
        "theta = np.random.random(X.shape[1])\n",
        "losses = []\n",
        "accs   = []\n",
        "\n",
        "for i in range(num_iter):\n",
        "    # predict z\n",
        "    y_hat = predict(X, theta)\n",
        "    \n",
        "    # compute loss\n",
        "    loss = loss_function(y_hat, y)\n",
        "\n",
        "    # compute mean of gradient\n",
        "    gradient = compute_gradient(X, y_hat, y)\n",
        "    \n",
        "    theta -= lr*gradient\n",
        "    #print('new theta: ', theta)\n",
        "\n",
        "    # for debug\n",
        "    if(i%1 == 0):\n",
        "        # loss\n",
        "        losses.append(loss)\n",
        "        \n",
        "        # accuracy for training\n",
        "        preds = predict(X, theta).round()\n",
        "        acc = (preds == y).mean()\n",
        "        accs.append(acc)        \n",
        "\n",
        "# show figures\n",
        "plt.plot(losses)\n",
        "plt.show()"
      ],
      "execution_count": null,
      "outputs": [
        {
          "output_type": "display_data",
          "data": {
            "image/png": "[encoded data removed]",
            "text/plain": [
              "<Figure size 432x288 with 1 Axes>"
            ]
          },
          "metadata": {
            "tags": [],
            "needs_background": "light"
          }
        }
      ]
    },
    {
      "cell_type": "code",
      "metadata": {
        "id": "n6z4VR6KzvKZ",
        "outputId": "ae1348b0-8998-4475-d982-e7764f4eaeb8"
      },
      "source": [
        "plt.plot(accs)\n",
        "plt.show()"
      ],
      "execution_count": null,
      "outputs": [
        {
          "output_type": "display_data",
          "data": {
            "image/png": "[encoded data removed]",
            "text/plain": [
              "<Figure size 432x288 with 1 Axes>"
            ]
          },
          "metadata": {
            "tags": [],
            "needs_background": "light"
          }
        }
      ]
    },
    {
      "cell_type": "code",
      "metadata": {
        "id": "XjHTKVxlzvKg"
      },
      "source": [
        ""
      ],
      "execution_count": null,
      "outputs": []
    }
  ]
}