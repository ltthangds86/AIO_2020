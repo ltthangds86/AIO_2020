{
  "nbformat": 4,
  "nbformat_minor": 0,
  "metadata": {
    "kernelspec": {
      "display_name": "ml",
      "language": "python",
      "name": "ml"
    },
    "language_info": {
      "codemirror_mode": {
        "name": "ipython",
        "version": 3
      },
      "file_extension": ".py",
      "mimetype": "text/x-python",
      "name": "python",
      "nbconvert_exporter": "python",
      "pygments_lexer": "ipython3",
      "version": "3.9.0"
    },
    "colab": {
      "name": "Phuong Nam - Bai 2.ipynb",
      "provenance": []
    }
  },
  "cells": [
    {
      "cell_type": "markdown",
      "metadata": {
        "id": "Qya4Vg86zvfE"
      },
      "source": [
        "## 1 - sample"
      ]
    },
    {
      "cell_type": "code",
      "metadata": {
        "id": "oGOTIb3fzvfX",
        "outputId": "e50043ad-72d1-4ab9-bfa5-7a90572478af"
      },
      "source": [
        "import numpy as np\n",
        "import matplotlib.pyplot as plt\n",
        "\n",
        "iris = np.genfromtxt('iris_Petal_Logistic.csv', dtype=None, delimiter=',', skip_header=1) \n",
        "X = iris[:, :2]\n",
        "y = iris[:, 2]\n",
        "\n",
        "intercept = np.ones((X.shape[0], 1))\n",
        "X = np.concatenate((intercept, X), axis=1)\n",
        "\n",
        "# shuffle\n",
        "inds = np.arange(X.shape[0])\n",
        "np.random.shuffle(inds)\n",
        "\n",
        "X = X[inds]\n",
        "y = y[inds]\n",
        "\n",
        "def sigmoid_function(z):\n",
        "    return 1 / (1 + np.exp(-z))\n",
        "\n",
        "def loss_function(h, y):\n",
        "    return (-y*np.log(h) - (1-y)*np.log(1-h))\n",
        "\n",
        "def predict(X, theta):\n",
        "    y_hat = sigmoid_function(np.dot(X, theta))\n",
        "    return y_hat\n",
        "\n",
        "def compute_gradient(X, y_hat, y):\n",
        "    return np.dot(X.T, (y_hat - y))\n",
        "\n",
        "lr = 0.1\n",
        "num_iter = 100\n",
        "\n",
        "theta = np.array([0.1, 0.5, -0.1])\n",
        "losses = []\n",
        "accs   = []\n",
        "\n",
        "for epoch in range(num_iter):\n",
        "    for i in range(X.shape[0]):\n",
        "        # get a sample\n",
        "        xi = X[i]\n",
        "        yi = y[i]\n",
        "\n",
        "        # predict z\n",
        "        y_hat = predict(xi, theta)\n",
        "\n",
        "        # compute loss\n",
        "        loss = loss_function(y_hat, yi)\n",
        "\n",
        "        # compute mean of gradient\n",
        "        gradient = compute_gradient(xi, y_hat, yi)\n",
        "\n",
        "        theta -= lr * gradient\n",
        "        #print('new theta: ', theta)\n",
        "\n",
        "        # for debug\n",
        "        if(i%1 == 0):\n",
        "            # loss\n",
        "            losses.append(loss)\n",
        "\n",
        "            # accuracy for training\n",
        "            preds = predict(xi, theta).round()\n",
        "            acc = (preds == yi).mean()\n",
        "            accs.append(acc)        \n",
        "\n",
        "# show figures\n",
        "plt.plot(losses)\n",
        "plt.show()"
      ],
      "execution_count": null,
      "outputs": [
        {
          "output_type": "display_data",
          "data": {
            "image/png": "[encoded data removed]",
            "text/plain": [
              "<Figure size 432x288 with 1 Axes>"
            ]
          },
          "metadata": {
            "tags": [],
            "needs_background": "light"
          }
        }
      ]
    },
    {
      "cell_type": "code",
      "metadata": {
        "id": "d0CuiCqWzvff",
        "outputId": "0f02a55b-681b-4c90-dee0-95a112c461f4"
      },
      "source": [
        "plt.plot(accs)\n",
        "plt.show()"
      ],
      "execution_count": null,
      "outputs": [
        {
          "output_type": "display_data",
          "data": {
            "image/png": "[encoded data removed]",
            "text/plain": [
              "<Figure size 432x288 with 1 Axes>"
            ]
          },
          "metadata": {
            "tags": [],
            "needs_background": "light"
          }
        }
      ]
    },
    {
      "cell_type": "code",
      "metadata": {
        "id": "bavSQacgzvfh",
        "outputId": "591b2d73-d559-4d33-d066-6e1bc6daa372"
      },
      "source": [
        "preds = predict(X, theta).round()\n",
        "print(preds)\n",
        "print(y)\n",
        "print('acc: %d%%' % ((preds == y).mean() * 100))"
      ],
      "execution_count": null,
      "outputs": [
        {
          "output_type": "stream",
          "text": [
            "[1. 0. 0. 1. 1. 1. 1. 0. 1. 1. 1. 1. 0. 1. 1. 1. 0. 0. 0. 0. 1. 0. 0. 0.\n",
            " 0. 1. 0. 0. 0. 0. 0. 1. 0. 1. 1. 1. 1. 0. 0. 0. 0. 0. 1. 1. 0. 1. 1. 0.\n",
            " 1. 1. 0. 1. 1. 1. 0. 1. 0. 0. 0. 1. 0. 1. 1. 0. 1. 1. 1. 1. 0. 1. 1. 0.\n",
            " 1. 0. 0. 0. 1. 0. 0. 1. 1. 1. 1. 0. 1. 0. 0. 0. 0. 1. 1. 0. 1. 0. 1. 1.\n",
            " 0. 0. 0. 0.]\n",
            "[1. 0. 0. 1. 1. 1. 1. 0. 1. 1. 1. 1. 0. 1. 1. 1. 0. 0. 0. 0. 1. 0. 0. 0.\n",
            " 0. 1. 0. 0. 0. 0. 0. 1. 0. 1. 1. 1. 1. 0. 0. 0. 0. 0. 1. 1. 0. 1. 1. 0.\n",
            " 1. 1. 0. 1. 1. 1. 0. 1. 0. 0. 0. 1. 0. 1. 1. 0. 1. 1. 1. 1. 0. 1. 1. 0.\n",
            " 1. 0. 0. 0. 1. 0. 0. 1. 1. 1. 1. 0. 1. 0. 0. 0. 0. 1. 1. 0. 1. 0. 1. 1.\n",
            " 0. 0. 0. 0.]\n",
            "acc: 100%\n"
          ],
          "name": "stdout"
        }
      ]
    },
    {
      "cell_type": "markdown",
      "metadata": {
        "id": "OSSAI--dzvfi"
      },
      "source": [
        "## m - sample"
      ]
    },
    {
      "cell_type": "code",
      "metadata": {
        "id": "zabagIxezvfj",
        "outputId": "efea9092-cd49-44a8-98ae-7bc060774adf"
      },
      "source": [
        "import numpy as np\n",
        "import matplotlib.pyplot as plt\n",
        "\n",
        "iris = np.genfromtxt('iris_Petal_Logistic.csv', dtype=None, delimiter=',', skip_header=1) \n",
        "X = iris[:, :2]\n",
        "y = iris[:, 2]\n",
        "\n",
        "intercept = np.ones((X.shape[0], 1))\n",
        "X = np.concatenate((intercept, X), axis=1)\n",
        "\n",
        "# shuffle\n",
        "inds = np.arange(X.shape[0])\n",
        "np.random.shuffle(inds)\n",
        "\n",
        "X = X[inds]\n",
        "y = y[inds]\n",
        "\n",
        "def sigmoid_function(z):\n",
        "    return 1 / (1 + np.exp(-z))\n",
        "\n",
        "def loss_function(h, y):\n",
        "    return (-y*np.log(h) - (1-y)*np.log(1-h)).mean()\n",
        "\n",
        "def predict(X, theta):\n",
        "    y_hat = sigmoid_function(np.dot(X, theta))\n",
        "    return y_hat\n",
        "\n",
        "def compute_gradient(X, y_hat, y):\n",
        "    return np.dot(X.T, (y_hat - y)) / y.size\n",
        "\n",
        "lr = 0.1\n",
        "num_iter = 100\n",
        "BATCH_SIZE = 10\n",
        "\n",
        "theta = np.array([0.1, 0.5, -0.1])\n",
        "losses = []\n",
        "accs   = []\n",
        "\n",
        "for epoch in range(num_iter):\n",
        "    for i in range(0, X.shape[0], BATCH_SIZE):\n",
        "        # get m sample\n",
        "        xm = X[i:i+BATCH_SIZE]\n",
        "        ym = y[i:i+BATCH_SIZE]\n",
        "\n",
        "        # predict z\n",
        "        y_hat = predict(xm, theta)\n",
        "\n",
        "        # compute loss\n",
        "        loss = loss_function(y_hat, ym)\n",
        "\n",
        "        # compute mean of gradient\n",
        "        gradient = compute_gradient(xm, y_hat, ym)\n",
        "\n",
        "        theta -= lr * gradient\n",
        "        #print('new theta: ', theta)\n",
        "\n",
        "        # for debug\n",
        "        if(i%1 == 0):\n",
        "            # loss\n",
        "            losses.append(loss)\n",
        "\n",
        "            # accuracy for training\n",
        "            preds = predict(xm, theta).round()\n",
        "            acc = (preds == ym).mean()\n",
        "            accs.append(acc)        \n",
        "\n",
        "# show figures\n",
        "plt.plot(losses)\n",
        "plt.show()"
      ],
      "execution_count": null,
      "outputs": [
        {
          "output_type": "display_data",
          "data": {
            "image/png": "[encoded data removed]",
            "text/plain": [
              "<Figure size 432x288 with 1 Axes>"
            ]
          },
          "metadata": {
            "tags": [],
            "needs_background": "light"
          }
        }
      ]
    },
    {
      "cell_type": "code",
      "metadata": {
        "id": "1Vcn5Tdpzvfp",
        "outputId": "bdc0dff8-4cff-4eba-bfb8-404404314dc7"
      },
      "source": [
        "plt.plot(accs)\n",
        "plt.show()"
      ],
      "execution_count": null,
      "outputs": [
        {
          "output_type": "display_data",
          "data": {
            "image/png": "[encoded data removed]",
            "text/plain": [
              "<Figure size 432x288 with 1 Axes>"
            ]
          },
          "metadata": {
            "tags": [],
            "needs_background": "light"
          }
        }
      ]
    },
    {
      "cell_type": "code",
      "metadata": {
        "id": "KSyJwzoRzvfs",
        "outputId": "77eb2e76-f160-4029-9b9f-500d1c2eb0a4"
      },
      "source": [
        "preds = predict(X, theta).round()\n",
        "print(preds)\n",
        "print(y)\n",
        "print('acc: %d%%' % ((preds == y).mean() * 100))"
      ],
      "execution_count": null,
      "outputs": [
        {
          "output_type": "stream",
          "text": [
            "[1. 0. 0. 1. 1. 1. 1. 0. 1. 1. 1. 1. 0. 1. 1. 1. 0. 0. 0. 0. 1. 0. 0. 0.\n",
            " 0. 1. 0. 0. 0. 0. 0. 1. 0. 1. 1. 1. 1. 0. 0. 0. 0. 0. 1. 1. 0. 1. 1. 0.\n",
            " 1. 1. 0. 1. 1. 1. 0. 1. 0. 0. 0. 1. 0. 1. 1. 0. 1. 1. 1. 1. 0. 1. 1. 0.\n",
            " 1. 0. 0. 0. 1. 0. 0. 1. 1. 1. 1. 0. 1. 0. 0. 0. 0. 1. 1. 0. 1. 0. 1. 1.\n",
            " 0. 0. 0. 0.]\n",
            "[1. 0. 0. 1. 1. 1. 1. 0. 1. 1. 1. 1. 0. 1. 1. 1. 0. 0. 0. 0. 1. 0. 0. 0.\n",
            " 0. 1. 0. 0. 0. 0. 0. 1. 0. 1. 1. 1. 1. 0. 0. 0. 0. 0. 1. 1. 0. 1. 1. 0.\n",
            " 1. 1. 0. 1. 1. 1. 0. 1. 0. 0. 0. 1. 0. 1. 1. 0. 1. 1. 1. 1. 0. 1. 1. 0.\n",
            " 1. 0. 0. 0. 1. 0. 0. 1. 1. 1. 1. 0. 1. 0. 0. 0. 0. 1. 1. 0. 1. 0. 1. 1.\n",
            " 0. 0. 0. 0.]\n",
            "acc: 100%\n"
          ],
          "name": "stdout"
        }
      ]
    },
    {
      "cell_type": "code",
      "metadata": {
        "id": "04Eb0grOzvfu"
      },
      "source": [
        ""
      ],
      "execution_count": null,
      "outputs": []
    }
  ]
}