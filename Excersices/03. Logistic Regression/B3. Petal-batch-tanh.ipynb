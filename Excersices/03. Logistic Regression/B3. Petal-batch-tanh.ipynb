{
  "nbformat": 4,
  "nbformat_minor": 0,
  "metadata": {
    "kernelspec": {
      "display_name": "Python 3",
      "language": "python",
      "name": "python3"
    },
    "language_info": {
      "codemirror_mode": {
        "name": "ipython",
        "version": 3
      },
      "file_extension": ".py",
      "mimetype": "text/x-python",
      "name": "python",
      "nbconvert_exporter": "python",
      "pygments_lexer": "ipython3",
      "version": "3.9.0"
    },
    "colab": {
      "name": "Bai 3.ipynb",
      "provenance": []
    }
  },
  "cells": [
    {
      "cell_type": "code",
      "metadata": {
        "id": "6Kz5CpeAlekk"
      },
      "source": [
        "import numpy as np\n",
        "import matplotlib.pyplot as plt\n",
        "\n",
        "iris = np.genfromtxt('iris_Petal_Logistic.csv', dtype=None, delimiter=',', skip_header=1) \n",
        "X = iris[:, :2]\n",
        "y = iris[:, 2]\n",
        "\n",
        "intercept = np.ones((X.shape[0], 1))\n",
        "X = np.concatenate((intercept, X), axis=1)\n",
        "\n",
        "# shuffle\n",
        "inds = np.arange(X.shape[0])\n",
        "np.random.shuffle(inds)\n",
        "\n",
        "X = X[inds]\n",
        "y = y[inds]\n",
        "\n",
        "def tanh_function(z):\n",
        "    return (np.exp(z) - np.exp(-z)) / (np.exp(z) + np.exp(-z))\n",
        "\n",
        "def loss_function(h, y): # ([-1, 1] + 1) / 2  -> [0, 1]\n",
        "    return (-y * np.log(0.5 + h/2) - (1 - y) * np.log(0.5 - h/2)).mean()\n",
        "\n",
        "def predict(X, theta):\n",
        "    y_hat = tanh_function(np.dot(X, theta))\n",
        "    return y_hat\n",
        "\n",
        "def compute_gradient(X, y_hat, y):\n",
        "    return np.dot(X.T, (y_hat - y) * (1 + y_hat) / y_hat) / y.size\n",
        "\n",
        "lr = 0.01\n",
        "num_iter = 100\n",
        "\n",
        "theta = np.array([0.1, 0.5, -0.1])\n",
        "losses = []\n",
        "accs   = []\n",
        "\n",
        "for i in range(num_iter):\n",
        "    # predict z\n",
        "    y_hat = predict(X, theta)\n",
        "    \n",
        "    # compute loss\n",
        "    loss = loss_function(y_hat, y)\n",
        "\n",
        "    # compute mean of gradient\n",
        "    gradient = compute_gradient(X, y_hat, y)\n",
        "    \n",
        "    theta -= lr * gradient\n",
        "\n",
        "    # for debug\n",
        "    if(i%1 == 0):\n",
        "        # loss\n",
        "        losses.append(loss)\n",
        "   \n",
        "        # accuracy for training\n",
        "        preds = predict(X, theta).round()\n",
        "        acc = (preds == y).mean()\n",
        "        accs.append(acc)        "
      ],
      "execution_count": null,
      "outputs": []
    },
    {
      "cell_type": "code",
      "metadata": {
        "id": "0sDkdb14lek1",
        "outputId": "d636e349-d8e9-45ee-ae0b-a0800e0dff92"
      },
      "source": [
        "# show figures\n",
        "plt.plot(losses)\n",
        "plt.show()"
      ],
      "execution_count": null,
      "outputs": [
        {
          "output_type": "display_data",
          "data": {
            "image/png": "[encoded data removed]",
            "text/plain": [
              "<Figure size 432x288 with 1 Axes>"
            ]
          },
          "metadata": {
            "tags": [],
            "needs_background": "light"
          }
        }
      ]
    },
    {
      "cell_type": "code",
      "metadata": {
        "id": "etxKPx-0lek5",
        "outputId": "4a8b3576-f62b-43b4-9daa-e577df328102"
      },
      "source": [
        "plt.plot(accs)\n",
        "plt.show()"
      ],
      "execution_count": null,
      "outputs": [
        {
          "output_type": "display_data",
          "data": {
            "image/png": "[encoded data removed]",
            "text/plain": [
              "<Figure size 432x288 with 1 Axes>"
            ]
          },
          "metadata": {
            "tags": [],
            "needs_background": "light"
          }
        }
      ]
    },
    {
      "cell_type": "code",
      "metadata": {
        "id": "r2oXmOAFlek6"
      },
      "source": [
        ""
      ],
      "execution_count": null,
      "outputs": []
    }
  ]
}