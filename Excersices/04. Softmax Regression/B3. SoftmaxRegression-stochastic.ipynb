{
  "nbformat": 4,
  "nbformat_minor": 0,
  "metadata": {
    "kernelspec": {
      "display_name": "Python 3",
      "language": "python",
      "name": "python3"
    },
    "language_info": {
      "codemirror_mode": {
        "name": "ipython",
        "version": 3
      },
      "file_extension": ".py",
      "mimetype": "text/x-python",
      "name": "python",
      "nbconvert_exporter": "python",
      "pygments_lexer": "ipython3",
      "version": "3.9.0"
    },
    "colab": {
      "name": "Phuong Nam - B3.ipynb",
      "provenance": []
    }
  },
  "cells": [
    {
      "cell_type": "code",
      "metadata": {
        "id": "S-xXhljO079N"
      },
      "source": [
        "import numpy as np\n",
        "\n",
        "iris = np.genfromtxt('iris_full.csv', delimiter=',', skip_header=1) \n",
        "X = iris[:, :4]\n",
        "y = iris[:, 4]\n",
        "y = y.astype('uint8')\n",
        "\n",
        "intercept = np.ones((X.shape[0], 1))\n",
        "X = np.concatenate((intercept, X), axis=1)\n",
        "X = X.T\n",
        "\n",
        "D = 4 # dimensionality\n",
        "K = 3 # number of classes\n",
        "\n",
        "# initialize parameters randomly\n",
        "theta = np.random.randn(D+1, K)\n",
        "\n",
        "# gradient descent loop\n",
        "num_examples = X.shape[1]\n",
        "learning_rate = 0.001\n",
        "losses = []\n",
        "num_iter = 1000\n",
        "for epoch in range(num_iter):\n",
        "    # evaluate class scores\n",
        "    scores = np.dot(theta.T, X)\n",
        "    \n",
        "    #compute the class probabilities\n",
        "    exp_scores = np.exp(scores)\n",
        "    probs = exp_scores / np.sum(exp_scores, axis=0)\n",
        "    \n",
        "    # compute the loss\n",
        "    corect_logprobs = -np.log(probs[y, range(num_examples)])\n",
        "    loss = np.sum(corect_logprobs) / num_examples\n",
        "    losses.append(loss)\n",
        "    \n",
        "    # compute the gradient on scores\n",
        "    dscores = probs\n",
        "    dscores[y, range(num_examples)] -= 1\n",
        "\n",
        "    # backpropate the gradient to the parameters (W,b)\n",
        "    dtheta = np.dot(X, dscores.T)\n",
        "\n",
        "    # perform a parameter update\n",
        "    theta += -learning_rate *dtheta"
      ],
      "execution_count": null,
      "outputs": []
    },
    {
      "cell_type": "code",
      "metadata": {
        "id": "Puha5eK6079d",
        "outputId": "f91305ae-37cc-47e8-9dd4-78fd9704204c"
      },
      "source": [
        "import matplotlib.pyplot as plt\n",
        "\n",
        "x_axis = range(len(losses))\n",
        "plt.plot(x_axis,losses, color=\"r\")\n",
        "plt.show()"
      ],
      "execution_count": null,
      "outputs": [
        {
          "output_type": "display_data",
          "data": {
            "image/png": "[encoded data removed]",
            "text/plain": [
              "<Figure size 432x288 with 1 Axes>"
            ]
          },
          "metadata": {
            "tags": [],
            "needs_background": "light"
          }
        }
      ]
    },
    {
      "cell_type": "code",
      "metadata": {
        "id": "KEBZpFiP079g",
        "outputId": "6242aee2-b93c-4adc-d7bb-c2d444845b66"
      },
      "source": [
        "# evaluate training set accuracy\n",
        "scores = np.dot(theta.T, X)\n",
        "predicted_class = np.argmax(scores, axis=0)\n",
        "print('Training accuracy: %.2f' % (np.mean(predicted_class == y)))"
      ],
      "execution_count": null,
      "outputs": [
        {
          "output_type": "stream",
          "text": [
            "Training accuracy: 0.99\n"
          ],
          "name": "stdout"
        }
      ]
    },
    {
      "cell_type": "code",
      "metadata": {
        "id": "sIK3rzC1079h"
      },
      "source": [
        ""
      ],
      "execution_count": null,
      "outputs": []
    }
  ]
}