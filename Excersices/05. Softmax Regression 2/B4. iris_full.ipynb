{
  "nbformat": 4,
  "nbformat_minor": 0,
  "metadata": {
    "kernelspec": {
      "display_name": "Python 3",
      "language": "python",
      "name": "python3"
    },
    "language_info": {
      "codemirror_mode": {
        "name": "ipython",
        "version": 3
      },
      "file_extension": ".py",
      "mimetype": "text/x-python",
      "name": "python",
      "nbconvert_exporter": "python",
      "pygments_lexer": "ipython3",
      "version": "3.9.0"
    },
    "colab": {
      "name": "B4.ipynb",
      "provenance": []
    }
  },
  "cells": [
    {
      "cell_type": "code",
      "metadata": {
        "id": "VNZxMRpF196o"
      },
      "source": [
        "import numpy as np\n",
        "import matplotlib.pyplot as plt\n",
        "from sklearn import preprocessing\n",
        "from scipy import sparse\n",
        "from tqdm import tqdm"
      ],
      "execution_count": null,
      "outputs": []
    },
    {
      "cell_type": "code",
      "metadata": {
        "id": "N3FeAH7o2CmG"
      },
      "source": [
        ""
      ],
      "execution_count": null,
      "outputs": []
    },
    {
      "cell_type": "code",
      "metadata": {
        "id": "sKFu9JZH1964"
      },
      "source": [
        "iris = np.genfromtxt('iris_full.csv', delimiter=',', skip_header=1)\n",
        "D = 4 # dimensionality\n",
        "K = 3 # number of classes\n",
        "X = iris[:, 0:D]\n",
        "y = iris[:, D].astype('uint8')\n",
        "\n",
        "X = np.concatenate((np.ones((X.shape[0], 1)), X), axis=1).T\n",
        "Y = sparse.coo_matrix((np.ones_like(y), (y, np.arange(len(y)))), shape = (K, len(y))).toarray()\n",
        "theta = np.random.randn(D+1, K)\n",
        "learning_rate = 0.001\n",
        "losses = []\n",
        "num_iter = 1000\n",
        "for epoch in range(num_iter):\n",
        "    scores = np.dot(theta.T, X)\n",
        "    exp_scores = np.exp(scores)\n",
        "    probs = exp_scores / np.sum(exp_scores, axis=0)\n",
        "    \n",
        "    loss = -np.sum(Y *np.log(probs))\n",
        "    losses.append(loss)\n",
        "    \n",
        "    dtheta = X @ (probs - Y).T\n",
        "\n",
        "    theta += -learning_rate *dtheta"
      ],
      "execution_count": null,
      "outputs": []
    },
    {
      "cell_type": "code",
      "metadata": {
        "id": "BiFYtnit1967"
      },
      "source": [
        "x_axis = range(len(losses))\n",
        "plt.plot(x_axis,losses, color=\"r\")\n",
        "plt.show()\n",
        "\n",
        "# evaluate training set accuracy\n",
        "scores = np.dot(theta.T, X)\n",
        "predicted_class = np.argmax(scores, axis=0)\n",
        "print('Training accuracy: %.2f' % (np.mean(predicted_class == y)))"
      ],
      "execution_count": null,
      "outputs": []
    },
    {
      "cell_type": "code",
      "metadata": {
        "id": "a-k7RDGO1968"
      },
      "source": [
        "iris = np.genfromtxt('iris_full.csv', delimiter=',', skip_header=1)\n",
        "D = 4 # dimensionality\n",
        "K = 3 # number of classes\n",
        "X = iris[:, 0:D]\n",
        "y = iris[:, D].astype('uint8')\n",
        "X = preprocessing.normalize(X)\n",
        "\n",
        "X = np.concatenate((np.ones((X.shape[0], 1)), X), axis=1).T\n",
        "Y = sparse.coo_matrix((np.ones_like(y), (y, np.arange(len(y)))), shape = (K, len(y))).toarray()\n",
        "theta = np.random.randn(D+1, K)\n",
        "losses = []\n",
        "\n",
        "num_examples = X.shape[1]\n",
        "learning_rate = 0.0001"
      ],
      "execution_count": null,
      "outputs": []
    },
    {
      "cell_type": "code",
      "metadata": {
        "id": "gxaFMkjZ1969"
      },
      "source": [
        "num_iter = 10000\n",
        "for epoch in tqdm(range(num_iter)):\n",
        "    for i in range(num_examples):\n",
        "        xi = X[:, i:i+1]\n",
        "        yi = Y[:, i:i+1]\n",
        "\n",
        "        scores = np.dot(theta.T, xi)\n",
        "        exp_scores = np.exp(scores - np.max(scores))\n",
        "        probs = exp_scores / np.sum(exp_scores, axis=0)\n",
        "\n",
        "        loss = -np.sum(yi * np.log(probs))\n",
        "        losses.append(loss)\n",
        "\n",
        "        dtheta = xi @ (probs - yi).T\n",
        "\n",
        "        theta += -learning_rate *dtheta"
      ],
      "execution_count": null,
      "outputs": []
    },
    {
      "cell_type": "code",
      "metadata": {
        "id": "jxqyTXiI196_"
      },
      "source": [
        "x_axis = range(len(losses))\n",
        "plt.plot(x_axis ,losses, color=\"r\")\n",
        "plt.show()\n",
        "\n",
        "# evaluate training set accuracy\n",
        "scores = np.dot(theta.T, X)\n",
        "predicted_class = np.argmax(scores, axis=0)\n",
        "print('Training accuracy: %.2f' % (np.mean(predicted_class == y)))"
      ],
      "execution_count": null,
      "outputs": []
    },
    {
      "cell_type": "code",
      "metadata": {
        "id": "Cq3rZ_25196_"
      },
      "source": [
        ""
      ],
      "execution_count": null,
      "outputs": []
    }
  ]
}