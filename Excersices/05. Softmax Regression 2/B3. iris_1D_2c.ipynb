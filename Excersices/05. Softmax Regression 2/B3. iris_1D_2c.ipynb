{
  "nbformat": 4,
  "nbformat_minor": 0,
  "metadata": {
    "kernelspec": {
      "display_name": "Python 3",
      "language": "python",
      "name": "python3"
    },
    "language_info": {
      "codemirror_mode": {
        "name": "ipython",
        "version": 3
      },
      "file_extension": ".py",
      "mimetype": "text/x-python",
      "name": "python",
      "nbconvert_exporter": "python",
      "pygments_lexer": "ipython3",
      "version": "3.9.0"
    },
    "colab": {
      "name": "B3.ipynb",
      "provenance": []
    }
  },
  "cells": [
    {
      "cell_type": "code",
      "metadata": {
        "id": "CtTM-p4019t0"
      },
      "source": [
        "import numpy as np\n",
        "import matplotlib.pyplot as plt\n",
        "from sklearn import preprocessing\n",
        "from scipy import sparse"
      ],
      "execution_count": null,
      "outputs": []
    },
    {
      "cell_type": "code",
      "metadata": {
        "id": "g4Q1c5Vd19uA"
      },
      "source": [
        ""
      ],
      "execution_count": null,
      "outputs": []
    },
    {
      "cell_type": "code",
      "metadata": {
        "id": "RzrKBezv19uB"
      },
      "source": [
        "D = 1 # dimensionality\n",
        "K = 2 # number of classes\n",
        "\n",
        "theta = np.random.randn(D+1, K)\n",
        "\n",
        "iris = np.genfromtxt('iris_1D_2c.csv', delimiter=',', skip_header=1) \n",
        "X = iris[:, 0:1]\n",
        "y = iris[:, 1]\n",
        "y = y.astype('uint8')\n",
        "\n",
        "intercept = np.ones((X.shape[0], 1))\n",
        "X = np.concatenate((intercept, X), axis=1)\n",
        "X = X.T\n",
        "\n",
        "D = 1 # dimensionality\n",
        "K = 2 # number of classes\n",
        "Y = sparse.coo_matrix((np.ones_like(y), (y, np.arange(len(y)))), shape = (K, len(y))).toarray()\n",
        "\n",
        "theta = np.random.randn(D+1, K)\n",
        "\n",
        "# gradient descent loop\n",
        "num_examples = X.shape[1]\n",
        "learning_rate = 0.1\n",
        "losses = []\n",
        "num_iter = 100\n",
        "for epoch in range(num_iter):\n",
        "    # evaluate class scores\n",
        "    scores = np.dot(theta.T, X)\n",
        "\n",
        "    #compute the class probabilities\n",
        "    exp_scores = np.exp(scores)\n",
        "    probs = exp_scores / np.sum(exp_scores, axis=0)\n",
        "    \n",
        "    # compute the loss\n",
        "    loss = -np.sum(Y *np.log(probs))\n",
        "    losses.append(loss)\n",
        "    \n",
        "    dtheta = X @ (probs - Y).T\n",
        "\n",
        "    # perform a parameter update\n",
        "    theta += -learning_rate *dtheta"
      ],
      "execution_count": null,
      "outputs": []
    },
    {
      "cell_type": "code",
      "metadata": {
        "id": "aKAPW3Ak19uD",
        "outputId": "210b4e0a-764a-472f-e75c-4b0a6ee8d7c0"
      },
      "source": [
        "x_axis = range(len(losses))\n",
        "plt.plot(x_axis,losses, color=\"r\")\n",
        "plt.show()"
      ],
      "execution_count": null,
      "outputs": [
        {
          "output_type": "display_data",
          "data": {
            "image/png": "[encoded data removed]",
            "text/plain": [
              "<Figure size 432x288 with 1 Axes>"
            ]
          },
          "metadata": {
            "tags": [],
            "needs_background": "light"
          }
        }
      ]
    },
    {
      "cell_type": "code",
      "metadata": {
        "id": "NbWW9dSp19uF"
      },
      "source": [
        ""
      ],
      "execution_count": null,
      "outputs": []
    },
    {
      "cell_type": "code",
      "metadata": {
        "id": "gVOFdNCB19uF"
      },
      "source": [
        "iris = np.genfromtxt('iris_1D_2c.csv', dtype=None, delimiter=',', skip_header=1) \n",
        "X = iris[:, 0:1]\n",
        "y = iris[:, 1]\n",
        "y = y.astype('uint8')\n",
        "\n",
        "intercept = np.ones((X.shape[0], 1))\n",
        "X = np.concatenate((intercept, X), axis=1)\n",
        "\n",
        "D = 1 # dimensionality\n",
        "K = 2 # number of classes\n",
        "\n",
        "theta = np.random.randn(D+1, K)\n",
        "Y = sparse.coo_matrix((np.ones_like(y), (y, np.arange(len(y)))), shape = (K, len(y))).toarray()\n",
        "\n",
        "# gradient descent loop\n",
        "num_examples = X.shape[0]\n",
        "learning_rate = 0.1\n",
        "\n",
        "losses = []\n",
        "num_iter = 1000\n",
        "for epoch in range(num_iter):\n",
        "    for i in range(num_examples):\n",
        "        xi = X[i:i+1]\n",
        "        xi = xi.T\n",
        "        yi = Y[:, i:i+1]\n",
        "\n",
        "        # evaluate class scores\n",
        "        scores = np.dot(theta.T, xi)\n",
        "\n",
        "        #compute the class probabilities\n",
        "        exp_scores = np.exp(scores)\n",
        "        probs = exp_scores / np.sum(exp_scores, axis=0)\n",
        "\n",
        "        # compute the loss\n",
        "        loss = -np.sum(yi * np.log(probs))\n",
        "        losses.append(loss)\n",
        "\n",
        "        dtheta = xi @ (probs - yi).T\n",
        "\n",
        "        # perform a parameter update\n",
        "        theta += -learning_rate *dtheta"
      ],
      "execution_count": null,
      "outputs": []
    },
    {
      "cell_type": "code",
      "metadata": {
        "id": "GCR45yTJ19uH",
        "outputId": "f92a7a81-0149-46f4-9bca-df3079d4dfb6"
      },
      "source": [
        "x_axis = range(len(losses))\n",
        "plt.plot(x_axis,losses, color=\"r\")\n",
        "plt.show()\n",
        "\n",
        "# evaluate training set accuracy\n",
        "scores = np.dot(theta.T, X.T)\n",
        "predicted_class = np.argmax(scores, axis=0)\n",
        "print('Training accuracy: %.2f' % (np.mean(predicted_class == y)))"
      ],
      "execution_count": null,
      "outputs": [
        {
          "output_type": "display_data",
          "data": {
            "image/png": "[encoded data removed]",
            "text/plain": [
              "<Figure size 432x288 with 1 Axes>"
            ]
          },
          "metadata": {
            "tags": [],
            "needs_background": "light"
          }
        },
        {
          "output_type": "stream",
          "text": [
            "Training accuracy: 1.00\n"
          ],
          "name": "stdout"
        }
      ]
    },
    {
      "cell_type": "code",
      "metadata": {
        "id": "9OPs--QQ19uK"
      },
      "source": [
        ""
      ],
      "execution_count": null,
      "outputs": []
    }
  ]
}